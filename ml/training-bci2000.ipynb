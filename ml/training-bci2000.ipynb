{
 "cells": [
  {
   "cell_type": "code",
   "execution_count": 64,
   "metadata": {},
   "outputs": [],
   "source": [
    "import pandas as pd\n",
    "import numpy as np\n",
    "import json\n",
    "import matplotlib.pyplot as plt\n",
    "from scipy.io import loadmat\n",
    "from scipy import signal\n",
    "from scipy.integrate import simps\n",
    "import numpy as np\n",
    "\n",
    "from sklearn.pipeline import Pipeline\n",
    "from sklearn.discriminant_analysis import LinearDiscriminantAnalysis\n",
    "from sklearn.model_selection import learning_curve, ShuffleSplit, cross_val_score, train_test_split, StratifiedShuffleSplit\n",
    "from sklearn.linear_model import LogisticRegression, SGDClassifier\n",
    "from sklearn.metrics import confusion_matrix, ConfusionMatrixDisplay, accuracy_score, classification_report, roc_auc_score\n",
    "from sklearn.preprocessing import StandardScaler\n",
    "\n",
    "from mne import Epochs, pick_types, events_from_annotations, EpochsArray, create_info\n",
    "from mne.channels import make_standard_montage\n",
    "from mne.io import concatenate_raws, read_raw_edf\n",
    "from mne.datasets import eegbci\n",
    "from mne.decoding import CSP\n",
    "from mne.time_frequency import psd_array_welch, psd_array_multitaper, stft\n",
    "import seaborn as sns\n",
    "from tqdm import tqdm"
   ]
  },
  {
   "cell_type": "code",
   "execution_count": null,
   "metadata": {},
   "outputs": [],
   "source": [
    "# torch/fastai\n",
    "\n",
    "import snntorch as snn\n",
    "import sys\n",
    "import sklearn as sk\n",
    "import platform\n",
    "import torch.nn as nn\n",
    "from torch.utils.data import TensorDataset, DataLoader\n",
    "from fastai.tabular.all import *\n",
    "\n",
    "from IPython.display import clear_output, DisplayHandle\n",
    "def update_patch(self, obj):\n",
    "    clear_output(wait=True)\n",
    "    self.display(obj)\n",
    "DisplayHandle.update = update_patch\n",
    "\n",
    "has_gpu = torch.cuda.is_available()\n",
    "has_mps = getattr(torch,'has_mps',False)\n",
    "device = \"mps\" if getattr(torch,'has_mps',False) \\\n",
    "    else \"gpu\" if torch.cuda.is_available() else \"cpu\"\n",
    "default_device(torch.device(device))\n",
    "\n",
    "print(f\"Python Platform: {platform.platform()}\")\n",
    "print(f\"PyTorch Version: {torch.__version__}\")\n",
    "print()\n",
    "print(f\"Python {sys.version}\")\n",
    "print(f\"Pandas {pd.__version__}\")\n",
    "print(f\"Scikit-Learn {sk.__version__}\")\n",
    "print(\"GPU is\", \"available\" if has_gpu else \"NOT AVAILABLE\")\n",
    "print(\"MPS (Apple Metal) is\", \"AVAILABLE\" if has_mps else \"NOT AVAILABLE\")\n",
    "print(f\"Target device is {device}\")"
   ]
  },
  {
   "cell_type": "code",
   "execution_count": 2,
   "metadata": {},
   "outputs": [
    {
     "name": "stdout",
     "output_type": "stream",
     "text": [
      "Python Platform: macOS-13.3.1-arm64-arm-64bit\n",
      "Tensor Flow Version: 2.9.0\n",
      "Keras Version: 2.9.0\n",
      "\n",
      "Python 3.9.15 | packaged by conda-forge | (main, Nov 22 2022, 08:48:25) \n",
      "[Clang 14.0.6 ]\n",
      "Pandas 1.5.2\n",
      "Scikit-Learn 1.2.0\n",
      "GPU is available\n"
     ]
    }
   ],
   "source": [
    "# keras/tensorflow\n",
    "\n",
    "import sys\n",
    "import tensorflow.keras as keras\n",
    "import pandas as pd\n",
    "import sklearn as sk\n",
    "import tensorflow as tf\n",
    "import platform\n",
    "\n",
    "print(f\"Python Platform: {platform.platform()}\")\n",
    "print(f\"Tensor Flow Version: {tf.__version__}\")\n",
    "print(f\"Keras Version: {keras.__version__}\")\n",
    "print()\n",
    "print(f\"Python {sys.version}\")\n",
    "print(f\"Pandas {pd.__version__}\")\n",
    "print(f\"Scikit-Learn {sk.__version__}\")\n",
    "gpu = len(tf.config.list_physical_devices('GPU'))>0\n",
    "print(\"GPU is\", \"available\" if gpu else \"NOT AVAILABLE\")"
   ]
  },
  {
   "cell_type": "code",
   "execution_count": 65,
   "metadata": {},
   "outputs": [],
   "source": [
    "# load batch_stft.npy and train_idx.npy\n",
    "# reconstructed_stft = np.load('preprocessed_data/reconstructed_stft.npy')\n",
    "source_stft = np.load('preprocessed_data/source_stft.npy')\n",
    "train_idx = np.load('preprocessed_data/train_idx.npy')\n",
    "val_idx = np.load('preprocessed_data/val_idx.npy')\n",
    "test_idx = np.load('preprocessed_data/test_idx.npy')\n",
    "labels = np.load('preprocessed_data/labels.npy')\n",
    "freqs = np.load('preprocessed_data/freq.npy')\n",
    "times = np.load('preprocessed_data/time.npy')\n",
    "\n"
   ]
  },
  {
   "cell_type": "code",
   "execution_count": 66,
   "metadata": {},
   "outputs": [
    {
     "name": "stdout",
     "output_type": "stream",
     "text": [
      "(3725, 4, 81)\n",
      "(3725,)\n"
     ]
    }
   ],
   "source": [
    "train_stft = source_stft[train_idx]\n",
    "val_stft = source_stft[val_idx]\n",
    "test_stft = source_stft[test_idx]\n",
    "# train_stft = reconstructed_stft[train_idx]\n",
    "# val_stft = reconstructed_stft[val_idx]\n",
    "\n",
    "y_train = labels[train_idx]\n",
    "y_val = labels[val_idx]\n",
    "y_test = labels[test_idx]\n",
    "\n",
    "welch_train = np.mean(train_stft, axis=3)\n",
    "welch_val = np.mean(val_stft, axis=3)\n",
    "welch_test = np.mean(test_stft, axis=3)\n",
    "\n",
    "print(welch_train.shape)\n",
    "print(y_train.shape)"
   ]
  },
  {
   "cell_type": "code",
   "execution_count": null,
   "metadata": {},
   "outputs": [],
   "source": [
    "scaling_factor = 1e6\n",
    "f = 10\n",
    "train_flat = np.moveaxis(welch_train[:, :, :f], 1, 0).reshape(4, -1)\n",
    "labels_flat = (y_train.reshape(-1, 1) * np.ones((1, f))).flatten() \n",
    "\n",
    "i = 0\n",
    "j = 3\n",
    "plt.figure(figsize=(8, 8))\n",
    "plt.scatter(train_flat[i, :]*scaling_factor, train_flat[j, :]*scaling_factor, c=labels_flat[:], cmap='bwr')\n",
    "\n",
    "# Add labels and a title\n",
    "plt.xlabel('Component {}, {} hz power'.format(i, freqs[f]))\n",
    "plt.ylabel('Component {}, {} hz power'.format(j, freqs[f]))\n",
    "plt.title('Scatter plot of Component-wise power')\n",
    "\n",
    "plt.show();"
   ]
  },
  {
   "cell_type": "code",
   "execution_count": 67,
   "metadata": {},
   "outputs": [],
   "source": [
    "# numerical integration over PSD as a means of dim reduction and calculating band powers\n",
    "# bandpower is calculated using the non-log-transformed PSD\n",
    "\n",
    "def abs_band_power(low, high, freqs, psd):\n",
    "    freq_res = freqs[1] - freqs[0]\n",
    "    idx_band = np.logical_and(freqs >= low, freqs <= high)\n",
    "    return simps(psd[:, :, idx_band], dx=freq_res)\n",
    "\n",
    "def rel_band_power(low, high, freqs, psd):\n",
    "    freq_res = freqs[1] - freqs[0]\n",
    "    idx_band = np.logical_and(freqs >= low, freqs <= high)\n",
    "    return simps(psd[:, :, idx_band], dx=freq_res) / simps(psd, dx=freq_res)\n",
    "\n",
    "def featurize(welch, freqs, times, log=True):\n",
    "    welch = 10**(welch/10) if log else welch\n",
    "    mu = abs_band_power(7, 12, freqs, welch)\n",
    "    beta = abs_band_power(13, 30, freqs, welch)\n",
    "    mu_beta_ratio = mu / beta\n",
    "    rel_mu = rel_band_power(7, 12, freqs, welch)\n",
    "    rel_beta = rel_band_power(13, 30, freqs, welch)\n",
    "    return np.concatenate([mu, beta, mu_beta_ratio, rel_mu, rel_beta], axis=1)\n",
    "\n",
    "def featurize_log(welch, freqs, times): # no need for rel band power, powers are already relative to total in log space\n",
    "    mu = abs_band_power(7, 12, freqs, welch)\n",
    "    beta = abs_band_power(13, 30, freqs, welch)\n",
    "    mu_beta_ratio = mu / beta\n",
    "    return np.concatenate([mu, beta, mu_beta_ratio], axis=1)\n",
    "    \n"
   ]
  },
  {
   "cell_type": "code",
   "execution_count": 68,
   "metadata": {},
   "outputs": [
    {
     "name": "stdout",
     "output_type": "stream",
     "text": [
      "(3725, 92)\n",
      "(466, 92)\n",
      "(466, 92)\n"
     ]
    }
   ],
   "source": [
    "# fit mean and std for normalization on all data\n",
    "# welch_all = np.mean(source_stft, axis=3)[:, :, np.logical_and(freqs >= 8, freqs <= 30)]\n",
    "# welch_all = welch_all.reshape(welch_all.shape[0], -1)\n",
    "# print(welch_all.shape)\n",
    "scaler = StandardScaler() # only fit on training data to avoid data leakage\n",
    "# scaler.fit(welch_all)\n",
    "\n",
    "# log psd features in sensorimotor range\n",
    "X_train = welch_train[:, :, np.logical_and(freqs >= 8, freqs <= 30)]\n",
    "X_train = scaler.fit_transform(X_train.reshape(X_train.shape[0], -1))\n",
    "print(X_train.shape)\n",
    "\n",
    "X_val = welch_val[:, :, np.logical_and(freqs >= 8, freqs <= 30)]\n",
    "X_val = scaler.transform(X_val.reshape(X_val.shape[0], -1))\n",
    "print(X_val.shape)\n",
    "\n",
    "X_test = welch_test[:, :, np.logical_and(freqs >= 8, freqs <= 30)]\n",
    "X_test = scaler.transform(X_test.reshape(X_test.shape[0], -1))\n",
    "print(X_test.shape)\n",
    "\n",
    "# band power features\n",
    "# features_train = featurize(welch_train, freqs, times)\n",
    "# X_train = scaler.fit_transform(features_train)\n",
    "\n",
    "# features_val = featurize(welch_val, freqs, times)\n",
    "# X_val = scaler.fit_transform(features_val)\n",
    "\n",
    "# print(X_train.shape)\n",
    "# print(X_val.shape)\n",
    "\n",
    "# # shuffle split the remaining data between test and validation\n",
    "# sss = StratifiedShuffleSplit(n_splits=1, test_size=0.5, random_state=42)\n",
    "# test_idx, val_idx = next(sss.split(source_stft[~train_idx], labels[~train_idx]))\n",
    "\n"
   ]
  },
  {
   "cell_type": "code",
   "execution_count": 96,
   "metadata": {},
   "outputs": [],
   "source": [
    "# export test idx\n",
    "np.save('preprocessed_data/test_idx.npy', test_idx)"
   ]
  },
  {
   "attachments": {},
   "cell_type": "markdown",
   "metadata": {},
   "source": [
    "# Logistic Regression Prelim Tests"
   ]
  },
  {
   "cell_type": "code",
   "execution_count": 11,
   "metadata": {},
   "outputs": [
    {
     "name": "stdout",
     "output_type": "stream",
     "text": [
      "              precision    recall  f1-score   support\n",
      "\n",
      "           0       0.65      0.64      0.64       237\n",
      "           1       0.63      0.65      0.64       229\n",
      "\n",
      "    accuracy                           0.64       466\n",
      "   macro avg       0.64      0.64      0.64       466\n",
      "weighted avg       0.64      0.64      0.64       466\n",
      "\n",
      "ROC AUC: 0.6417095056473753\n"
     ]
    },
    {
     "data": {
      "image/png": "[encoded data removed]",
      "text/plain": [
       "<Figure size 640x480 with 2 Axes>"
      ]
     },
     "metadata": {},
     "output_type": "display_data"
    }
   ],
   "source": [
    "# train logistic regression model\n",
    "\n",
    "# Fit a logistic regression model\n",
    "clf = LogisticRegression(solver='lbfgs', max_iter=1000)\n",
    "clf.fit(X_train, y_train)\n",
    "\n",
    "# Predict the labels for the test set\n",
    "y_pred = clf.predict(X_val)\n",
    "\n",
    "# Compute accuracy score\n",
    "# accuracy = accuracy_score(y_val, y_pred)\n",
    "confusion = confusion_matrix(y_val, y_pred)\n",
    "class_report = classification_report(y_val, y_pred)\n",
    "roc = roc_auc_score(y_val, y_pred)\n",
    "\n",
    "# print('Accuracy:', accuracy)\n",
    "print(class_report)\n",
    "print('ROC AUC:', roc)\n",
    "ConfusionMatrixDisplay(confusion).plot();\n",
    "\n",
    "\n"
   ]
  },
  {
   "cell_type": "code",
   "execution_count": 127,
   "metadata": {},
   "outputs": [
    {
     "data": {
      "image/png": "[encoded data removed]",
      "text/plain": [
       "<Figure size 640x480 with 1 Axes>"
      ]
     },
     "metadata": {},
     "output_type": "display_data"
    }
   ],
   "source": [
    "# create a logistic regression classifier\n",
    "# clf = LogisticRegression(solver='lbfgs', max_iter=1000)\n",
    "\n",
    "# merge train and val \n",
    "X = np.concatenate((X_train, X_val))\n",
    "y = np.concatenate((y_train, y_val))\n",
    "\n",
    "# set the common parameters for learning curve\n",
    "common_params = {\n",
    "    \"estimator\": clf,\n",
    "    \"X\": X,\n",
    "    \"y\": y,\n",
    "    \"train_sizes\": np.linspace(0.1, 1.0, 5),\n",
    "    \"cv\": ShuffleSplit(n_splits=50, test_size=0.125, random_state=0), # 10% of overall data used for validation\n",
    "    \"n_jobs\": -1,\n",
    "    \"shuffle\": True,\n",
    "}\n",
    "\n",
    "# calculate the learning curve scores\n",
    "train_sizes, train_scores, test_scores = learning_curve(**common_params)\n",
    "\n",
    "# plot the learning curve\n",
    "plt.figure()\n",
    "plt.title(\"Learning Curve (Logistic Regression)\")\n",
    "plt.xlabel(\"Training Examples\")\n",
    "plt.ylabel(\"Score\")\n",
    "\n",
    "train_scores_mean = np.mean(train_scores, axis=1)\n",
    "train_scores_std = np.std(train_scores, axis=1)\n",
    "test_scores_mean = np.mean(test_scores, axis=1)\n",
    "test_scores_std = np.std(test_scores, axis=1)\n",
    "\n",
    "plt.grid()\n",
    "plt.fill_between(train_sizes, train_scores_mean - train_scores_std, train_scores_mean + train_scores_std, alpha=0.1, color=\"r\")\n",
    "plt.fill_between(train_sizes, test_scores_mean - test_scores_std, test_scores_mean + test_scores_std, alpha=0.1, color=\"g\")\n",
    "plt.plot(train_sizes, train_scores_mean, 'o-', color=\"r\", label=\"Training score\")\n",
    "plt.plot(train_sizes, test_scores_mean, 'o-', color=\"g\", label=\"Cross-validation score\")\n",
    "\n",
    "plt.legend(loc=\"best\")\n",
    "plt.show()\n"
   ]
  },
  {
   "cell_type": "code",
   "execution_count": 128,
   "metadata": {},
   "outputs": [
    {
     "name": "stdout",
     "output_type": "stream",
     "text": [
      "0.6188931297709924\n"
     ]
    }
   ],
   "source": [
    "print(np.mean(test_scores[-1]))"
   ]
  },
  {
   "cell_type": "code",
   "execution_count": 129,
   "metadata": {},
   "outputs": [
    {
     "name": "stdout",
     "output_type": "stream",
     "text": [
      "(6724, 92)\n",
      "(82, 82)\n"
     ]
    },
    {
     "data": {
      "image/png": "[encoded data removed]",
      "text/plain": [
       "<Figure size 640x480 with 1 Axes>"
      ]
     },
     "metadata": {},
     "output_type": "display_data"
    }
   ],
   "source": [
    "# Extract the coefficients and intercept of the logistic regression model\n",
    "coef = clf.coef_.ravel()\n",
    "intercept = clf.intercept_ \n",
    "\n",
    "# Select two features to plot the decision boundary\n",
    "i = 0\n",
    "j = 10\n",
    "\n",
    "# Create a grid of points to evaluate the decision boundary\n",
    "xmin, xmax = X[:, i].min() - 1, X[:, i].max() + 1\n",
    "ymin, ymax = X[:, j].min() - 1, X[:, j].max() + 1\n",
    "xx, yy = np.meshgrid(np.arange(xmin, xmax, 0.1), np.arange(ymin, ymax, 0.1))\n",
    "\n",
    "# Create input vector for model\n",
    "# Fill with zeros for features that are not i or j\n",
    "X_pred = np.zeros((len(xx.ravel()), X_train.shape[1]))\n",
    "X_pred[:, i] = xx.ravel()\n",
    "X_pred[:, j] = yy.ravel()\n",
    "print(X_pred.shape)\n",
    "\n",
    "Z = clf.predict(X_pred)\n",
    "# Reshape the predictions to match the shape of the meshgrid\n",
    "Z = Z.reshape(xx.shape)\n",
    "print(Z.shape)\n",
    "\n",
    "# Plot the decision boundary and the training data\n",
    "plt.contourf(xx, yy, Z, alpha=0.4)\n",
    "plt.scatter(X[:, i], X[:, j], c=y, alpha=0.8)\n",
    "plt.xlabel('Feature {}'.format(i))\n",
    "plt.ylabel('Feature {}'.format(j))\n",
    "plt.title('Logistic Regression Decision Boundary')\n",
    "plt.show()\n",
    "\n"
   ]
  },
  {
   "cell_type": "code",
   "execution_count": 130,
   "metadata": {},
   "outputs": [
    {
     "name": "stdout",
     "output_type": "stream",
     "text": [
      "(4191, 2)\n"
     ]
    },
    {
     "data": {
      "image/png": "[encoded data removed]",
      "text/plain": [
       "<Figure size 640x480 with 2 Axes>"
      ]
     },
     "metadata": {},
     "output_type": "display_data"
    }
   ],
   "source": [
    "import numpy as np\n",
    "import matplotlib.pyplot as plt\n",
    "from sklearn.linear_model import LogisticRegression\n",
    "from sklearn.datasets import make_classification\n",
    "\n",
    "# build data from 2 features\n",
    "i = 0\n",
    "j = 10\n",
    "X_ij = X[:, [i, j]]\n",
    "print(X_ij.shape)\n",
    "\n",
    "# Fit the logistic regression model to the training set\n",
    "clf = LogisticRegression().fit(X_ij, y)\n",
    "\n",
    "# Create a meshgrid of feature values\n",
    "h = 0.02  # step size in the mesh\n",
    "x_min, x_max = X_ij[:, 0].min() - 0.5, X_ij[:, 0].max() + 0.5\n",
    "y_min, y_max = X_ij[:, 1].min() - 0.5, X_ij[:, 1].max() + 0.5\n",
    "xx, yy = np.meshgrid(np.arange(x_min, x_max, h), np.arange(y_min, y_max, h))\n",
    "\n",
    "# Calculate predicted probabilities for each point in the meshgrid\n",
    "Z = clf.predict_proba(np.c_[xx.ravel(), yy.ravel()])[:, 1]\n",
    "Z = Z.reshape(xx.shape)\n",
    "\n",
    "# Plot the probability distribution contour\n",
    "plt.figure()\n",
    "plt.contourf(xx, yy, Z, cmap=plt.cm.coolwarm, alpha=0.8)\n",
    "plt.colorbar()\n",
    "\n",
    "# Plot the training set points\n",
    "plt.scatter(X_ij[:, 0], X_ij[:, 1], c=y, cmap=plt.cm.coolwarm)\n",
    "plt.xlabel('Feature {}'.format(i))\n",
    "plt.ylabel('Feature {}'.format(j))\n",
    "plt.title('Logistic Regression Probability Distribution Contour')\n",
    "plt.show()\n"
   ]
  },
  {
   "attachments": {},
   "cell_type": "markdown",
   "metadata": {},
   "source": [
    "Verdict: Log reg alone sucks as expected, pretty much dummy classifier level."
   ]
  },
  {
   "attachments": {},
   "cell_type": "markdown",
   "metadata": {},
   "source": [
    "# Single Linear Layer NN Test\n",
    "Basic linear layer followed by a sigmoid \n"
   ]
  },
  {
   "attachments": {},
   "cell_type": "markdown",
   "metadata": {},
   "source": [
    "## Fastai Approach 1 (pytorch net)"
   ]
  },
  {
   "cell_type": "code",
   "execution_count": 25,
   "metadata": {},
   "outputs": [],
   "source": [
    "# create a tensor dataset from the numpy arrays\n",
    "train_ds = TensorDataset(torch.from_numpy(X_train).float(), torch.from_numpy(y_train).float().unsqueeze(1))\n",
    "valid_ds = TensorDataset(torch.from_numpy(X_val).float(), torch.from_numpy(y_val).float().unsqueeze(1))\n",
    "test_ds = TensorDataset(torch.from_numpy(X_test).float(), torch.from_numpy(y_test).float().unsqueeze(1))\n",
    "\n",
    "# create data loaders\n",
    "procs = [Normalize]\n",
    "y_block = CategoryBlock\n",
    "train_dl = DataLoader(train_ds, procs=procs, batch_size=128, shuffle=True)\n",
    "valid_dl = DataLoader(valid_ds, procs=procs, batch_size=64)\n",
    "# test_dl = DataLoader(test_ds, procs=procs, batch_size=64)\n",
    "\n",
    "# combine data loaders into a data bunch\n",
    "dls = DataLoaders(train_dl, valid_dl)\n",
    "\n",
    "# create TabularPandas object for train and validation set\n",
    "# train_tlp = TabularPandas(train_df, procs=procs, cat_names=cat_names, cont_names=cont_names, y_names=dep_var, splits=None)\n",
    "# valid_tlp = TabularPandas(valid_df, procs=procs, cat_names=cat_names, cont_names=cont_names, y_names=dep_var, splits=None)\n",
    "\n",
    "# # create DataLoader for train and validation set\n",
    "# train_dl = DataLoader(train_tlp, bs=64)\n",
    "# valid_dl = DataLoader(valid_tlp, bs=64)\n",
    "\n",
    "# # create dataloaders\n",
    "# dls = DataLoaders(train_dl, valid_dl)\n",
    "\n",
    "\n"
   ]
  },
  {
   "cell_type": "code",
   "execution_count": 26,
   "metadata": {},
   "outputs": [
    {
     "name": "stdout",
     "output_type": "stream",
     "text": [
      "torch.float32 torch.float32\n",
      "torch.Size([128, 92]) torch.Size([128, 1])\n",
      "tensor([[0.],\n",
      "        [1.],\n",
      "        [0.],\n",
      "        [0.],\n",
      "        [1.],\n",
      "        [1.],\n",
      "        [1.],\n",
      "        [0.],\n",
      "        [0.],\n",
      "        [1.],\n",
      "        [1.],\n",
      "        [0.],\n",
      "        [1.],\n",
      "        [1.],\n",
      "        [1.],\n",
      "        [0.],\n",
      "        [1.],\n",
      "        [0.],\n",
      "        [1.],\n",
      "        [0.],\n",
      "        [0.],\n",
      "        [0.],\n",
      "        [1.],\n",
      "        [0.],\n",
      "        [1.],\n",
      "        [0.],\n",
      "        [1.],\n",
      "        [0.],\n",
      "        [0.],\n",
      "        [1.],\n",
      "        [1.],\n",
      "        [0.],\n",
      "        [1.],\n",
      "        [0.],\n",
      "        [1.],\n",
      "        [1.],\n",
      "        [0.],\n",
      "        [0.],\n",
      "        [1.],\n",
      "        [0.],\n",
      "        [0.],\n",
      "        [0.],\n",
      "        [1.],\n",
      "        [1.],\n",
      "        [1.],\n",
      "        [0.],\n",
      "        [1.],\n",
      "        [1.],\n",
      "        [0.],\n",
      "        [0.],\n",
      "        [1.],\n",
      "        [1.],\n",
      "        [1.],\n",
      "        [1.],\n",
      "        [0.],\n",
      "        [0.],\n",
      "        [1.],\n",
      "        [1.],\n",
      "        [0.],\n",
      "        [0.],\n",
      "        [1.],\n",
      "        [1.],\n",
      "        [1.],\n",
      "        [0.],\n",
      "        [1.],\n",
      "        [0.],\n",
      "        [1.],\n",
      "        [1.],\n",
      "        [0.],\n",
      "        [0.],\n",
      "        [1.],\n",
      "        [1.],\n",
      "        [0.],\n",
      "        [1.],\n",
      "        [1.],\n",
      "        [1.],\n",
      "        [1.],\n",
      "        [0.],\n",
      "        [1.],\n",
      "        [0.],\n",
      "        [1.],\n",
      "        [0.],\n",
      "        [1.],\n",
      "        [0.],\n",
      "        [0.],\n",
      "        [0.],\n",
      "        [1.],\n",
      "        [1.],\n",
      "        [0.],\n",
      "        [0.],\n",
      "        [1.],\n",
      "        [0.],\n",
      "        [1.],\n",
      "        [1.],\n",
      "        [1.],\n",
      "        [0.],\n",
      "        [1.],\n",
      "        [1.],\n",
      "        [1.],\n",
      "        [0.],\n",
      "        [1.],\n",
      "        [1.],\n",
      "        [1.],\n",
      "        [0.],\n",
      "        [1.],\n",
      "        [0.],\n",
      "        [0.],\n",
      "        [0.],\n",
      "        [1.],\n",
      "        [0.],\n",
      "        [1.],\n",
      "        [1.],\n",
      "        [0.],\n",
      "        [1.],\n",
      "        [0.],\n",
      "        [1.],\n",
      "        [0.],\n",
      "        [0.],\n",
      "        [1.],\n",
      "        [1.],\n",
      "        [0.],\n",
      "        [1.],\n",
      "        [0.],\n",
      "        [0.],\n",
      "        [1.],\n",
      "        [1.],\n",
      "        [0.],\n",
      "        [0.]])\n"
     ]
    }
   ],
   "source": [
    "# combined_df.head()\n",
    "# dls.show_batch()\n",
    "batch = dls.one_batch()  \n",
    "print(batch[0].dtype, batch[1].dtype)\n",
    "print(batch[0].shape, batch[1].shape)\n",
    "# print(batch[1])"
   ]
  },
  {
   "cell_type": "code",
   "execution_count": 70,
   "metadata": {},
   "outputs": [],
   "source": [
    "# Define the neural network model\n",
    "class Net(nn.Module):\n",
    "    def __init__(self):\n",
    "        super(Net, self).__init__()\n",
    "        self.fc = nn.Linear(92, 1)\n",
    "        \n",
    "    def forward(self, x):\n",
    "        x = self.fc(x)\n",
    "        # y = nn.Sigmoid()(x)\n",
    "        return x\n",
    "\n",
    "def binary_acc(y_pred, y_test):\n",
    "    y_pred_tag = torch.round(torch.sigmoid(y_pred))\n",
    "\n",
    "    correct_results_sum = (y_pred_tag == y_test).sum().float()\n",
    "    acc = correct_results_sum/y_test.shape[0]\n",
    "    acc = torch.round(acc * 100)\n",
    "    \n",
    "    return acc\n",
    "# Create a learner object\n",
    "learn = Learner(dls, Net(), opt_func=SGD, loss_func=nn.BCEWithLogitsLoss(), metrics=binary_acc)\n"
   ]
  },
  {
   "cell_type": "code",
   "execution_count": 67,
   "metadata": {},
   "outputs": [
    {
     "data": {
      "text/html": [],
      "text/plain": [
       "<IPython.core.display.HTML object>"
      ]
     },
     "metadata": {},
     "output_type": "display_data"
    },
    {
     "data": {
      "image/png": "[encoded data removed]",
      "text/plain": [
       "<Figure size 640x480 with 1 Axes>"
      ]
     },
     "metadata": {},
     "output_type": "display_data"
    }
   ],
   "source": [
    "rates = learn.lr_find(suggest_funcs=(minimum, steep, valley, slide))\n",
    "lr = (rates.slide+rates.valley)/2"
   ]
  },
  {
   "cell_type": "code",
   "execution_count": 71,
   "metadata": {},
   "outputs": [
    {
     "data": {
      "text/html": [
       "<table border=\"1\" class=\"dataframe\">\n",
       "  <thead>\n",
       "    <tr style=\"text-align: left;\">\n",
       "      <th>epoch</th>\n",
       "      <th>train_loss</th>\n",
       "      <th>valid_loss</th>\n",
       "      <th>binary_acc</th>\n",
       "      <th>time</th>\n",
       "    </tr>\n",
       "  </thead>\n",
       "  <tbody>\n",
       "    <tr>\n",
       "      <td>0</td>\n",
       "      <td>0.724089</td>\n",
       "      <td>0.715266</td>\n",
       "      <td>49.892704</td>\n",
       "      <td>00:00</td>\n",
       "    </tr>\n",
       "    <tr>\n",
       "      <td>1</td>\n",
       "      <td>0.717441</td>\n",
       "      <td>0.713931</td>\n",
       "      <td>49.892704</td>\n",
       "      <td>00:00</td>\n",
       "    </tr>\n",
       "    <tr>\n",
       "      <td>2</td>\n",
       "      <td>0.720417</td>\n",
       "      <td>0.711985</td>\n",
       "      <td>49.892704</td>\n",
       "      <td>00:00</td>\n",
       "    </tr>\n",
       "    <tr>\n",
       "      <td>3</td>\n",
       "      <td>0.717115</td>\n",
       "      <td>0.709752</td>\n",
       "      <td>50.030045</td>\n",
       "      <td>00:00</td>\n",
       "    </tr>\n",
       "    <tr>\n",
       "      <td>4</td>\n",
       "      <td>0.716298</td>\n",
       "      <td>0.706886</td>\n",
       "      <td>49.892704</td>\n",
       "      <td>00:00</td>\n",
       "    </tr>\n",
       "    <tr>\n",
       "      <td>5</td>\n",
       "      <td>0.715546</td>\n",
       "      <td>0.703437</td>\n",
       "      <td>50.579399</td>\n",
       "      <td>00:00</td>\n",
       "    </tr>\n",
       "    <tr>\n",
       "      <td>6</td>\n",
       "      <td>0.712435</td>\n",
       "      <td>0.699830</td>\n",
       "      <td>50.716740</td>\n",
       "      <td>00:00</td>\n",
       "    </tr>\n",
       "    <tr>\n",
       "      <td>7</td>\n",
       "      <td>0.706940</td>\n",
       "      <td>0.696369</td>\n",
       "      <td>51.403435</td>\n",
       "      <td>00:00</td>\n",
       "    </tr>\n",
       "    <tr>\n",
       "      <td>8</td>\n",
       "      <td>0.704300</td>\n",
       "      <td>0.692898</td>\n",
       "      <td>53.145924</td>\n",
       "      <td>00:00</td>\n",
       "    </tr>\n",
       "    <tr>\n",
       "      <td>9</td>\n",
       "      <td>0.700988</td>\n",
       "      <td>0.690075</td>\n",
       "      <td>53.339054</td>\n",
       "      <td>00:00</td>\n",
       "    </tr>\n",
       "    <tr>\n",
       "      <td>10</td>\n",
       "      <td>0.696904</td>\n",
       "      <td>0.687877</td>\n",
       "      <td>54.120171</td>\n",
       "      <td>00:00</td>\n",
       "    </tr>\n",
       "    <tr>\n",
       "      <td>11</td>\n",
       "      <td>0.694176</td>\n",
       "      <td>0.685941</td>\n",
       "      <td>54.626610</td>\n",
       "      <td>00:00</td>\n",
       "    </tr>\n",
       "    <tr>\n",
       "      <td>12</td>\n",
       "      <td>0.692021</td>\n",
       "      <td>0.684540</td>\n",
       "      <td>55.450645</td>\n",
       "      <td>00:00</td>\n",
       "    </tr>\n",
       "    <tr>\n",
       "      <td>13</td>\n",
       "      <td>0.690671</td>\n",
       "      <td>0.683471</td>\n",
       "      <td>56.317596</td>\n",
       "      <td>00:00</td>\n",
       "    </tr>\n",
       "    <tr>\n",
       "      <td>14</td>\n",
       "      <td>0.688609</td>\n",
       "      <td>0.682769</td>\n",
       "      <td>56.836910</td>\n",
       "      <td>00:00</td>\n",
       "    </tr>\n",
       "    <tr>\n",
       "      <td>15</td>\n",
       "      <td>0.686648</td>\n",
       "      <td>0.682144</td>\n",
       "      <td>56.562233</td>\n",
       "      <td>00:00</td>\n",
       "    </tr>\n",
       "    <tr>\n",
       "      <td>16</td>\n",
       "      <td>0.684020</td>\n",
       "      <td>0.681534</td>\n",
       "      <td>57.167381</td>\n",
       "      <td>00:00</td>\n",
       "    </tr>\n",
       "    <tr>\n",
       "      <td>17</td>\n",
       "      <td>0.684206</td>\n",
       "      <td>0.680908</td>\n",
       "      <td>57.030045</td>\n",
       "      <td>00:00</td>\n",
       "    </tr>\n",
       "    <tr>\n",
       "      <td>18</td>\n",
       "      <td>0.683963</td>\n",
       "      <td>0.680277</td>\n",
       "      <td>56.343349</td>\n",
       "      <td>00:00</td>\n",
       "    </tr>\n",
       "    <tr>\n",
       "      <td>19</td>\n",
       "      <td>0.682797</td>\n",
       "      <td>0.679508</td>\n",
       "      <td>56.618027</td>\n",
       "      <td>00:00</td>\n",
       "    </tr>\n",
       "    <tr>\n",
       "      <td>20</td>\n",
       "      <td>0.682100</td>\n",
       "      <td>0.678950</td>\n",
       "      <td>56.480686</td>\n",
       "      <td>00:00</td>\n",
       "    </tr>\n",
       "    <tr>\n",
       "      <td>21</td>\n",
       "      <td>0.682452</td>\n",
       "      <td>0.678247</td>\n",
       "      <td>57.304722</td>\n",
       "      <td>00:00</td>\n",
       "    </tr>\n",
       "    <tr>\n",
       "      <td>22</td>\n",
       "      <td>0.682568</td>\n",
       "      <td>0.677558</td>\n",
       "      <td>57.579399</td>\n",
       "      <td>00:00</td>\n",
       "    </tr>\n",
       "    <tr>\n",
       "      <td>23</td>\n",
       "      <td>0.681732</td>\n",
       "      <td>0.676806</td>\n",
       "      <td>57.304722</td>\n",
       "      <td>00:00</td>\n",
       "    </tr>\n",
       "    <tr>\n",
       "      <td>24</td>\n",
       "      <td>0.679775</td>\n",
       "      <td>0.676156</td>\n",
       "      <td>57.716740</td>\n",
       "      <td>00:00</td>\n",
       "    </tr>\n",
       "    <tr>\n",
       "      <td>25</td>\n",
       "      <td>0.678963</td>\n",
       "      <td>0.675457</td>\n",
       "      <td>57.991417</td>\n",
       "      <td>00:00</td>\n",
       "    </tr>\n",
       "    <tr>\n",
       "      <td>26</td>\n",
       "      <td>0.678530</td>\n",
       "      <td>0.674941</td>\n",
       "      <td>57.991417</td>\n",
       "      <td>00:00</td>\n",
       "    </tr>\n",
       "    <tr>\n",
       "      <td>27</td>\n",
       "      <td>0.677580</td>\n",
       "      <td>0.674328</td>\n",
       "      <td>58.497852</td>\n",
       "      <td>00:00</td>\n",
       "    </tr>\n",
       "    <tr>\n",
       "      <td>28</td>\n",
       "      <td>0.676686</td>\n",
       "      <td>0.673588</td>\n",
       "      <td>58.815449</td>\n",
       "      <td>00:00</td>\n",
       "    </tr>\n",
       "    <tr>\n",
       "      <td>29</td>\n",
       "      <td>0.676803</td>\n",
       "      <td>0.672786</td>\n",
       "      <td>59.090130</td>\n",
       "      <td>00:00</td>\n",
       "    </tr>\n",
       "    <tr>\n",
       "      <td>30</td>\n",
       "      <td>0.675613</td>\n",
       "      <td>0.672336</td>\n",
       "      <td>58.952789</td>\n",
       "      <td>00:00</td>\n",
       "    </tr>\n",
       "    <tr>\n",
       "      <td>31</td>\n",
       "      <td>0.676374</td>\n",
       "      <td>0.671891</td>\n",
       "      <td>58.815449</td>\n",
       "      <td>00:00</td>\n",
       "    </tr>\n",
       "    <tr>\n",
       "      <td>32</td>\n",
       "      <td>0.676155</td>\n",
       "      <td>0.671219</td>\n",
       "      <td>59.090130</td>\n",
       "      <td>00:00</td>\n",
       "    </tr>\n",
       "    <tr>\n",
       "      <td>33</td>\n",
       "      <td>0.675119</td>\n",
       "      <td>0.670794</td>\n",
       "      <td>58.815449</td>\n",
       "      <td>00:00</td>\n",
       "    </tr>\n",
       "    <tr>\n",
       "      <td>34</td>\n",
       "      <td>0.675213</td>\n",
       "      <td>0.670218</td>\n",
       "      <td>58.952789</td>\n",
       "      <td>00:00</td>\n",
       "    </tr>\n",
       "    <tr>\n",
       "      <td>35</td>\n",
       "      <td>0.673480</td>\n",
       "      <td>0.669558</td>\n",
       "      <td>60.188843</td>\n",
       "      <td>00:00</td>\n",
       "    </tr>\n",
       "    <tr>\n",
       "      <td>36</td>\n",
       "      <td>0.672833</td>\n",
       "      <td>0.669119</td>\n",
       "      <td>59.776825</td>\n",
       "      <td>00:00</td>\n",
       "    </tr>\n",
       "    <tr>\n",
       "      <td>37</td>\n",
       "      <td>0.672391</td>\n",
       "      <td>0.668507</td>\n",
       "      <td>60.600857</td>\n",
       "      <td>00:00</td>\n",
       "    </tr>\n",
       "    <tr>\n",
       "      <td>38</td>\n",
       "      <td>0.674004</td>\n",
       "      <td>0.668270</td>\n",
       "      <td>60.557941</td>\n",
       "      <td>00:00</td>\n",
       "    </tr>\n",
       "    <tr>\n",
       "      <td>39</td>\n",
       "      <td>0.673402</td>\n",
       "      <td>0.667590</td>\n",
       "      <td>60.407726</td>\n",
       "      <td>00:00</td>\n",
       "    </tr>\n",
       "    <tr>\n",
       "      <td>40</td>\n",
       "      <td>0.672606</td>\n",
       "      <td>0.666953</td>\n",
       "      <td>60.133049</td>\n",
       "      <td>00:00</td>\n",
       "    </tr>\n",
       "    <tr>\n",
       "      <td>41</td>\n",
       "      <td>0.670784</td>\n",
       "      <td>0.666521</td>\n",
       "      <td>59.858368</td>\n",
       "      <td>00:00</td>\n",
       "    </tr>\n",
       "    <tr>\n",
       "      <td>42</td>\n",
       "      <td>0.670028</td>\n",
       "      <td>0.666101</td>\n",
       "      <td>59.583691</td>\n",
       "      <td>00:00</td>\n",
       "    </tr>\n",
       "    <tr>\n",
       "      <td>43</td>\n",
       "      <td>0.669643</td>\n",
       "      <td>0.665664</td>\n",
       "      <td>59.721031</td>\n",
       "      <td>00:00</td>\n",
       "    </tr>\n",
       "    <tr>\n",
       "      <td>44</td>\n",
       "      <td>0.668504</td>\n",
       "      <td>0.665160</td>\n",
       "      <td>60.270386</td>\n",
       "      <td>00:00</td>\n",
       "    </tr>\n",
       "    <tr>\n",
       "      <td>45</td>\n",
       "      <td>0.669294</td>\n",
       "      <td>0.664890</td>\n",
       "      <td>60.407726</td>\n",
       "      <td>00:00</td>\n",
       "    </tr>\n",
       "    <tr>\n",
       "      <td>46</td>\n",
       "      <td>0.669736</td>\n",
       "      <td>0.664546</td>\n",
       "      <td>60.545063</td>\n",
       "      <td>00:00</td>\n",
       "    </tr>\n",
       "    <tr>\n",
       "      <td>47</td>\n",
       "      <td>0.669560</td>\n",
       "      <td>0.664145</td>\n",
       "      <td>59.858368</td>\n",
       "      <td>00:00</td>\n",
       "    </tr>\n",
       "  </tbody>\n",
       "</table>"
      ],
      "text/plain": [
       "<IPython.core.display.HTML object>"
      ]
     },
     "metadata": {},
     "output_type": "display_data"
    }
   ],
   "source": [
    "\n",
    "# Train the model\n",
    "# learn.fit(100, lr, cbs=EarlyStoppingCallback(monitor='binary_acc', min_delta=0.0001, patience=10))\n",
    "learn.fit_one_cycle(100, cbs=EarlyStoppingCallback(monitor='binary_acc', min_delta=0.0001, patience=10))"
   ]
  },
  {
   "cell_type": "code",
   "execution_count": 72,
   "metadata": {},
   "outputs": [
    {
     "data": {
      "image/png": "[encoded data removed]",
      "text/plain": [
       "<Figure size 640x480 with 1 Axes>"
      ]
     },
     "metadata": {},
     "output_type": "display_data"
    }
   ],
   "source": [
    "learn.recorder.plot_loss()"
   ]
  },
  {
   "cell_type": "code",
   "execution_count": 73,
   "metadata": {},
   "outputs": [
    {
     "data": {
      "text/html": [],
      "text/plain": [
       "<IPython.core.display.HTML object>"
      ]
     },
     "metadata": {},
     "output_type": "display_data"
    },
    {
     "data": {
      "text/plain": [
       "Net (Input shape: 128 x 92)\n",
       "============================================================================\n",
       "Layer (type)         Output Shape         Param #    Trainable \n",
       "============================================================================\n",
       "                     128 x 1             \n",
       "Linear                                    93         True      \n",
       "____________________________________________________________________________\n",
       "\n",
       "Total params: 93\n",
       "Total trainable params: 93\n",
       "Total non-trainable params: 0\n",
       "\n",
       "Optimizer used: <function SGD at 0x17f58f820>\n",
       "Loss function: BCEWithLogitsLoss()\n",
       "\n",
       "Model unfrozen\n",
       "\n",
       "Callbacks:\n",
       "  - TrainEvalCallback\n",
       "  - CastToTensor\n",
       "  - Recorder\n",
       "  - ProgressCallback"
      ]
     },
     "execution_count": 73,
     "metadata": {},
     "output_type": "execute_result"
    }
   ],
   "source": [
    "learn.summary()"
   ]
  },
  {
   "cell_type": "code",
   "execution_count": 79,
   "metadata": {},
   "outputs": [
    {
     "name": "stdout",
     "output_type": "stream",
     "text": [
      "              precision    recall  f1-score   support\n",
      "\n",
      "           0       0.64      0.65      0.65       233\n",
      "           1       0.65      0.64      0.64       233\n",
      "\n",
      "    accuracy                           0.64       466\n",
      "   macro avg       0.64      0.64      0.64       466\n",
      "weighted avg       0.64      0.64      0.64       466\n",
      "\n"
     ]
    }
   ],
   "source": [
    "# evaluate the model on the test set\n",
    "model = nn.Sequential(learn.model, nn.Sigmoid())\n",
    "y_pred = model(torch.from_numpy(X_test).float())\n",
    "# y_pred, _ = learn.get_preds(dl=dls.test_dl(test_ds))\n",
    "# y_pred = nn.Sigmoid()(y_pred)\n",
    "# print(y_pred)\n",
    "y_pred = (y_pred>0.5).int()\n",
    "print(classification_report(y_test, y_pred))\n"
   ]
  },
  {
   "attachments": {},
   "cell_type": "markdown",
   "metadata": {},
   "source": [
    "## FastAI Approach 2 (tabular net)"
   ]
  },
  {
   "cell_type": "code",
   "execution_count": 531,
   "metadata": {},
   "outputs": [
    {
     "name": "stdout",
     "output_type": "stream",
     "text": [
      "3725 466 4191\n"
     ]
    }
   ],
   "source": [
    "# create a pandas dataframe from the numpy arrays\n",
    "train_df = pd.DataFrame(data=np.c_[X_train, y_train], columns=[f'feat_{i}' for i in range(X_train.shape[1])] + ['label'])\n",
    "valid_df = pd.DataFrame(data=np.c_[X_val, y_val], columns=[f'feat_{i}' for i in range(X_val.shape[1])] + ['label'])\n",
    "\n",
    "# merge the train and validation set\n",
    "combined_df = pd.concat([train_df, valid_df], axis=0)\n",
    "val_df_idx = np.arange(len(train_df), len(combined_df))\n",
    "print(len(train_df), len(val_df_idx), len(combined_df))\n",
    "\n",
    "# define your dependent and independent variables\n",
    "dep_var = 'label'\n",
    "cat_names = []\n",
    "cont_names = [f'feat_{i}' for i in range(X_train.shape[1])]\n",
    "\n",
    "# define your processors, which can be used to normalize your data\n",
    "procs = [Normalize]\n",
    "\n",
    "dls = TabularDataLoaders.from_df(\n",
    "    combined_df, \n",
    "    procs=procs, \n",
    "    cat_names=cat_names, \n",
    "    cont_names=cont_names, \n",
    "    y_names=dep_var, \n",
    "    valid_idx=val_df_idx, \n",
    "    bs=64, \n",
    "    y_block=CategoryBlock\n",
    "    )"
   ]
  },
  {
   "cell_type": "code",
   "execution_count": 506,
   "metadata": {},
   "outputs": [
    {
     "name": "stdout",
     "output_type": "stream",
     "text": [
      "torch.float32 torch.int8\n",
      "torch.Size([64, 92]) torch.Size([64, 1])\n"
     ]
    }
   ],
   "source": [
    "batch = dls.one_batch()\n",
    "print(batch[1].dtype, batch[2].dtype)\n",
    "print(batch[1].shape, batch[2].shape)"
   ]
  },
  {
   "cell_type": "code",
   "execution_count": 507,
   "metadata": {},
   "outputs": [
    {
     "data": {
      "text/plain": [
       "TabularModel(\n",
       "  (embeds): ModuleList()\n",
       "  (emb_drop): Dropout(p=0.0, inplace=False)\n",
       "  (bn_cont): BatchNorm1d(92, eps=1e-05, momentum=0.1, affine=True, track_running_stats=True)\n",
       "  (layers): Sequential(\n",
       "    (0): LinBnDrop(\n",
       "      (0): Linear(in_features=92, out_features=200, bias=False)\n",
       "      (1): ReLU(inplace=True)\n",
       "      (2): BatchNorm1d(200, eps=1e-05, momentum=0.1, affine=True, track_running_stats=True)\n",
       "    )\n",
       "    (1): LinBnDrop(\n",
       "      (0): Linear(in_features=200, out_features=100, bias=False)\n",
       "      (1): ReLU(inplace=True)\n",
       "      (2): BatchNorm1d(100, eps=1e-05, momentum=0.1, affine=True, track_running_stats=True)\n",
       "    )\n",
       "    (2): LinBnDrop(\n",
       "      (0): Linear(in_features=100, out_features=2, bias=True)\n",
       "    )\n",
       "  )\n",
       ")"
      ]
     },
     "execution_count": 507,
     "metadata": {},
     "output_type": "execute_result"
    }
   ],
   "source": [
    "# learn = tabular_learner(dls, loss_func=nn.CrossEntropyLoss(), metrics=accuracy)\n",
    "learn = tabular_learner(dls, metrics=accuracy)\n",
    "# learn = Learner(dls, nn.Linear(92, 1), opt_func=SGD, loss_func=nn.BCEWithLogitsLoss())\n",
    "learn.model"
   ]
  },
  {
   "cell_type": "code",
   "execution_count": 508,
   "metadata": {},
   "outputs": [
    {
     "data": {
      "text/plain": [
       "FlattenedLoss of CrossEntropyLoss()"
      ]
     },
     "execution_count": 508,
     "metadata": {},
     "output_type": "execute_result"
    }
   ],
   "source": [
    "learn.loss_func"
   ]
  },
  {
   "cell_type": "code",
   "execution_count": 510,
   "metadata": {},
   "outputs": [
    {
     "data": {
      "text/html": [],
      "text/plain": [
       "<IPython.core.display.HTML object>"
      ]
     },
     "metadata": {},
     "output_type": "display_data"
    },
    {
     "data": {
      "image/png": "[encoded data removed]",
      "text/plain": [
       "<Figure size 640x480 with 1 Axes>"
      ]
     },
     "metadata": {},
     "output_type": "display_data"
    }
   ],
   "source": [
    "rates = learn.lr_find(suggest_funcs=(minimum, steep, valley, slide))"
   ]
  },
  {
   "cell_type": "code",
   "execution_count": 511,
   "metadata": {},
   "outputs": [
    {
     "data": {
      "text/plain": [
       "0.02421922513167374"
      ]
     },
     "execution_count": 511,
     "metadata": {},
     "output_type": "execute_result"
    }
   ],
   "source": [
    "lr = (rates.slide+rates.valley)/2\n",
    "lr"
   ]
  },
  {
   "cell_type": "code",
   "execution_count": 557,
   "metadata": {},
   "outputs": [
    {
     "data": {
      "text/html": [
       "<table border=\"1\" class=\"dataframe\">\n",
       "  <thead>\n",
       "    <tr style=\"text-align: left;\">\n",
       "      <th>epoch</th>\n",
       "      <th>train_loss</th>\n",
       "      <th>valid_loss</th>\n",
       "      <th>binary_acc</th>\n",
       "      <th>time</th>\n",
       "    </tr>\n",
       "  </thead>\n",
       "  <tbody>\n",
       "    <tr>\n",
       "      <td>0</td>\n",
       "      <td>0.628188</td>\n",
       "      <td>0.606281</td>\n",
       "      <td>64.433479</td>\n",
       "      <td>00:00</td>\n",
       "    </tr>\n",
       "    <tr>\n",
       "      <td>1</td>\n",
       "      <td>0.626689</td>\n",
       "      <td>0.605925</td>\n",
       "      <td>64.845497</td>\n",
       "      <td>00:00</td>\n",
       "    </tr>\n",
       "    <tr>\n",
       "      <td>2</td>\n",
       "      <td>0.631268</td>\n",
       "      <td>0.605577</td>\n",
       "      <td>64.845497</td>\n",
       "      <td>00:00</td>\n",
       "    </tr>\n",
       "    <tr>\n",
       "      <td>3</td>\n",
       "      <td>0.631736</td>\n",
       "      <td>0.621500</td>\n",
       "      <td>64.145920</td>\n",
       "      <td>00:00</td>\n",
       "    </tr>\n",
       "    <tr>\n",
       "      <td>4</td>\n",
       "      <td>0.625672</td>\n",
       "      <td>0.610874</td>\n",
       "      <td>64.982834</td>\n",
       "      <td>00:00</td>\n",
       "    </tr>\n",
       "    <tr>\n",
       "      <td>5</td>\n",
       "      <td>0.631193</td>\n",
       "      <td>0.617250</td>\n",
       "      <td>61.824036</td>\n",
       "      <td>00:00</td>\n",
       "    </tr>\n",
       "    <tr>\n",
       "      <td>6</td>\n",
       "      <td>0.629788</td>\n",
       "      <td>0.614725</td>\n",
       "      <td>62.236050</td>\n",
       "      <td>00:00</td>\n",
       "    </tr>\n",
       "    <tr>\n",
       "      <td>7</td>\n",
       "      <td>0.629657</td>\n",
       "      <td>0.622222</td>\n",
       "      <td>61.000000</td>\n",
       "      <td>00:00</td>\n",
       "    </tr>\n",
       "    <tr>\n",
       "      <td>8</td>\n",
       "      <td>0.628123</td>\n",
       "      <td>0.605743</td>\n",
       "      <td>66.356224</td>\n",
       "      <td>00:00</td>\n",
       "    </tr>\n",
       "    <tr>\n",
       "      <td>9</td>\n",
       "      <td>0.623717</td>\n",
       "      <td>0.607265</td>\n",
       "      <td>64.927040</td>\n",
       "      <td>00:00</td>\n",
       "    </tr>\n",
       "  </tbody>\n",
       "</table>"
      ],
      "text/plain": [
       "<IPython.core.display.HTML object>"
      ]
     },
     "metadata": {},
     "output_type": "display_data"
    }
   ],
   "source": [
    "# learn.fit_one_cycle(10, lr, cbs=[ShowGraphCallback()])\n",
    "learn.fit(10, lr, cbs=[ShowGraphCallback()]) "
   ]
  },
  {
   "cell_type": "code",
   "execution_count": 560,
   "metadata": {},
   "outputs": [
    {
     "data": {
      "image/png": "[encoded data removed]",
      "text/plain": [
       "<Figure size 640x480 with 1 Axes>"
      ]
     },
     "metadata": {},
     "output_type": "display_data"
    }
   ],
   "source": [
    "learn.recorder.plot_loss()"
   ]
  },
  {
   "cell_type": "code",
   "execution_count": 561,
   "metadata": {},
   "outputs": [
    {
     "data": {
      "text/html": [],
      "text/plain": [
       "<IPython.core.display.HTML object>"
      ]
     },
     "metadata": {},
     "output_type": "display_data"
    },
    {
     "data": {
      "text/plain": [
       "Net (Input shape: 64 x 92)\n",
       "============================================================================\n",
       "Layer (type)         Output Shape         Param #    Trainable \n",
       "============================================================================\n",
       "                     64 x 1              \n",
       "Linear                                    93         True      \n",
       "____________________________________________________________________________\n",
       "\n",
       "Total params: 93\n",
       "Total trainable params: 93\n",
       "Total non-trainable params: 0\n",
       "\n",
       "Optimizer used: <function SGD at 0x16524d820>\n",
       "Loss function: BCEWithLogitsLoss()\n",
       "\n",
       "Model unfrozen\n",
       "\n",
       "Callbacks:\n",
       "  - TrainEvalCallback\n",
       "  - CastToTensor\n",
       "  - Recorder\n",
       "  - ProgressCallback"
      ]
     },
     "execution_count": 561,
     "metadata": {},
     "output_type": "execute_result"
    }
   ],
   "source": [
    "learn.summary()"
   ]
  },
  {
   "cell_type": "code",
   "execution_count": 567,
   "metadata": {},
   "outputs": [
    {
     "data": {
      "text/html": [],
      "text/plain": [
       "<IPython.core.display.HTML object>"
      ]
     },
     "metadata": {},
     "output_type": "display_data"
    },
    {
     "name": "stdout",
     "output_type": "stream",
     "text": [
      "              precision    recall  f1-score   support\n",
      "\n",
      "           0       0.67      0.63      0.65       237\n",
      "           1       0.64      0.67      0.65       229\n",
      "\n",
      "    accuracy                           0.65       466\n",
      "   macro avg       0.65      0.65      0.65       466\n",
      "weighted avg       0.65      0.65      0.65       466\n",
      "\n"
     ]
    }
   ],
   "source": [
    "# evaluate the model on the test set\n",
    "y_pred, _ = learn.get_preds(dl=dls.valid)\n",
    "y_pred = (y_pred[:,1]>0.5).int()\n",
    "print(classification_report(y_val, y_pred))\n"
   ]
  },
  {
   "cell_type": "code",
   "execution_count": 532,
   "metadata": {},
   "outputs": [
    {
     "name": "stdout",
     "output_type": "stream",
     "text": [
      "Epoch 1, training loss: 0.6964849829673767, validation loss: 0.6806973814964294, accuracy: TensorBase(0.4375)\n",
      "Epoch 2, training loss: 0.6605525612831116, validation loss: 0.6693177223205566, accuracy: TensorBase(0.4531)\n",
      "Epoch 3, training loss: 0.6668044328689575, validation loss: 0.6611661911010742, accuracy: TensorBase(0.4531)\n",
      "Epoch 4, training loss: 0.6786819696426392, validation loss: 0.6551483869552612, accuracy: TensorBase(0.4062)\n",
      "Epoch 5, training loss: 0.6397011876106262, validation loss: 0.6509966850280762, accuracy: TensorBase(0.4062)\n",
      "Epoch 6, training loss: 0.647949755191803, validation loss: 0.6470600366592407, accuracy: TensorBase(0.3750)\n",
      "Epoch 7, training loss: 0.6969434022903442, validation loss: 0.647231936454773, accuracy: TensorBase(0.4844)\n",
      "Epoch 8, training loss: 0.6390050053596497, validation loss: 0.641717255115509, accuracy: TensorBase(0.5469)\n",
      "Epoch 9, training loss: 0.6474009156227112, validation loss: 0.6398457288742065, accuracy: TensorBase(0.5312)\n",
      "Epoch 10, training loss: 0.6597100496292114, validation loss: 0.6390902996063232, accuracy: TensorBase(0.4531)\n",
      "Epoch 11, training loss: 0.6338035464286804, validation loss: 0.637275755405426, accuracy: TensorBase(0.5781)\n",
      "Epoch 12, training loss: 0.6176439523696899, validation loss: 0.6366301774978638, accuracy: TensorBase(0.4531)\n",
      "Epoch 13, training loss: 0.6043045520782471, validation loss: 0.6368938088417053, accuracy: TensorBase(0.6562)\n",
      "Epoch 14, training loss: 0.6846282482147217, validation loss: 0.6332471370697021, accuracy: TensorBase(0.3906)\n",
      "Epoch 15, training loss: 0.6189000010490417, validation loss: 0.632412850856781, accuracy: TensorBase(0.3438)\n",
      "Epoch 16, training loss: 0.6322769522666931, validation loss: 0.6311029195785522, accuracy: TensorBase(0.5312)\n",
      "Epoch 17, training loss: 0.6721367239952087, validation loss: 0.629260241985321, accuracy: TensorBase(0.4688)\n",
      "Epoch 18, training loss: 0.6026106476783752, validation loss: 0.6281759738922119, accuracy: TensorBase(0.5781)\n",
      "Epoch 19, training loss: 0.6475704312324524, validation loss: 0.6293529868125916, accuracy: TensorBase(0.4531)\n",
      "Epoch 20, training loss: 0.5879778861999512, validation loss: 0.6283040046691895, accuracy: TensorBase(0.5469)\n",
      "Epoch 21, training loss: 0.6514874696731567, validation loss: 0.6261067986488342, accuracy: TensorBase(0.5781)\n",
      "Epoch 22, training loss: 0.6102757453918457, validation loss: 0.625514030456543, accuracy: TensorBase(0.5625)\n",
      "Epoch 23, training loss: 0.5956143140792847, validation loss: 0.6254551410675049, accuracy: TensorBase(0.4844)\n",
      "Epoch 24, training loss: 0.6726533770561218, validation loss: 0.6244364976882935, accuracy: TensorBase(0.4844)\n",
      "Epoch 25, training loss: 0.6081132292747498, validation loss: 0.624854564666748, accuracy: TensorBase(0.4844)\n",
      "Epoch 26, training loss: 0.5710152387619019, validation loss: 0.6240583658218384, accuracy: TensorBase(0.4688)\n",
      "Epoch 27, training loss: 0.6283281445503235, validation loss: 0.6234520673751831, accuracy: TensorBase(0.4062)\n",
      "Epoch 28, training loss: 0.6725925207138062, validation loss: 0.6227803230285645, accuracy: TensorBase(0.5781)\n",
      "Epoch 29, training loss: 0.6880523562431335, validation loss: 0.622576117515564, accuracy: TensorBase(0.5625)\n",
      "Epoch 30, training loss: 0.6586912870407104, validation loss: 0.6216702461242676, accuracy: TensorBase(0.5156)\n",
      "Epoch 31, training loss: 0.6666258573532104, validation loss: 0.6212233901023865, accuracy: TensorBase(0.4375)\n",
      "Epoch 32, training loss: 0.6440784931182861, validation loss: 0.6208279132843018, accuracy: TensorBase(0.5938)\n",
      "Epoch 33, training loss: 0.643596351146698, validation loss: 0.6205459833145142, accuracy: TensorBase(0.4688)\n",
      "Epoch 34, training loss: 0.6211727857589722, validation loss: 0.6201934814453125, accuracy: TensorBase(0.5156)\n",
      "Epoch 35, training loss: 0.5727641582489014, validation loss: 0.6201826333999634, accuracy: TensorBase(0.5469)\n",
      "Epoch 36, training loss: 0.5999739170074463, validation loss: 0.6193230748176575, accuracy: TensorBase(0.5156)\n",
      "Epoch 37, training loss: 0.6219715476036072, validation loss: 0.6191825270652771, accuracy: TensorBase(0.4688)\n",
      "Epoch 38, training loss: 0.687909722328186, validation loss: 0.6190430521965027, accuracy: TensorBase(0.4688)\n",
      "Epoch 39, training loss: 0.6756463050842285, validation loss: 0.6188461780548096, accuracy: TensorBase(0.5312)\n",
      "Epoch 40, training loss: 0.6459829211235046, validation loss: 0.620545506477356, accuracy: TensorBase(0.5312)\n",
      "Epoch 41, training loss: 0.6578753590583801, validation loss: 0.6181590557098389, accuracy: TensorBase(0.3594)\n",
      "Epoch 42, training loss: 0.6129382848739624, validation loss: 0.6179285049438477, accuracy: TensorBase(0.5781)\n",
      "Epoch 43, training loss: 0.6421447396278381, validation loss: 0.6194494366645813, accuracy: TensorBase(0.4062)\n",
      "Epoch 44, training loss: 0.6347247958183289, validation loss: 0.6186915636062622, accuracy: TensorBase(0.5781)\n",
      "Epoch 45, training loss: 0.6895850300788879, validation loss: 0.6174091100692749, accuracy: TensorBase(0.4688)\n",
      "Epoch 46, training loss: 0.6199523210525513, validation loss: 0.6170563697814941, accuracy: TensorBase(0.3750)\n",
      "Epoch 47, training loss: 0.6297622919082642, validation loss: 0.6175260543823242, accuracy: TensorBase(0.4688)\n",
      "Epoch 48, training loss: 0.5997484922409058, validation loss: 0.617405891418457, accuracy: TensorBase(0.3438)\n",
      "Epoch 49, training loss: 0.693286657333374, validation loss: 0.6174521446228027, accuracy: TensorBase(0.4688)\n",
      "Epoch 50, training loss: 0.6181229948997498, validation loss: 0.6167420148849487, accuracy: TensorBase(0.4844)\n",
      "Epoch 51, training loss: 0.6548666954040527, validation loss: 0.6169337034225464, accuracy: TensorBase(0.4844)\n",
      "Epoch 52, training loss: 0.7177274227142334, validation loss: 0.6165739893913269, accuracy: TensorBase(0.5312)\n",
      "Epoch 53, training loss: 0.6510156989097595, validation loss: 0.6176719665527344, accuracy: TensorBase(0.5000)\n",
      "Epoch 54, training loss: 0.6138602495193481, validation loss: 0.6157353520393372, accuracy: TensorBase(0.4375)\n",
      "Epoch 55, training loss: 0.6458436250686646, validation loss: 0.615903913974762, accuracy: TensorBase(0.6406)\n",
      "Epoch 56, training loss: 0.5709899067878723, validation loss: 0.6158941984176636, accuracy: TensorBase(0.4844)\n",
      "Epoch 57, training loss: 0.6296126246452332, validation loss: 0.6170210838317871, accuracy: TensorBase(0.5312)\n",
      "Epoch 58, training loss: 0.599483847618103, validation loss: 0.6153481006622314, accuracy: TensorBase(0.5312)\n",
      "Epoch 59, training loss: 0.651806116104126, validation loss: 0.6188981533050537, accuracy: TensorBase(0.4844)\n",
      "Epoch 60, training loss: 0.571999192237854, validation loss: 0.61513352394104, accuracy: TensorBase(0.6094)\n",
      "Epoch 61, training loss: 0.5276669859886169, validation loss: 0.6149075031280518, accuracy: TensorBase(0.5000)\n",
      "Epoch 62, training loss: 0.6618591547012329, validation loss: 0.6154052019119263, accuracy: TensorBase(0.5938)\n",
      "Epoch 63, training loss: 0.6532788276672363, validation loss: 0.6170538663864136, accuracy: TensorBase(0.4844)\n",
      "Epoch 64, training loss: 0.5676811933517456, validation loss: 0.6169818639755249, accuracy: TensorBase(0.4844)\n",
      "Epoch 65, training loss: 0.7123453617095947, validation loss: 0.6154004335403442, accuracy: TensorBase(0.6250)\n",
      "Epoch 66, training loss: 0.6380673050880432, validation loss: 0.6149400472640991, accuracy: TensorBase(0.6094)\n",
      "Epoch 67, training loss: 0.6449552178382874, validation loss: 0.6149122714996338, accuracy: TensorBase(0.5000)\n",
      "Epoch 68, training loss: 0.6199878454208374, validation loss: 0.6147900819778442, accuracy: TensorBase(0.5312)\n",
      "Epoch 69, training loss: 0.662489652633667, validation loss: 0.6153425574302673, accuracy: TensorBase(0.4062)\n",
      "Epoch 70, training loss: 0.6664237380027771, validation loss: 0.6141079664230347, accuracy: TensorBase(0.4062)\n",
      "Epoch 71, training loss: 0.6812824010848999, validation loss: 0.6136990189552307, accuracy: TensorBase(0.4219)\n",
      "Epoch 72, training loss: 0.6740583181381226, validation loss: 0.6139379739761353, accuracy: TensorBase(0.5000)\n",
      "Epoch 73, training loss: 0.6305148601531982, validation loss: 0.6146251559257507, accuracy: TensorBase(0.5156)\n",
      "Epoch 74, training loss: 0.7254912853240967, validation loss: 0.6168578267097473, accuracy: TensorBase(0.4062)\n",
      "Epoch 75, training loss: 0.5775400996208191, validation loss: 0.6142321825027466, accuracy: TensorBase(0.5938)\n",
      "Epoch 76, training loss: 0.6089158058166504, validation loss: 0.6140770316123962, accuracy: TensorBase(0.4531)\n",
      "Epoch 77, training loss: 0.579547107219696, validation loss: 0.6135334968566895, accuracy: TensorBase(0.4688)\n",
      "Epoch 78, training loss: 0.6836792826652527, validation loss: 0.6143292784690857, accuracy: TensorBase(0.6094)\n",
      "Epoch 79, training loss: 0.5963845252990723, validation loss: 0.6164195537567139, accuracy: TensorBase(0.4688)\n",
      "Epoch 80, training loss: 0.5984110236167908, validation loss: 0.6140614151954651, accuracy: TensorBase(0.5625)\n",
      "Epoch 81, training loss: 0.6072995066642761, validation loss: 0.6170564889907837, accuracy: TensorBase(0.5000)\n",
      "Epoch 82, training loss: 0.6199609041213989, validation loss: 0.6133003234863281, accuracy: TensorBase(0.5000)\n",
      "Epoch 83, training loss: 0.5729762315750122, validation loss: 0.6132177710533142, accuracy: TensorBase(0.5156)\n",
      "Epoch 84, training loss: 0.6315765976905823, validation loss: 0.6129558086395264, accuracy: TensorBase(0.5469)\n",
      "Epoch 85, training loss: 0.5777664184570312, validation loss: 0.613018274307251, accuracy: TensorBase(0.4375)\n",
      "Epoch 86, training loss: 0.6284785270690918, validation loss: 0.6155868768692017, accuracy: TensorBase(0.4531)\n",
      "Epoch 87, training loss: 0.5538984537124634, validation loss: 0.6140192151069641, accuracy: TensorBase(0.3906)\n",
      "Epoch 88, training loss: 0.6616426110267639, validation loss: 0.613569438457489, accuracy: TensorBase(0.5625)\n",
      "Epoch 89, training loss: 0.6361117959022522, validation loss: 0.6128678917884827, accuracy: TensorBase(0.4062)\n",
      "Epoch 90, training loss: 0.6202508211135864, validation loss: 0.6158204674720764, accuracy: TensorBase(0.4688)\n",
      "Epoch 91, training loss: 0.6386370062828064, validation loss: 0.6125932931900024, accuracy: TensorBase(0.5312)\n",
      "Epoch 92, training loss: 0.6024841070175171, validation loss: 0.61261385679245, accuracy: TensorBase(0.4688)\n",
      "Epoch 93, training loss: 0.5951732397079468, validation loss: 0.6123594045639038, accuracy: TensorBase(0.5000)\n",
      "Epoch 94, training loss: 0.5924266576766968, validation loss: 0.6124147772789001, accuracy: TensorBase(0.5781)\n",
      "Epoch 95, training loss: 0.5937230587005615, validation loss: 0.6128772497177124, accuracy: TensorBase(0.5625)\n",
      "Epoch 96, training loss: 0.5907410979270935, validation loss: 0.6130508780479431, accuracy: TensorBase(0.4688)\n",
      "Epoch 97, training loss: 0.666080117225647, validation loss: 0.6118841767311096, accuracy: TensorBase(0.4375)\n",
      "Epoch 98, training loss: 0.6736018061637878, validation loss: 0.6133100390434265, accuracy: TensorBase(0.5625)\n",
      "Epoch 99, training loss: 0.5874890685081482, validation loss: 0.611788809299469, accuracy: TensorBase(0.4219)\n",
      "Epoch 100, training loss: 0.6568467020988464, validation loss: 0.6122899055480957, accuracy: TensorBase(0.5312)\n"
     ]
    }
   ],
   "source": [
    "import torch.nn as nn\n",
    "import torch.optim as optim\n",
    "\n",
    "# Define the neural network model\n",
    "class Net(nn.Module):\n",
    "    def __init__(self):\n",
    "        super(Net, self).__init__()\n",
    "        self.fc = nn.Linear(92, 1)\n",
    "        \n",
    "    def forward(self, x):\n",
    "        x = self.fc(x)\n",
    "        x = nn.Sigmoid()(x)\n",
    "        return x\n",
    "\n",
    "# Initialize the model and optimizer\n",
    "model = Net()\n",
    "\n",
    "# define loss function and optimizer\n",
    "criterion = nn.BCELoss()\n",
    "optimizer = optim.SGD(model.parameters(), lr=0.01)\n",
    "\n",
    "# train model\n",
    "for epoch in range(100):\n",
    "    for _, xb, yb in dls.train:\n",
    "        # forward pass\n",
    "        pred = model(xb)\n",
    "        loss = criterion(pred.squeeze(), yb.squeeze())\n",
    "\n",
    "        # backward pass\n",
    "        optimizer.zero_grad()\n",
    "        loss.backward()\n",
    "        optimizer.step()\n",
    "\n",
    "    # evaluate on validation set\n",
    "    with torch.no_grad():\n",
    "        val_loss = sum(criterion(model(xb).squeeze(), yb.squeeze()) for _, xb, yb in dls.valid) / len(dls.valid)\n",
    "        print(f\"Epoch {epoch+1}, training loss: {loss}, validation loss: {val_loss}, accuracy: {accuracy(pred, yb)}\")\n"
   ]
  },
  {
   "attachments": {},
   "cell_type": "markdown",
   "metadata": {},
   "source": [
    "## Keras/Tensorflow Approach"
   ]
  },
  {
   "cell_type": "code",
   "execution_count": 31,
   "metadata": {},
   "outputs": [],
   "source": [
    "# from tensorflow.keras.models import Sequential\n",
    "# from tensorflow.keras.layers import Dense\n",
    "\n",
    "# Define the model architecture\n",
    "model = keras.models.Sequential([\n",
    "    keras.layers.Dense(units=1, input_shape=(92,), activation='sigmoid')\n",
    "])\n",
    "\n",
    "# Compile the model\n",
    "model.compile(optimizer='adam', loss='binary_crossentropy', metrics=['accuracy'])\n"
   ]
  },
  {
   "cell_type": "code",
   "execution_count": 32,
   "metadata": {},
   "outputs": [
    {
     "name": "stdout",
     "output_type": "stream",
     "text": [
      "Epoch 1/100\n",
      " 5/59 [=>............................] - ETA: 0s - loss: 0.9105 - accuracy: 0.5500 "
     ]
    },
    {
     "name": "stderr",
     "output_type": "stream",
     "text": [
      "2023-04-09 21:49:54.874618: I tensorflow/core/grappler/optimizers/custom_graph_optimizer_registry.cc:113] Plugin optimizer for device_type GPU is enabled.\n"
     ]
    },
    {
     "name": "stdout",
     "output_type": "stream",
     "text": [
      "59/59 [==============================] - 1s 11ms/step - loss: 0.7717 - accuracy: 0.5047 - val_loss: 0.7259 - val_accuracy: 0.5064\n",
      "Epoch 2/100\n",
      " 8/59 [===>..........................] - ETA: 0s - loss: 0.7211 - accuracy: 0.5137"
     ]
    },
    {
     "name": "stderr",
     "output_type": "stream",
     "text": [
      "2023-04-09 21:49:55.525936: I tensorflow/core/grappler/optimizers/custom_graph_optimizer_registry.cc:113] Plugin optimizer for device_type GPU is enabled.\n"
     ]
    },
    {
     "name": "stdout",
     "output_type": "stream",
     "text": [
      "59/59 [==============================] - 0s 8ms/step - loss: 0.7223 - accuracy: 0.5138 - val_loss: 0.7112 - val_accuracy: 0.5150\n",
      "Epoch 3/100\n",
      "59/59 [==============================] - 0s 7ms/step - loss: 0.7075 - accuracy: 0.5361 - val_loss: 0.6978 - val_accuracy: 0.5365\n",
      "Epoch 4/100\n",
      "59/59 [==============================] - 0s 7ms/step - loss: 0.6964 - accuracy: 0.5409 - val_loss: 0.6887 - val_accuracy: 0.5451\n",
      "Epoch 5/100\n",
      "59/59 [==============================] - 0s 6ms/step - loss: 0.6878 - accuracy: 0.5581 - val_loss: 0.6815 - val_accuracy: 0.5858\n",
      "Epoch 6/100\n",
      "59/59 [==============================] - 1s 9ms/step - loss: 0.6807 - accuracy: 0.5694 - val_loss: 0.6756 - val_accuracy: 0.5794\n",
      "Epoch 7/100\n",
      "59/59 [==============================] - 0s 7ms/step - loss: 0.6767 - accuracy: 0.5672 - val_loss: 0.6704 - val_accuracy: 0.5944\n",
      "Epoch 8/100\n",
      "59/59 [==============================] - 0s 7ms/step - loss: 0.6722 - accuracy: 0.5807 - val_loss: 0.6677 - val_accuracy: 0.6030\n",
      "Epoch 9/100\n",
      "59/59 [==============================] - 0s 7ms/step - loss: 0.6686 - accuracy: 0.5809 - val_loss: 0.6624 - val_accuracy: 0.5966\n",
      "Epoch 10/100\n",
      "59/59 [==============================] - 0s 7ms/step - loss: 0.6672 - accuracy: 0.5847 - val_loss: 0.6601 - val_accuracy: 0.6094\n",
      "Epoch 11/100\n",
      "59/59 [==============================] - 0s 7ms/step - loss: 0.6621 - accuracy: 0.5949 - val_loss: 0.6567 - val_accuracy: 0.6116\n",
      "Epoch 12/100\n",
      "59/59 [==============================] - 0s 7ms/step - loss: 0.6599 - accuracy: 0.5933 - val_loss: 0.6540 - val_accuracy: 0.6094\n",
      "Epoch 13/100\n",
      "59/59 [==============================] - 0s 7ms/step - loss: 0.6580 - accuracy: 0.5984 - val_loss: 0.6515 - val_accuracy: 0.6073\n",
      "Epoch 14/100\n",
      "59/59 [==============================] - 0s 6ms/step - loss: 0.6558 - accuracy: 0.5995 - val_loss: 0.6520 - val_accuracy: 0.6180\n",
      "Epoch 15/100\n",
      "59/59 [==============================] - 0s 6ms/step - loss: 0.6541 - accuracy: 0.6078 - val_loss: 0.6476 - val_accuracy: 0.6137\n",
      "Epoch 16/100\n",
      "59/59 [==============================] - 0s 7ms/step - loss: 0.6520 - accuracy: 0.6075 - val_loss: 0.6476 - val_accuracy: 0.6180\n",
      "Epoch 17/100\n",
      "59/59 [==============================] - 0s 6ms/step - loss: 0.6515 - accuracy: 0.6105 - val_loss: 0.6435 - val_accuracy: 0.6245\n",
      "Epoch 18/100\n",
      "59/59 [==============================] - 0s 7ms/step - loss: 0.6494 - accuracy: 0.6126 - val_loss: 0.6446 - val_accuracy: 0.6202\n",
      "Epoch 19/100\n",
      "59/59 [==============================] - 0s 7ms/step - loss: 0.6513 - accuracy: 0.6083 - val_loss: 0.6437 - val_accuracy: 0.6266\n",
      "Epoch 20/100\n",
      "59/59 [==============================] - 0s 7ms/step - loss: 0.6494 - accuracy: 0.6115 - val_loss: 0.6399 - val_accuracy: 0.6137\n",
      "Epoch 21/100\n",
      "59/59 [==============================] - 0s 7ms/step - loss: 0.6466 - accuracy: 0.6153 - val_loss: 0.6395 - val_accuracy: 0.6159\n",
      "Epoch 22/100\n",
      "59/59 [==============================] - 0s 6ms/step - loss: 0.6456 - accuracy: 0.6172 - val_loss: 0.6374 - val_accuracy: 0.6223\n",
      "Epoch 23/100\n",
      "59/59 [==============================] - 0s 7ms/step - loss: 0.6457 - accuracy: 0.6161 - val_loss: 0.6352 - val_accuracy: 0.6245\n",
      "Epoch 24/100\n",
      "59/59 [==============================] - 0s 7ms/step - loss: 0.6433 - accuracy: 0.6174 - val_loss: 0.6378 - val_accuracy: 0.6223\n",
      "Epoch 25/100\n",
      "59/59 [==============================] - 0s 7ms/step - loss: 0.6436 - accuracy: 0.6212 - val_loss: 0.6355 - val_accuracy: 0.6223\n",
      "Epoch 26/100\n",
      "59/59 [==============================] - 1s 10ms/step - loss: 0.6424 - accuracy: 0.6185 - val_loss: 0.6329 - val_accuracy: 0.6202\n",
      "Epoch 27/100\n",
      "59/59 [==============================] - 0s 7ms/step - loss: 0.6418 - accuracy: 0.6271 - val_loss: 0.6320 - val_accuracy: 0.6202\n",
      "Epoch 28/100\n",
      "59/59 [==============================] - 0s 7ms/step - loss: 0.6414 - accuracy: 0.6236 - val_loss: 0.6340 - val_accuracy: 0.6180\n",
      "Epoch 29/100\n",
      "59/59 [==============================] - 0s 7ms/step - loss: 0.6411 - accuracy: 0.6220 - val_loss: 0.6300 - val_accuracy: 0.6266\n",
      "Epoch 30/100\n",
      "59/59 [==============================] - 0s 7ms/step - loss: 0.6393 - accuracy: 0.6266 - val_loss: 0.6332 - val_accuracy: 0.6180\n",
      "Epoch 31/100\n",
      "59/59 [==============================] - 0s 7ms/step - loss: 0.6393 - accuracy: 0.6282 - val_loss: 0.6295 - val_accuracy: 0.6180\n",
      "Epoch 32/100\n",
      "59/59 [==============================] - 0s 7ms/step - loss: 0.6388 - accuracy: 0.6295 - val_loss: 0.6283 - val_accuracy: 0.6288\n",
      "Epoch 33/100\n",
      "59/59 [==============================] - 0s 6ms/step - loss: 0.6382 - accuracy: 0.6309 - val_loss: 0.6281 - val_accuracy: 0.6202\n",
      "Epoch 34/100\n",
      "59/59 [==============================] - 0s 7ms/step - loss: 0.6388 - accuracy: 0.6344 - val_loss: 0.6265 - val_accuracy: 0.6373\n",
      "Epoch 35/100\n",
      "59/59 [==============================] - 0s 7ms/step - loss: 0.6375 - accuracy: 0.6295 - val_loss: 0.6257 - val_accuracy: 0.6266\n",
      "Epoch 36/100\n",
      "59/59 [==============================] - 0s 7ms/step - loss: 0.6374 - accuracy: 0.6341 - val_loss: 0.6271 - val_accuracy: 0.6116\n",
      "Epoch 37/100\n",
      "59/59 [==============================] - 0s 7ms/step - loss: 0.6365 - accuracy: 0.6311 - val_loss: 0.6244 - val_accuracy: 0.6223\n",
      "Epoch 38/100\n",
      "59/59 [==============================] - 0s 6ms/step - loss: 0.6358 - accuracy: 0.6295 - val_loss: 0.6239 - val_accuracy: 0.6438\n",
      "Epoch 39/100\n",
      "59/59 [==============================] - 0s 7ms/step - loss: 0.6366 - accuracy: 0.6338 - val_loss: 0.6235 - val_accuracy: 0.6330\n",
      "Epoch 40/100\n",
      "59/59 [==============================] - 0s 7ms/step - loss: 0.6353 - accuracy: 0.6325 - val_loss: 0.6238 - val_accuracy: 0.6180\n",
      "Epoch 41/100\n",
      "59/59 [==============================] - 0s 7ms/step - loss: 0.6355 - accuracy: 0.6365 - val_loss: 0.6220 - val_accuracy: 0.6288\n",
      "Epoch 42/100\n",
      "59/59 [==============================] - 0s 7ms/step - loss: 0.6365 - accuracy: 0.6333 - val_loss: 0.6214 - val_accuracy: 0.6309\n",
      "Epoch 43/100\n",
      "59/59 [==============================] - 0s 6ms/step - loss: 0.6345 - accuracy: 0.6392 - val_loss: 0.6217 - val_accuracy: 0.6223\n",
      "Epoch 44/100\n",
      "59/59 [==============================] - 0s 7ms/step - loss: 0.6346 - accuracy: 0.6306 - val_loss: 0.6221 - val_accuracy: 0.6202\n",
      "Epoch 45/100\n",
      "59/59 [==============================] - 0s 7ms/step - loss: 0.6338 - accuracy: 0.6381 - val_loss: 0.6204 - val_accuracy: 0.6309\n",
      "Epoch 46/100\n",
      "59/59 [==============================] - 0s 7ms/step - loss: 0.6337 - accuracy: 0.6346 - val_loss: 0.6208 - val_accuracy: 0.6481\n",
      "Epoch 47/100\n",
      "59/59 [==============================] - 1s 9ms/step - loss: 0.6334 - accuracy: 0.6387 - val_loss: 0.6201 - val_accuracy: 0.6502\n",
      "Epoch 48/100\n",
      "59/59 [==============================] - 0s 7ms/step - loss: 0.6334 - accuracy: 0.6387 - val_loss: 0.6195 - val_accuracy: 0.6416\n",
      "Epoch 49/100\n",
      "59/59 [==============================] - 0s 7ms/step - loss: 0.6332 - accuracy: 0.6392 - val_loss: 0.6194 - val_accuracy: 0.6481\n",
      "Epoch 50/100\n",
      "59/59 [==============================] - 0s 7ms/step - loss: 0.6331 - accuracy: 0.6379 - val_loss: 0.6189 - val_accuracy: 0.6524\n",
      "Epoch 51/100\n",
      "59/59 [==============================] - 0s 6ms/step - loss: 0.6343 - accuracy: 0.6370 - val_loss: 0.6190 - val_accuracy: 0.6245\n",
      "Epoch 52/100\n",
      "59/59 [==============================] - 0s 8ms/step - loss: 0.6326 - accuracy: 0.6360 - val_loss: 0.6183 - val_accuracy: 0.6524\n",
      "Epoch 53/100\n",
      "59/59 [==============================] - 0s 7ms/step - loss: 0.6331 - accuracy: 0.6411 - val_loss: 0.6195 - val_accuracy: 0.6180\n",
      "Epoch 54/100\n",
      "59/59 [==============================] - 0s 7ms/step - loss: 0.6326 - accuracy: 0.6392 - val_loss: 0.6172 - val_accuracy: 0.6481\n",
      "Epoch 55/100\n",
      "59/59 [==============================] - 0s 7ms/step - loss: 0.6323 - accuracy: 0.6387 - val_loss: 0.6170 - val_accuracy: 0.6459\n",
      "Epoch 56/100\n",
      "59/59 [==============================] - 0s 7ms/step - loss: 0.6317 - accuracy: 0.6395 - val_loss: 0.6171 - val_accuracy: 0.6395\n",
      "Epoch 57/100\n",
      "59/59 [==============================] - 0s 7ms/step - loss: 0.6311 - accuracy: 0.6381 - val_loss: 0.6166 - val_accuracy: 0.6502\n",
      "Epoch 58/100\n",
      "59/59 [==============================] - 0s 7ms/step - loss: 0.6322 - accuracy: 0.6392 - val_loss: 0.6199 - val_accuracy: 0.6116\n",
      "Epoch 59/100\n",
      "59/59 [==============================] - 0s 7ms/step - loss: 0.6309 - accuracy: 0.6413 - val_loss: 0.6177 - val_accuracy: 0.6202\n",
      "Epoch 60/100\n",
      "59/59 [==============================] - 0s 7ms/step - loss: 0.6315 - accuracy: 0.6360 - val_loss: 0.6161 - val_accuracy: 0.6481\n",
      "Epoch 61/100\n",
      "59/59 [==============================] - 0s 7ms/step - loss: 0.6320 - accuracy: 0.6397 - val_loss: 0.6158 - val_accuracy: 0.6352\n",
      "Epoch 62/100\n",
      "59/59 [==============================] - 0s 7ms/step - loss: 0.6308 - accuracy: 0.6443 - val_loss: 0.6155 - val_accuracy: 0.6352\n",
      "Epoch 63/100\n",
      "59/59 [==============================] - 0s 6ms/step - loss: 0.6310 - accuracy: 0.6451 - val_loss: 0.6151 - val_accuracy: 0.6373\n",
      "Epoch 64/100\n",
      "59/59 [==============================] - 0s 7ms/step - loss: 0.6310 - accuracy: 0.6413 - val_loss: 0.6150 - val_accuracy: 0.6288\n",
      "Epoch 65/100\n",
      "59/59 [==============================] - 0s 7ms/step - loss: 0.6305 - accuracy: 0.6430 - val_loss: 0.6176 - val_accuracy: 0.6180\n",
      "Epoch 66/100\n",
      "59/59 [==============================] - 0s 7ms/step - loss: 0.6312 - accuracy: 0.6448 - val_loss: 0.6149 - val_accuracy: 0.6245\n",
      "Epoch 67/100\n",
      "59/59 [==============================] - 0s 7ms/step - loss: 0.6305 - accuracy: 0.6421 - val_loss: 0.6177 - val_accuracy: 0.6159\n",
      "Epoch 68/100\n",
      "59/59 [==============================] - 0s 7ms/step - loss: 0.6312 - accuracy: 0.6397 - val_loss: 0.6151 - val_accuracy: 0.6223\n",
      "Epoch 69/100\n",
      "59/59 [==============================] - 1s 9ms/step - loss: 0.6311 - accuracy: 0.6403 - val_loss: 0.6137 - val_accuracy: 0.6459\n",
      "Epoch 70/100\n",
      "59/59 [==============================] - 0s 7ms/step - loss: 0.6308 - accuracy: 0.6419 - val_loss: 0.6144 - val_accuracy: 0.6266\n",
      "Epoch 71/100\n",
      "59/59 [==============================] - 0s 6ms/step - loss: 0.6309 - accuracy: 0.6454 - val_loss: 0.6151 - val_accuracy: 0.6116\n",
      "Epoch 72/100\n",
      "59/59 [==============================] - 0s 7ms/step - loss: 0.6298 - accuracy: 0.6408 - val_loss: 0.6132 - val_accuracy: 0.6373\n",
      "Epoch 73/100\n",
      "59/59 [==============================] - 0s 6ms/step - loss: 0.6295 - accuracy: 0.6430 - val_loss: 0.6133 - val_accuracy: 0.6373\n",
      "Epoch 74/100\n",
      "59/59 [==============================] - 0s 7ms/step - loss: 0.6294 - accuracy: 0.6421 - val_loss: 0.6132 - val_accuracy: 0.6502\n",
      "Epoch 75/100\n",
      "59/59 [==============================] - 0s 7ms/step - loss: 0.6296 - accuracy: 0.6408 - val_loss: 0.6131 - val_accuracy: 0.6395\n",
      "Epoch 76/100\n",
      "59/59 [==============================] - 0s 7ms/step - loss: 0.6295 - accuracy: 0.6432 - val_loss: 0.6130 - val_accuracy: 0.6373\n",
      "Epoch 77/100\n",
      "59/59 [==============================] - 0s 7ms/step - loss: 0.6297 - accuracy: 0.6443 - val_loss: 0.6141 - val_accuracy: 0.6094\n",
      "Epoch 78/100\n",
      "59/59 [==============================] - 0s 7ms/step - loss: 0.6292 - accuracy: 0.6438 - val_loss: 0.6130 - val_accuracy: 0.6309\n",
      "Epoch 79/100\n",
      "59/59 [==============================] - 0s 7ms/step - loss: 0.6288 - accuracy: 0.6462 - val_loss: 0.6130 - val_accuracy: 0.6266\n",
      "Epoch 80/100\n",
      "59/59 [==============================] - 0s 7ms/step - loss: 0.6295 - accuracy: 0.6408 - val_loss: 0.6145 - val_accuracy: 0.6094\n",
      "Epoch 81/100\n",
      "59/59 [==============================] - 0s 7ms/step - loss: 0.6303 - accuracy: 0.6427 - val_loss: 0.6124 - val_accuracy: 0.6266\n",
      "Epoch 82/100\n",
      "59/59 [==============================] - 0s 7ms/step - loss: 0.6312 - accuracy: 0.6438 - val_loss: 0.6126 - val_accuracy: 0.6502\n",
      "Epoch 83/100\n",
      "59/59 [==============================] - 0s 7ms/step - loss: 0.6317 - accuracy: 0.6384 - val_loss: 0.6122 - val_accuracy: 0.6309\n",
      "Epoch 84/100\n",
      "59/59 [==============================] - 0s 7ms/step - loss: 0.6296 - accuracy: 0.6403 - val_loss: 0.6114 - val_accuracy: 0.6567\n",
      "Epoch 85/100\n",
      "59/59 [==============================] - 0s 7ms/step - loss: 0.6293 - accuracy: 0.6451 - val_loss: 0.6165 - val_accuracy: 0.6202\n",
      "Epoch 86/100\n",
      "59/59 [==============================] - 0s 7ms/step - loss: 0.6295 - accuracy: 0.6427 - val_loss: 0.6149 - val_accuracy: 0.6180\n",
      "Epoch 87/100\n",
      "59/59 [==============================] - 0s 7ms/step - loss: 0.6289 - accuracy: 0.6419 - val_loss: 0.6122 - val_accuracy: 0.6288\n",
      "Epoch 88/100\n",
      "59/59 [==============================] - 0s 7ms/step - loss: 0.6286 - accuracy: 0.6467 - val_loss: 0.6115 - val_accuracy: 0.6309\n",
      "Epoch 89/100\n",
      "59/59 [==============================] - 0s 7ms/step - loss: 0.6281 - accuracy: 0.6448 - val_loss: 0.6116 - val_accuracy: 0.6309\n",
      "Epoch 90/100\n",
      "59/59 [==============================] - 1s 9ms/step - loss: 0.6310 - accuracy: 0.6384 - val_loss: 0.6110 - val_accuracy: 0.6631\n",
      "Epoch 91/100\n",
      "59/59 [==============================] - 1s 10ms/step - loss: 0.6298 - accuracy: 0.6443 - val_loss: 0.6132 - val_accuracy: 0.6094\n",
      "Epoch 92/100\n",
      "59/59 [==============================] - 0s 6ms/step - loss: 0.6284 - accuracy: 0.6470 - val_loss: 0.6124 - val_accuracy: 0.6159\n",
      "Epoch 93/100\n",
      "59/59 [==============================] - 1s 9ms/step - loss: 0.6286 - accuracy: 0.6440 - val_loss: 0.6135 - val_accuracy: 0.6159\n",
      "Epoch 94/100\n",
      "59/59 [==============================] - 0s 7ms/step - loss: 0.6276 - accuracy: 0.6467 - val_loss: 0.6104 - val_accuracy: 0.6545\n",
      "Epoch 95/100\n",
      "59/59 [==============================] - 0s 8ms/step - loss: 0.6276 - accuracy: 0.6470 - val_loss: 0.6109 - val_accuracy: 0.6609\n",
      "Epoch 96/100\n",
      "59/59 [==============================] - 0s 7ms/step - loss: 0.6282 - accuracy: 0.6475 - val_loss: 0.6098 - val_accuracy: 0.6609\n",
      "Epoch 97/100\n",
      "59/59 [==============================] - 0s 6ms/step - loss: 0.6278 - accuracy: 0.6472 - val_loss: 0.6146 - val_accuracy: 0.6202\n",
      "Epoch 98/100\n",
      "59/59 [==============================] - 0s 7ms/step - loss: 0.6286 - accuracy: 0.6430 - val_loss: 0.6100 - val_accuracy: 0.6416\n",
      "Epoch 99/100\n",
      "59/59 [==============================] - 0s 7ms/step - loss: 0.6279 - accuracy: 0.6427 - val_loss: 0.6123 - val_accuracy: 0.6137\n",
      "Epoch 100/100\n",
      "59/59 [==============================] - 0s 7ms/step - loss: 0.6282 - accuracy: 0.6443 - val_loss: 0.6116 - val_accuracy: 0.6545\n"
     ]
    }
   ],
   "source": [
    "# Train the model\n",
    "history = model.fit(X_train, y_train, epochs=100, batch_size=64, validation_data=(X_val, y_val))"
   ]
  },
  {
   "cell_type": "code",
   "execution_count": 34,
   "metadata": {},
   "outputs": [
    {
     "name": "stdout",
     "output_type": "stream",
     "text": [
      "dict_keys(['loss', 'accuracy', 'val_loss', 'val_accuracy'])\n"
     ]
    },
    {
     "data": {
      "image/png": "[encoded data removed]",
      "text/plain": [
       "<Figure size 640x480 with 1 Axes>"
      ]
     },
     "metadata": {},
     "output_type": "display_data"
    }
   ],
   "source": [
    "# plot the training and validation loss\n",
    "# Get the training and validation loss history\n",
    "print(history.history.keys())\n",
    "\n",
    "# Plot the training and validation loss\n",
    "plt.plot(history.history['loss'], label='Training Loss')\n",
    "plt.plot(history.history['val_loss'], label='Validation Loss')\n",
    "plt.xlabel('Epoch')\n",
    "plt.ylabel('Loss')\n",
    "plt.legend()\n",
    "plt.show()"
   ]
  },
  {
   "cell_type": "code",
   "execution_count": 35,
   "metadata": {},
   "outputs": [
    {
     "name": "stdout",
     "output_type": "stream",
     "text": [
      "15/15 [==============================] - 0s 2ms/step\n",
      "              precision    recall  f1-score   support\n",
      "\n",
      "           0       0.67      0.66      0.67       233\n",
      "           1       0.67      0.67      0.67       233\n",
      "\n",
      "    accuracy                           0.67       466\n",
      "   macro avg       0.67      0.67      0.67       466\n",
      "weighted avg       0.67      0.67      0.67       466\n",
      "\n"
     ]
    },
    {
     "name": "stderr",
     "output_type": "stream",
     "text": [
      "2023-04-09 21:51:26.283021: I tensorflow/core/grappler/optimizers/custom_graph_optimizer_registry.cc:113] Plugin optimizer for device_type GPU is enabled.\n"
     ]
    }
   ],
   "source": [
    "# evaluate the model on the test set\n",
    "y_pred = model.predict(X_test)\n",
    "y_pred = (y_pred>0.5).astype(int)\n",
    "print(classification_report(y_test, y_pred))"
   ]
  },
  {
   "attachments": {},
   "cell_type": "markdown",
   "metadata": {},
   "source": [
    "# Single LSTM Layer Test\n",
    "Instead of using welch, pass in individual STFT time frames to a single recurrent layer.\n",
    "\n",
    "Try out bayesian hyperparameter search for regularization and dropout params."
   ]
  },
  {
   "cell_type": "code",
   "execution_count": 69,
   "metadata": {},
   "outputs": [
    {
     "name": "stdout",
     "output_type": "stream",
     "text": [
      "(3725, 4, 23, 9)\n",
      "(3725, 9, 92)\n",
      "(466, 4, 23, 9)\n",
      "(466, 9, 92)\n",
      "(466, 4, 23, 9)\n",
      "(466, 9, 92)\n"
     ]
    }
   ],
   "source": [
    "# initialize sequential data\n",
    "scaler = StandardScaler()\n",
    "\n",
    "# log psd features in sensorimotor range\n",
    "X_train = train_stft[:, :, np.logical_and(freqs >= 8, freqs <= 30), :]\n",
    "print(X_train.shape)\n",
    "\n",
    "# merge channel and fft axis (1, 2)\n",
    "# move time axis to position 1 from 2 (keras format)\n",
    "X_train = np.moveaxis(X_train.reshape(X_train.shape[0], -1, X_train.shape[-1]), 2, 1)\n",
    "X_train = scaler.fit_transform(X_train.reshape((X_train.shape[0]*X_train.shape[1],X_train.shape[2]))).reshape((X_train.shape[0],X_train.shape[1],X_train.shape[2]))\n",
    "print(X_train.shape)\n",
    "\n",
    "X_val = val_stft[:, :, np.logical_and(freqs >= 8, freqs <= 30), :]\n",
    "print(X_val.shape)\n",
    "X_val = np.moveaxis(X_val.reshape(X_val.shape[0], -1, X_val.shape[-1]), 2, 1)\n",
    "X_val = scaler.transform(X_val.reshape((X_val.shape[0]*X_val.shape[1],X_val.shape[2]))).reshape((X_val.shape[0],X_val.shape[1],X_val.shape[2]))\n",
    "print(X_val.shape)\n",
    "\n",
    "X_test = test_stft[:, :, np.logical_and(freqs >= 8, freqs <= 30), :]\n",
    "print(X_test.shape)\n",
    "X_test = np.moveaxis(X_test.reshape(X_test.shape[0], -1, X_test.shape[-1]), 2, 1)\n",
    "X_test = scaler.transform(X_test.reshape((X_test.shape[0]*X_test.shape[1],X_test.shape[2]))).reshape((X_test.shape[0],X_test.shape[1],X_test.shape[2]))\n",
    "print(X_test.shape)"
   ]
  },
  {
   "attachments": {},
   "cell_type": "markdown",
   "metadata": {},
   "source": [
    "## Keras/Tensorflow Approach"
   ]
  },
  {
   "cell_type": "code",
   "execution_count": 70,
   "metadata": {},
   "outputs": [],
   "source": [
    "from keras.models import Sequential\n",
    "from keras.layers import Dense, LSTM, BatchNormalization, Dropout\n",
    "from keras.regularizers import l2\n",
    "import keras_tuner as kt\n",
    "from keras.optimizers import Adam\n"
   ]
  },
  {
   "cell_type": "code",
   "execution_count": 12,
   "metadata": {},
   "outputs": [],
   "source": [
    "def build_model(hp):\n",
    "    model = Sequential()\n",
    "    model.add(Dropout(hp.Float(\"input_dropout_rate\", min_value=0.0, max_value=0.2, step=0.1)))\n",
    "    if hp.Choice(\"batch_norm1\", values=[True, False]):\n",
    "        model.add(BatchNormalization())\n",
    "    model.add(LSTM(\n",
    "    hp.Int(\"dense_units\", min_value=16,\n",
    "\t\tmax_value=128, step=16), \n",
    "    input_shape=(9, 92), \n",
    "    dropout=hp.Float(\"dropout\", min_value=0.0, max_value=0.5, step=0.1),\n",
    "    kernel_regularizer=l2(hp.Float(\"kl2_lstm\", min_value=0.0, max_value=0.1, step=0.01)),\n",
    "    recurrent_regularizer=l2(hp.Float(\"rl2_lstm\", min_value=0.0, max_value=0.1, step=0.01)),\n",
    "    bias_regularizer=l2(hp.Float(\"bl2_lstm\", min_value=0.0, max_value=0.1, step=0.01)),\n",
    "    recurrent_dropout=hp.Float(\"rdropout\", min_value=0.0, max_value=0.5, step=0.1)\n",
    "    ))\n",
    "    if hp.Choice('batch_norm2', values=[True, False]):\n",
    "        model.add(BatchNormalization())\n",
    "    model.add(Dense(1, activation='sigmoid', \n",
    "    kernel_regularizer=l2(hp.Float(\"kl2_dense\", min_value=0.0, max_value=0.1, step=0.01)),\n",
    "    bias_regularizer=l2(hp.Float(\"bl2_dense\", min_value=0.0, max_value=0.1, step=0.01)),\n",
    "    # dropout=hp.Float(\"dropout_dense\", min_value=0.0, max_value=0.5, step=0.1)\n",
    "    ))\n",
    "\n",
    "    lr = hp.Choice(\"learning_rate\",\n",
    "      values=[1e-1, 1e-2, 1e-3])\n",
    "    opt = Adam(learning_rate=lr)\n",
    "\n",
    "    model.compile(optimizer=opt, loss='binary_crossentropy', metrics=['accuracy'])\n",
    "    return model"
   ]
  },
  {
   "cell_type": "code",
   "execution_count": 13,
   "metadata": {},
   "outputs": [
    {
     "name": "stdout",
     "output_type": "stream",
     "text": [
      "Trial 10 Complete [00h 01m 27s]\n",
      "val_accuracy: 0.6502146124839783\n",
      "\n",
      "Best val_accuracy So Far: 0.6695278882980347\n",
      "Total elapsed time: 00h 02m 54s\n",
      "INFO:tensorflow:Oracle triggered exit\n"
     ]
    }
   ],
   "source": [
    "tuner = kt.BayesianOptimization(\n",
    "    build_model,\n",
    "    objective='val_accuracy',\n",
    "    max_trials=10,\n",
    "    seed=42,\n",
    "    project_name='lstm_tuner',\n",
    ")\n",
    "\n",
    "tuner.search(X_train, y_train, epochs=10, batch_size=128, validation_data=(X_val, y_val))"
   ]
  },
  {
   "cell_type": "code",
   "execution_count": 14,
   "metadata": {},
   "outputs": [
    {
     "name": "stdout",
     "output_type": "stream",
     "text": [
      "{'input_dropout': 0, 'input_dropout_rate': 0.1, 'batch_norm1': 1, 'dense_units': 128, 'dropout': 0.0, 'kl2_lstm': 0.1, 'rl2_lstm': 0.1, 'bl2_lstm': 0.06, 'rdropout': 0.5, 'batch_norm2': 0, 'kl2_dense': 0.0, 'bl2_dense': 0.1, 'learning_rate': 0.001}\n"
     ]
    }
   ],
   "source": [
    "best_hps = tuner.get_best_hyperparameters(num_trials=1)[0]\n",
    "print(best_hps.values)"
   ]
  },
  {
   "cell_type": "code",
   "execution_count": 16,
   "metadata": {},
   "outputs": [
    {
     "name": "stdout",
     "output_type": "stream",
     "text": [
      "WARNING:tensorflow:Layer lstm_2 will not use cuDNN kernels since it doesn't meet the criteria. It will use a generic GPU kernel as fallback when running on GPU.\n",
      "Epoch 1/100\n"
     ]
    },
    {
     "name": "stderr",
     "output_type": "stream",
     "text": [
      "2023-04-10 15:27:55.618210: I tensorflow/core/grappler/optimizers/custom_graph_optimizer_registry.cc:113] Plugin optimizer for device_type GPU is enabled.\n"
     ]
    },
    {
     "name": "stdout",
     "output_type": "stream",
     "text": [
      "30/30 [==============================] - ETA: 0s - loss: 26.3299 - accuracy: 0.5093"
     ]
    },
    {
     "name": "stderr",
     "output_type": "stream",
     "text": [
      "2023-04-10 15:28:03.632821: I tensorflow/core/grappler/optimizers/custom_graph_optimizer_registry.cc:113] Plugin optimizer for device_type GPU is enabled.\n"
     ]
    },
    {
     "name": "stdout",
     "output_type": "stream",
     "text": [
      "30/30 [==============================] - 9s 260ms/step - loss: 26.3299 - accuracy: 0.5093 - val_loss: 17.6371 - val_accuracy: 0.5386\n",
      "Epoch 2/100\n",
      "30/30 [==============================] - 7s 224ms/step - loss: 13.6688 - accuracy: 0.5689 - val_loss: 10.4854 - val_accuracy: 0.5987\n",
      "Epoch 3/100\n",
      "30/30 [==============================] - 7s 227ms/step - loss: 9.0823 - accuracy: 0.5922 - val_loss: 7.9218 - val_accuracy: 0.6288\n",
      "Epoch 4/100\n",
      "30/30 [==============================] - 7s 236ms/step - loss: 7.3854 - accuracy: 0.6089 - val_loss: 6.8907 - val_accuracy: 0.6567\n",
      "Epoch 5/100\n",
      "30/30 [==============================] - 7s 221ms/step - loss: 6.6227 - accuracy: 0.6156 - val_loss: 6.3381 - val_accuracy: 0.6459\n",
      "Epoch 6/100\n",
      "30/30 [==============================] - 7s 221ms/step - loss: 6.1512 - accuracy: 0.6030 - val_loss: 5.9339 - val_accuracy: 0.6223\n",
      "Epoch 7/100\n",
      "30/30 [==============================] - 7s 229ms/step - loss: 5.7733 - accuracy: 0.6113 - val_loss: 5.5696 - val_accuracy: 0.6695\n",
      "Epoch 8/100\n",
      "30/30 [==============================] - 7s 249ms/step - loss: 5.4304 - accuracy: 0.6021 - val_loss: 5.2496 - val_accuracy: 0.6073\n",
      "Epoch 9/100\n",
      "30/30 [==============================] - 7s 233ms/step - loss: 5.1136 - accuracy: 0.6048 - val_loss: 4.9438 - val_accuracy: 0.6094\n",
      "Epoch 10/100\n",
      "30/30 [==============================] - 8s 259ms/step - loss: 4.8096 - accuracy: 0.6021 - val_loss: 4.6405 - val_accuracy: 0.6652\n",
      "Epoch 11/100\n",
      "30/30 [==============================] - 8s 251ms/step - loss: 4.5283 - accuracy: 0.5995 - val_loss: 4.3714 - val_accuracy: 0.6009\n",
      "Epoch 12/100\n",
      "30/30 [==============================] - 7s 237ms/step - loss: 4.2580 - accuracy: 0.6070 - val_loss: 4.1035 - val_accuracy: 0.6567\n",
      "Epoch 13/100\n",
      "30/30 [==============================] - 7s 239ms/step - loss: 4.0018 - accuracy: 0.6062 - val_loss: 3.8787 - val_accuracy: 0.6009\n",
      "Epoch 14/100\n",
      "30/30 [==============================] - 8s 259ms/step - loss: 3.7647 - accuracy: 0.6056 - val_loss: 3.6240 - val_accuracy: 0.6695\n",
      "Epoch 15/100\n",
      "30/30 [==============================] - 7s 243ms/step - loss: 3.5411 - accuracy: 0.5989 - val_loss: 3.4275 - val_accuracy: 0.5880\n",
      "Epoch 16/100\n",
      "30/30 [==============================] - 7s 233ms/step - loss: 3.3236 - accuracy: 0.6091 - val_loss: 3.2063 - val_accuracy: 0.6137\n",
      "Epoch 17/100\n",
      "30/30 [==============================] - 7s 232ms/step - loss: 3.1227 - accuracy: 0.5992 - val_loss: 3.0466 - val_accuracy: 0.5837\n",
      "Epoch 18/100\n",
      "30/30 [==============================] - 7s 231ms/step - loss: 2.9353 - accuracy: 0.6008 - val_loss: 2.8199 - val_accuracy: 0.6545\n",
      "Epoch 19/100\n",
      "30/30 [==============================] - 7s 235ms/step - loss: 2.7551 - accuracy: 0.6016 - val_loss: 2.6585 - val_accuracy: 0.6116\n",
      "Epoch 20/100\n",
      "30/30 [==============================] - 7s 236ms/step - loss: 2.5925 - accuracy: 0.5995 - val_loss: 2.4985 - val_accuracy: 0.6159\n",
      "Epoch 21/100\n",
      "30/30 [==============================] - 7s 243ms/step - loss: 2.4333 - accuracy: 0.6016 - val_loss: 2.3573 - val_accuracy: 0.6094\n",
      "Epoch 22/100\n",
      "30/30 [==============================] - 7s 244ms/step - loss: 2.2927 - accuracy: 0.5930 - val_loss: 2.2017 - val_accuracy: 0.6094\n",
      "Epoch 23/100\n",
      "30/30 [==============================] - 7s 243ms/step - loss: 2.1503 - accuracy: 0.6121 - val_loss: 2.0763 - val_accuracy: 0.6202\n",
      "Epoch 24/100\n",
      "30/30 [==============================] - 7s 235ms/step - loss: 2.0293 - accuracy: 0.6008 - val_loss: 1.9454 - val_accuracy: 0.6373\n",
      "Epoch 25/100\n",
      "30/30 [==============================] - 8s 255ms/step - loss: 1.9082 - accuracy: 0.6072 - val_loss: 1.8333 - val_accuracy: 0.6459\n",
      "Epoch 26/100\n",
      "30/30 [==============================] - 7s 236ms/step - loss: 1.8080 - accuracy: 0.5863 - val_loss: 1.7464 - val_accuracy: 0.6073\n",
      "Epoch 27/100\n",
      "30/30 [==============================] - 7s 239ms/step - loss: 1.6961 - accuracy: 0.6054 - val_loss: 1.6321 - val_accuracy: 0.6674\n",
      "Epoch 28/100\n",
      "30/30 [==============================] - 7s 239ms/step - loss: 1.6032 - accuracy: 0.6046 - val_loss: 1.5500 - val_accuracy: 0.5987\n",
      "Epoch 29/100\n",
      "30/30 [==============================] - 7s 236ms/step - loss: 1.5263 - accuracy: 0.5882 - val_loss: 1.4773 - val_accuracy: 0.5901\n",
      "Epoch 30/100\n",
      "30/30 [==============================] - 7s 235ms/step - loss: 1.4382 - accuracy: 0.5981 - val_loss: 1.3809 - val_accuracy: 0.6459\n",
      "Epoch 31/100\n",
      "30/30 [==============================] - 7s 234ms/step - loss: 1.3593 - accuracy: 0.6064 - val_loss: 1.3140 - val_accuracy: 0.6223\n",
      "Epoch 32/100\n",
      "30/30 [==============================] - 7s 235ms/step - loss: 1.2993 - accuracy: 0.6003 - val_loss: 1.2596 - val_accuracy: 0.5944\n",
      "Epoch 33/100\n",
      "30/30 [==============================] - 7s 233ms/step - loss: 1.2310 - accuracy: 0.5997 - val_loss: 1.1833 - val_accuracy: 0.6481\n",
      "Epoch 34/100\n",
      "30/30 [==============================] - 7s 236ms/step - loss: 1.1744 - accuracy: 0.5979 - val_loss: 1.1326 - val_accuracy: 0.6073\n",
      "Epoch 35/100\n",
      "30/30 [==============================] - 7s 238ms/step - loss: 1.1174 - accuracy: 0.6072 - val_loss: 1.0773 - val_accuracy: 0.6416\n",
      "Epoch 36/100\n",
      "30/30 [==============================] - 7s 245ms/step - loss: 1.0702 - accuracy: 0.6102 - val_loss: 1.0529 - val_accuracy: 0.5944\n",
      "Epoch 37/100\n",
      "30/30 [==============================] - 7s 247ms/step - loss: 1.0336 - accuracy: 0.5909 - val_loss: 0.9957 - val_accuracy: 0.5944\n",
      "Epoch 38/100\n",
      "30/30 [==============================] - 7s 236ms/step - loss: 0.9866 - accuracy: 0.6032 - val_loss: 0.9569 - val_accuracy: 0.6395\n",
      "Epoch 39/100\n",
      "30/30 [==============================] - 7s 236ms/step - loss: 0.9578 - accuracy: 0.5938 - val_loss: 0.9301 - val_accuracy: 0.6073\n",
      "Epoch 40/100\n",
      "30/30 [==============================] - 8s 262ms/step - loss: 0.9318 - accuracy: 0.5901 - val_loss: 0.8922 - val_accuracy: 0.6180\n",
      "Epoch 41/100\n",
      "30/30 [==============================] - 8s 271ms/step - loss: 0.8924 - accuracy: 0.6032 - val_loss: 0.8617 - val_accuracy: 0.6395\n",
      "Epoch 42/100\n",
      "30/30 [==============================] - 8s 257ms/step - loss: 0.8642 - accuracy: 0.6094 - val_loss: 0.8431 - val_accuracy: 0.6030\n",
      "Epoch 43/100\n",
      "30/30 [==============================] - 8s 258ms/step - loss: 0.8392 - accuracy: 0.6078 - val_loss: 0.8174 - val_accuracy: 0.6416\n",
      "Epoch 44/100\n",
      "30/30 [==============================] - 7s 242ms/step - loss: 0.8222 - accuracy: 0.5989 - val_loss: 0.8025 - val_accuracy: 0.6159\n",
      "Epoch 45/100\n",
      "30/30 [==============================] - 7s 250ms/step - loss: 0.8100 - accuracy: 0.5860 - val_loss: 0.7789 - val_accuracy: 0.6524\n",
      "Epoch 46/100\n",
      "30/30 [==============================] - 7s 241ms/step - loss: 0.7840 - accuracy: 0.6030 - val_loss: 0.7632 - val_accuracy: 0.6288\n",
      "Epoch 47/100\n",
      "30/30 [==============================] - 7s 248ms/step - loss: 0.7707 - accuracy: 0.6051 - val_loss: 0.7507 - val_accuracy: 0.6545\n",
      "Epoch 48/100\n",
      "30/30 [==============================] - 7s 239ms/step - loss: 0.7615 - accuracy: 0.5877 - val_loss: 0.7444 - val_accuracy: 0.5987\n",
      "Epoch 49/100\n",
      "30/30 [==============================] - 7s 240ms/step - loss: 0.7513 - accuracy: 0.5979 - val_loss: 0.7254 - val_accuracy: 0.6330\n",
      "Epoch 50/100\n",
      "30/30 [==============================] - 7s 238ms/step - loss: 0.7340 - accuracy: 0.6016 - val_loss: 0.7176 - val_accuracy: 0.6309\n",
      "Epoch 51/100\n",
      "30/30 [==============================] - 7s 240ms/step - loss: 0.7289 - accuracy: 0.6003 - val_loss: 0.7078 - val_accuracy: 0.6309\n",
      "Epoch 52/100\n",
      "30/30 [==============================] - 7s 240ms/step - loss: 0.7141 - accuracy: 0.6011 - val_loss: 0.7114 - val_accuracy: 0.6073\n",
      "Epoch 53/100\n",
      "30/30 [==============================] - 8s 265ms/step - loss: 0.7095 - accuracy: 0.6019 - val_loss: 0.6972 - val_accuracy: 0.6030\n",
      "Epoch 54/100\n",
      "30/30 [==============================] - 7s 240ms/step - loss: 0.7060 - accuracy: 0.5992 - val_loss: 0.6927 - val_accuracy: 0.5966\n",
      "Epoch 55/100\n",
      "30/30 [==============================] - 8s 270ms/step - loss: 0.6984 - accuracy: 0.5976 - val_loss: 0.6919 - val_accuracy: 0.5966\n",
      "Epoch 56/100\n",
      "30/30 [==============================] - 8s 259ms/step - loss: 0.6936 - accuracy: 0.6059 - val_loss: 0.6772 - val_accuracy: 0.6416\n",
      "Epoch 57/100\n",
      "30/30 [==============================] - 7s 242ms/step - loss: 0.6923 - accuracy: 0.6035 - val_loss: 0.6899 - val_accuracy: 0.6030\n",
      "Epoch 58/100\n",
      "30/30 [==============================] - 8s 271ms/step - loss: 0.6853 - accuracy: 0.5930 - val_loss: 0.6720 - val_accuracy: 0.6245\n",
      "Epoch 59/100\n",
      "30/30 [==============================] - 9s 308ms/step - loss: 0.6857 - accuracy: 0.6000 - val_loss: 0.6791 - val_accuracy: 0.5987\n",
      "Epoch 60/100\n",
      "30/30 [==============================] - 8s 276ms/step - loss: 0.6806 - accuracy: 0.5968 - val_loss: 0.6650 - val_accuracy: 0.6330\n",
      "Epoch 61/100\n",
      "30/30 [==============================] - 7s 244ms/step - loss: 0.6837 - accuracy: 0.5944 - val_loss: 0.6664 - val_accuracy: 0.6245\n",
      "Epoch 62/100\n",
      "30/30 [==============================] - 7s 244ms/step - loss: 0.6752 - accuracy: 0.6043 - val_loss: 0.6679 - val_accuracy: 0.6159\n",
      "Epoch 63/100\n",
      "30/30 [==============================] - 7s 241ms/step - loss: 0.6734 - accuracy: 0.6038 - val_loss: 0.6635 - val_accuracy: 0.6116\n",
      "Epoch 64/100\n",
      "30/30 [==============================] - 7s 244ms/step - loss: 0.6729 - accuracy: 0.6099 - val_loss: 0.6602 - val_accuracy: 0.6309\n",
      "Epoch 65/100\n",
      "30/30 [==============================] - 7s 243ms/step - loss: 0.6768 - accuracy: 0.5922 - val_loss: 0.6565 - val_accuracy: 0.6373\n",
      "Epoch 66/100\n",
      "30/30 [==============================] - 7s 243ms/step - loss: 0.6694 - accuracy: 0.6078 - val_loss: 0.6622 - val_accuracy: 0.6202\n",
      "Epoch 67/100\n",
      "30/30 [==============================] - 7s 246ms/step - loss: 0.6792 - accuracy: 0.5890 - val_loss: 0.6577 - val_accuracy: 0.6438\n",
      "Epoch 68/100\n",
      "30/30 [==============================] - 7s 247ms/step - loss: 0.6745 - accuracy: 0.6030 - val_loss: 0.6607 - val_accuracy: 0.5966\n",
      "Epoch 69/100\n",
      "30/30 [==============================] - 8s 249ms/step - loss: 0.6694 - accuracy: 0.6011 - val_loss: 0.6745 - val_accuracy: 0.6052\n",
      "Epoch 70/100\n",
      "30/30 [==============================] - 9s 307ms/step - loss: 0.6717 - accuracy: 0.5992 - val_loss: 0.6571 - val_accuracy: 0.6137\n",
      "Epoch 71/100\n",
      "30/30 [==============================] - 7s 247ms/step - loss: 0.6688 - accuracy: 0.6003 - val_loss: 0.6573 - val_accuracy: 0.6438\n",
      "Epoch 72/100\n",
      "30/30 [==============================] - 7s 248ms/step - loss: 0.6667 - accuracy: 0.6083 - val_loss: 0.6564 - val_accuracy: 0.6352\n",
      "Epoch 73/100\n",
      "30/30 [==============================] - 7s 244ms/step - loss: 0.6755 - accuracy: 0.5989 - val_loss: 0.6545 - val_accuracy: 0.6502\n",
      "Epoch 74/100\n",
      "30/30 [==============================] - 8s 261ms/step - loss: 0.6682 - accuracy: 0.6003 - val_loss: 0.6574 - val_accuracy: 0.6137\n",
      "Epoch 75/100\n",
      "30/30 [==============================] - 8s 269ms/step - loss: 0.6704 - accuracy: 0.5952 - val_loss: 0.6552 - val_accuracy: 0.6094\n",
      "Epoch 76/100\n",
      "30/30 [==============================] - 8s 271ms/step - loss: 0.6687 - accuracy: 0.5960 - val_loss: 0.6627 - val_accuracy: 0.6116\n",
      "Epoch 77/100\n",
      "30/30 [==============================] - 8s 259ms/step - loss: 0.6711 - accuracy: 0.6019 - val_loss: 0.6575 - val_accuracy: 0.5966\n",
      "Epoch 78/100\n",
      "30/30 [==============================] - 8s 258ms/step - loss: 0.6723 - accuracy: 0.5936 - val_loss: 0.6654 - val_accuracy: 0.6116\n",
      "Epoch 79/100\n",
      "30/30 [==============================] - 7s 243ms/step - loss: 0.6768 - accuracy: 0.5911 - val_loss: 0.6528 - val_accuracy: 0.6502\n",
      "Epoch 80/100\n",
      "30/30 [==============================] - 7s 250ms/step - loss: 0.6713 - accuracy: 0.6011 - val_loss: 0.6599 - val_accuracy: 0.6116\n",
      "Epoch 81/100\n",
      "30/30 [==============================] - 8s 270ms/step - loss: 0.6697 - accuracy: 0.5987 - val_loss: 0.6608 - val_accuracy: 0.6030\n",
      "Epoch 82/100\n",
      "30/30 [==============================] - 7s 243ms/step - loss: 0.6672 - accuracy: 0.6078 - val_loss: 0.6607 - val_accuracy: 0.6030\n",
      "Epoch 83/100\n",
      "30/30 [==============================] - 7s 244ms/step - loss: 0.6679 - accuracy: 0.6035 - val_loss: 0.6516 - val_accuracy: 0.6373\n",
      "Epoch 84/100\n",
      "30/30 [==============================] - 7s 242ms/step - loss: 0.6672 - accuracy: 0.6003 - val_loss: 0.6529 - val_accuracy: 0.6245\n",
      "Epoch 85/100\n",
      "30/30 [==============================] - 8s 273ms/step - loss: 0.6663 - accuracy: 0.6003 - val_loss: 0.6511 - val_accuracy: 0.6459\n",
      "Epoch 86/100\n",
      "30/30 [==============================] - 8s 258ms/step - loss: 0.6653 - accuracy: 0.6021 - val_loss: 0.6680 - val_accuracy: 0.5987\n",
      "Epoch 87/100\n",
      "30/30 [==============================] - 7s 248ms/step - loss: 0.6666 - accuracy: 0.6051 - val_loss: 0.6716 - val_accuracy: 0.5794\n",
      "Epoch 88/100\n",
      "30/30 [==============================] - 8s 253ms/step - loss: 0.6683 - accuracy: 0.6019 - val_loss: 0.6577 - val_accuracy: 0.6073\n",
      "Epoch 89/100\n",
      "30/30 [==============================] - 8s 254ms/step - loss: 0.6662 - accuracy: 0.6043 - val_loss: 0.6533 - val_accuracy: 0.6159\n",
      "Epoch 90/100\n",
      "30/30 [==============================] - 7s 244ms/step - loss: 0.6682 - accuracy: 0.5976 - val_loss: 0.6516 - val_accuracy: 0.6459\n",
      "Epoch 91/100\n",
      "30/30 [==============================] - 7s 245ms/step - loss: 0.6661 - accuracy: 0.6078 - val_loss: 0.6510 - val_accuracy: 0.6288\n",
      "Epoch 92/100\n",
      "30/30 [==============================] - 8s 259ms/step - loss: 0.6624 - accuracy: 0.6183 - val_loss: 0.6509 - val_accuracy: 0.6223\n",
      "Epoch 93/100\n",
      "30/30 [==============================] - 8s 256ms/step - loss: 0.6627 - accuracy: 0.6083 - val_loss: 0.6522 - val_accuracy: 0.6052\n",
      "Epoch 94/100\n",
      "30/30 [==============================] - 8s 255ms/step - loss: 0.6643 - accuracy: 0.6027 - val_loss: 0.6522 - val_accuracy: 0.6545\n",
      "Epoch 95/100\n",
      "30/30 [==============================] - 8s 261ms/step - loss: 0.6663 - accuracy: 0.6046 - val_loss: 0.6590 - val_accuracy: 0.6137\n",
      "Epoch 96/100\n",
      "30/30 [==============================] - 7s 249ms/step - loss: 0.6671 - accuracy: 0.6003 - val_loss: 0.6585 - val_accuracy: 0.6052\n",
      "Epoch 97/100\n",
      "30/30 [==============================] - 7s 249ms/step - loss: 0.6629 - accuracy: 0.6129 - val_loss: 0.6505 - val_accuracy: 0.6373\n",
      "Epoch 98/100\n",
      "30/30 [==============================] - 8s 255ms/step - loss: 0.6653 - accuracy: 0.6102 - val_loss: 0.6680 - val_accuracy: 0.5987\n",
      "Epoch 99/100\n",
      "30/30 [==============================] - 7s 248ms/step - loss: 0.6667 - accuracy: 0.6032 - val_loss: 0.6501 - val_accuracy: 0.6180\n",
      "Epoch 100/100\n",
      "30/30 [==============================] - 8s 251ms/step - loss: 0.6632 - accuracy: 0.6086 - val_loss: 0.6524 - val_accuracy: 0.6094\n"
     ]
    }
   ],
   "source": [
    "model = tuner.hypermodel.build(best_hps)\n",
    "history = model.fit(X_train, y_train, epochs=100, batch_size=128, validation_data=(X_val, y_val))"
   ]
  },
  {
   "cell_type": "code",
   "execution_count": 17,
   "metadata": {},
   "outputs": [
    {
     "name": "stdout",
     "output_type": "stream",
     "text": [
      "Model: \"sequential_2\"\n",
      "_________________________________________________________________\n",
      " Layer (type)                Output Shape              Param #   \n",
      "=================================================================\n",
      " dropout_2 (Dropout)         (None, 9, 92)             0         \n",
      "                                                                 \n",
      " batch_normalization_2 (Batc  (None, 9, 92)            368       \n",
      " hNormalization)                                                 \n",
      "                                                                 \n",
      " lstm_2 (LSTM)               (None, 128)               113152    \n",
      "                                                                 \n",
      " dense_2 (Dense)             (None, 1)                 129       \n",
      "                                                                 \n",
      "=================================================================\n",
      "Total params: 113,649\n",
      "Trainable params: 113,465\n",
      "Non-trainable params: 184\n",
      "_________________________________________________________________\n"
     ]
    }
   ],
   "source": [
    "model.summary()"
   ]
  },
  {
   "cell_type": "code",
   "execution_count": 18,
   "metadata": {},
   "outputs": [
    {
     "name": "stdout",
     "output_type": "stream",
     "text": [
      "dict_keys(['loss', 'accuracy', 'val_loss', 'val_accuracy'])\n"
     ]
    },
    {
     "data": {
      "image/png": "[encoded data removed]",
      "text/plain": [
       "<Figure size 640x480 with 1 Axes>"
      ]
     },
     "metadata": {},
     "output_type": "display_data"
    }
   ],
   "source": [
    "# plot the training and validation loss\n",
    "# Get the training and validation loss history\n",
    "print(history.history.keys())\n",
    "\n",
    "# Plot the training and validation loss\n",
    "plt.plot(history.history['loss'], label='Training Loss')\n",
    "plt.plot(history.history['val_loss'], label='Validation Loss')\n",
    "plt.xlabel('Epoch')\n",
    "plt.ylabel('Loss')\n",
    "plt.legend()\n",
    "plt.show()"
   ]
  },
  {
   "cell_type": "code",
   "execution_count": 19,
   "metadata": {},
   "outputs": [
    {
     "name": "stdout",
     "output_type": "stream",
     "text": [
      "15/15 [==============================] - 1s 39ms/step - loss: 0.6520 - accuracy: 0.6202\n"
     ]
    },
    {
     "data": {
      "text/plain": [
       "[0.6519922018051147, 0.6201716661453247]"
      ]
     },
     "execution_count": 19,
     "metadata": {},
     "output_type": "execute_result"
    }
   ],
   "source": [
    "model.evaluate(X_test, y_test)"
   ]
  },
  {
   "cell_type": "code",
   "execution_count": 20,
   "metadata": {},
   "outputs": [
    {
     "name": "stdout",
     "output_type": "stream",
     "text": [
      " 1/15 [=>............................] - ETA: 4s"
     ]
    },
    {
     "name": "stderr",
     "output_type": "stream",
     "text": [
      "2023-04-10 15:41:47.509533: I tensorflow/core/grappler/optimizers/custom_graph_optimizer_registry.cc:113] Plugin optimizer for device_type GPU is enabled.\n"
     ]
    },
    {
     "name": "stdout",
     "output_type": "stream",
     "text": [
      "15/15 [==============================] - 1s 31ms/step\n",
      "              precision    recall  f1-score   support\n",
      "\n",
      "           0       0.61      0.64      0.63       233\n",
      "           1       0.63      0.60      0.61       233\n",
      "\n",
      "    accuracy                           0.62       466\n",
      "   macro avg       0.62      0.62      0.62       466\n",
      "weighted avg       0.62      0.62      0.62       466\n",
      "\n"
     ]
    }
   ],
   "source": [
    "# evaluate the model on the test set\n",
    "y_pred = model.predict(X_test)\n",
    "y_pred = (y_pred>0.5).astype(int)\n",
    "print(classification_report(y_test, y_pred))"
   ]
  },
  {
   "attachments": {},
   "cell_type": "markdown",
   "metadata": {},
   "source": [
    "Manual parameter tuning after search"
   ]
  },
  {
   "cell_type": "code",
   "execution_count": 71,
   "metadata": {},
   "outputs": [
    {
     "name": "stdout",
     "output_type": "stream",
     "text": [
      "Model: \"sequential_15\"\n",
      "_________________________________________________________________\n",
      " Layer (type)                Output Shape              Param #   \n",
      "=================================================================\n",
      " lstm (LSTM)                 (None, 64)                40192     \n",
      "                                                                 \n",
      " batch_normalization (BatchN  (None, 64)               256       \n",
      " ormalization)                                                   \n",
      "                                                                 \n",
      " dense_9 (Dense)             (None, 1)                 65        \n",
      "                                                                 \n",
      "=================================================================\n",
      "Total params: 40,513\n",
      "Trainable params: 40,385\n",
      "Non-trainable params: 128\n",
      "_________________________________________________________________\n"
     ]
    }
   ],
   "source": [
    "hps_dict = {\n",
    "    'input_dropout': 0, \n",
    "    'input_dropout_rate': 0.1, \n",
    "    'batch_norm1': 1, \n",
    "    'dense_units': 128, \n",
    "    'dropout': 0.0, \n",
    "    'kl2_lstm': 0.1, \n",
    "    'rl2_lstm': 0.1, \n",
    "    'bl2_lstm': 0.06, \n",
    "    'rdropout': 0.5, \n",
    "    'batch_norm2': 0, \n",
    "    'kl2_dense': 0.0, \n",
    "    'bl2_dense': 0.1, \n",
    "    'learning_rate': 0.001\n",
    "}\n",
    "\n",
    "model = Sequential()\n",
    "# non reg\n",
    "# model.add(LSTM(32, input_shape=(9, 92)))\n",
    "# model.add(Dense(1, activation='sigmoid'))\n",
    "\n",
    "# L2 reg\n",
    "# model.add(LSTM(64, input_shape=(9, 92), kernel_regularizer=l2(0.01)))\n",
    "# model.add(Dense(1, activation='sigmoid', kernel_regularizer=l2(0.01)))\n",
    "\n",
    "# Dropout\n",
    "model.add(LSTM(64, input_shape=(9, 92), dropout=0.1))\n",
    "model.add(BatchNormalization())\n",
    "model.add(Dense(1, activation='sigmoid', kernel_regularizer=l2(0.01)))\n",
    "\n",
    "model.compile(optimizer='adam', loss='binary_crossentropy', metrics=['accuracy'])\n",
    "\n",
    "model.summary()\n"
   ]
  },
  {
   "cell_type": "code",
   "execution_count": 72,
   "metadata": {},
   "outputs": [
    {
     "name": "stdout",
     "output_type": "stream",
     "text": [
      "Epoch 1/100\n"
     ]
    },
    {
     "name": "stderr",
     "output_type": "stream",
     "text": [
      "2023-04-11 22:09:04.445464: I tensorflow/core/grappler/optimizers/custom_graph_optimizer_registry.cc:113] Plugin optimizer for device_type GPU is enabled.\n",
      "2023-04-11 22:09:04.773309: I tensorflow/core/grappler/optimizers/custom_graph_optimizer_registry.cc:113] Plugin optimizer for device_type GPU is enabled.\n",
      "2023-04-11 22:09:05.161083: I tensorflow/core/grappler/optimizers/custom_graph_optimizer_registry.cc:113] Plugin optimizer for device_type GPU is enabled.\n"
     ]
    },
    {
     "name": "stdout",
     "output_type": "stream",
     "text": [
      "30/30 [==============================] - ETA: 0s - loss: 0.7525 - accuracy: 0.5477"
     ]
    },
    {
     "name": "stderr",
     "output_type": "stream",
     "text": [
      "2023-04-11 22:09:07.039925: I tensorflow/core/grappler/optimizers/custom_graph_optimizer_registry.cc:113] Plugin optimizer for device_type GPU is enabled.\n",
      "2023-04-11 22:09:07.142944: I tensorflow/core/grappler/optimizers/custom_graph_optimizer_registry.cc:113] Plugin optimizer for device_type GPU is enabled.\n"
     ]
    },
    {
     "name": "stdout",
     "output_type": "stream",
     "text": [
      "30/30 [==============================] - 4s 71ms/step - loss: 0.7525 - accuracy: 0.5477 - val_loss: 0.6743 - val_accuracy: 0.6609\n",
      "Epoch 2/100\n",
      "30/30 [==============================] - 1s 21ms/step - loss: 0.6678 - accuracy: 0.6148 - val_loss: 0.6581 - val_accuracy: 0.7017\n",
      "Epoch 3/100\n",
      "30/30 [==============================] - 1s 22ms/step - loss: 0.6450 - accuracy: 0.6397 - val_loss: 0.6451 - val_accuracy: 0.6760\n",
      "Epoch 4/100\n",
      "30/30 [==============================] - 1s 18ms/step - loss: 0.6282 - accuracy: 0.6502 - val_loss: 0.6263 - val_accuracy: 0.6888\n",
      "Epoch 5/100\n",
      "30/30 [==============================] - 1s 17ms/step - loss: 0.6108 - accuracy: 0.6655 - val_loss: 0.6086 - val_accuracy: 0.7189\n",
      "Epoch 6/100\n",
      "30/30 [==============================] - 1s 18ms/step - loss: 0.5928 - accuracy: 0.6915 - val_loss: 0.5972 - val_accuracy: 0.7039\n",
      "Epoch 7/100\n",
      "30/30 [==============================] - 1s 17ms/step - loss: 0.5807 - accuracy: 0.7017 - val_loss: 0.5937 - val_accuracy: 0.6931\n",
      "Epoch 8/100\n",
      "30/30 [==============================] - 1s 17ms/step - loss: 0.5608 - accuracy: 0.7149 - val_loss: 0.5520 - val_accuracy: 0.7489\n",
      "Epoch 9/100\n",
      "30/30 [==============================] - 0s 17ms/step - loss: 0.5481 - accuracy: 0.7353 - val_loss: 0.5343 - val_accuracy: 0.7704\n",
      "Epoch 10/100\n",
      "30/30 [==============================] - 1s 17ms/step - loss: 0.5248 - accuracy: 0.7434 - val_loss: 0.5263 - val_accuracy: 0.7318\n",
      "Epoch 11/100\n",
      "30/30 [==============================] - 1s 17ms/step - loss: 0.5009 - accuracy: 0.7699 - val_loss: 0.5001 - val_accuracy: 0.7790\n",
      "Epoch 12/100\n",
      "30/30 [==============================] - 1s 17ms/step - loss: 0.4910 - accuracy: 0.7659 - val_loss: 0.4779 - val_accuracy: 0.7961\n",
      "Epoch 13/100\n",
      "30/30 [==============================] - 1s 17ms/step - loss: 0.4759 - accuracy: 0.7852 - val_loss: 0.4559 - val_accuracy: 0.7876\n",
      "Epoch 14/100\n",
      "30/30 [==============================] - 0s 17ms/step - loss: 0.4497 - accuracy: 0.7968 - val_loss: 0.4291 - val_accuracy: 0.8262\n",
      "Epoch 15/100\n",
      "30/30 [==============================] - 1s 17ms/step - loss: 0.4358 - accuracy: 0.8056 - val_loss: 0.4181 - val_accuracy: 0.8391\n",
      "Epoch 16/100\n",
      "30/30 [==============================] - 1s 17ms/step - loss: 0.3999 - accuracy: 0.8346 - val_loss: 0.4054 - val_accuracy: 0.8197\n",
      "Epoch 17/100\n",
      "30/30 [==============================] - 0s 17ms/step - loss: 0.3953 - accuracy: 0.8293 - val_loss: 0.3990 - val_accuracy: 0.8455\n",
      "Epoch 18/100\n",
      "30/30 [==============================] - 1s 18ms/step - loss: 0.3782 - accuracy: 0.8360 - val_loss: 0.3783 - val_accuracy: 0.8498\n",
      "Epoch 19/100\n",
      "30/30 [==============================] - 1s 17ms/step - loss: 0.3547 - accuracy: 0.8596 - val_loss: 0.3732 - val_accuracy: 0.8627\n",
      "Epoch 20/100\n",
      "30/30 [==============================] - 1s 17ms/step - loss: 0.3341 - accuracy: 0.8773 - val_loss: 0.3213 - val_accuracy: 0.8927\n",
      "Epoch 21/100\n",
      "30/30 [==============================] - 1s 17ms/step - loss: 0.3099 - accuracy: 0.8792 - val_loss: 0.3295 - val_accuracy: 0.8798\n",
      "Epoch 22/100\n",
      "30/30 [==============================] - 1s 21ms/step - loss: 0.2866 - accuracy: 0.8991 - val_loss: 0.2923 - val_accuracy: 0.9013\n",
      "Epoch 23/100\n",
      "30/30 [==============================] - 1s 17ms/step - loss: 0.2701 - accuracy: 0.9079 - val_loss: 0.3047 - val_accuracy: 0.8927\n",
      "Epoch 24/100\n",
      "30/30 [==============================] - 1s 17ms/step - loss: 0.2605 - accuracy: 0.9130 - val_loss: 0.2757 - val_accuracy: 0.9056\n",
      "Epoch 25/100\n",
      "30/30 [==============================] - 1s 17ms/step - loss: 0.2457 - accuracy: 0.9144 - val_loss: 0.3469 - val_accuracy: 0.8691\n",
      "Epoch 26/100\n",
      "30/30 [==============================] - 0s 17ms/step - loss: 0.2492 - accuracy: 0.9141 - val_loss: 0.2905 - val_accuracy: 0.8948\n",
      "Epoch 27/100\n",
      "30/30 [==============================] - 1s 18ms/step - loss: 0.2285 - accuracy: 0.9272 - val_loss: 0.2929 - val_accuracy: 0.8927\n",
      "Epoch 28/100\n",
      "30/30 [==============================] - 1s 18ms/step - loss: 0.2466 - accuracy: 0.9117 - val_loss: 0.2689 - val_accuracy: 0.9185\n",
      "Epoch 29/100\n",
      "30/30 [==============================] - 1s 20ms/step - loss: 0.2152 - accuracy: 0.9281 - val_loss: 0.2623 - val_accuracy: 0.9013\n",
      "Epoch 30/100\n",
      "30/30 [==============================] - 1s 20ms/step - loss: 0.2051 - accuracy: 0.9310 - val_loss: 0.2981 - val_accuracy: 0.8820\n",
      "Epoch 31/100\n",
      "30/30 [==============================] - 1s 17ms/step - loss: 0.2002 - accuracy: 0.9369 - val_loss: 0.2274 - val_accuracy: 0.9335\n",
      "Epoch 32/100\n",
      "30/30 [==============================] - 1s 17ms/step - loss: 0.1818 - accuracy: 0.9447 - val_loss: 0.2962 - val_accuracy: 0.8970\n",
      "Epoch 33/100\n",
      "30/30 [==============================] - 1s 21ms/step - loss: 0.1810 - accuracy: 0.9399 - val_loss: 0.2401 - val_accuracy: 0.9270\n",
      "Epoch 34/100\n",
      "30/30 [==============================] - 1s 18ms/step - loss: 0.1733 - accuracy: 0.9477 - val_loss: 0.2351 - val_accuracy: 0.9292\n",
      "Epoch 35/100\n",
      "30/30 [==============================] - 1s 17ms/step - loss: 0.1723 - accuracy: 0.9460 - val_loss: 0.2625 - val_accuracy: 0.9206\n",
      "Epoch 36/100\n",
      "30/30 [==============================] - 1s 20ms/step - loss: 0.1589 - accuracy: 0.9541 - val_loss: 0.2399 - val_accuracy: 0.9249\n",
      "Epoch 37/100\n",
      "30/30 [==============================] - 1s 20ms/step - loss: 0.1799 - accuracy: 0.9458 - val_loss: 0.2597 - val_accuracy: 0.9227\n",
      "Epoch 38/100\n",
      "30/30 [==============================] - 1s 19ms/step - loss: 0.1517 - accuracy: 0.9603 - val_loss: 0.2484 - val_accuracy: 0.9249\n",
      "Epoch 39/100\n",
      "30/30 [==============================] - 1s 20ms/step - loss: 0.1424 - accuracy: 0.9632 - val_loss: 0.2606 - val_accuracy: 0.9292\n",
      "Epoch 40/100\n",
      "30/30 [==============================] - 1s 20ms/step - loss: 0.1436 - accuracy: 0.9630 - val_loss: 0.2329 - val_accuracy: 0.9206\n",
      "Epoch 41/100\n",
      "30/30 [==============================] - 1s 20ms/step - loss: 0.1281 - accuracy: 0.9678 - val_loss: 0.2250 - val_accuracy: 0.9378\n",
      "Epoch 42/100\n",
      "30/30 [==============================] - 1s 21ms/step - loss: 0.1386 - accuracy: 0.9632 - val_loss: 0.2454 - val_accuracy: 0.9142\n",
      "Epoch 43/100\n",
      "30/30 [==============================] - 1s 20ms/step - loss: 0.1513 - accuracy: 0.9549 - val_loss: 0.2213 - val_accuracy: 0.9421\n",
      "Epoch 44/100\n",
      "30/30 [==============================] - 1s 17ms/step - loss: 0.1297 - accuracy: 0.9713 - val_loss: 0.2480 - val_accuracy: 0.9206\n",
      "Epoch 45/100\n",
      "30/30 [==============================] - 1s 19ms/step - loss: 0.1260 - accuracy: 0.9670 - val_loss: 0.2414 - val_accuracy: 0.9313\n",
      "Epoch 46/100\n",
      "30/30 [==============================] - 1s 20ms/step - loss: 0.1233 - accuracy: 0.9699 - val_loss: 0.2138 - val_accuracy: 0.9378\n",
      "Epoch 47/100\n",
      "30/30 [==============================] - 1s 20ms/step - loss: 0.1207 - accuracy: 0.9707 - val_loss: 0.2628 - val_accuracy: 0.9249\n",
      "Epoch 48/100\n",
      "30/30 [==============================] - 1s 19ms/step - loss: 0.1218 - accuracy: 0.9713 - val_loss: 0.2206 - val_accuracy: 0.9313\n",
      "Epoch 49/100\n",
      "30/30 [==============================] - 1s 20ms/step - loss: 0.1100 - accuracy: 0.9772 - val_loss: 0.2436 - val_accuracy: 0.9292\n",
      "Epoch 50/100\n",
      "30/30 [==============================] - 1s 17ms/step - loss: 0.1034 - accuracy: 0.9793 - val_loss: 0.2425 - val_accuracy: 0.9356\n",
      "Epoch 51/100\n",
      "30/30 [==============================] - 1s 17ms/step - loss: 0.1236 - accuracy: 0.9683 - val_loss: 0.2371 - val_accuracy: 0.9313\n",
      "Epoch 52/100\n",
      "30/30 [==============================] - 1s 17ms/step - loss: 0.1318 - accuracy: 0.9654 - val_loss: 0.2546 - val_accuracy: 0.9378\n",
      "Epoch 53/100\n",
      "30/30 [==============================] - 1s 17ms/step - loss: 0.1099 - accuracy: 0.9737 - val_loss: 0.2366 - val_accuracy: 0.9270\n",
      "Epoch 54/100\n",
      "30/30 [==============================] - 1s 17ms/step - loss: 0.1128 - accuracy: 0.9726 - val_loss: 0.2427 - val_accuracy: 0.9335\n",
      "Epoch 55/100\n",
      "30/30 [==============================] - 1s 19ms/step - loss: 0.0967 - accuracy: 0.9793 - val_loss: 0.2246 - val_accuracy: 0.9421\n",
      "Epoch 56/100\n",
      "30/30 [==============================] - 1s 20ms/step - loss: 0.0947 - accuracy: 0.9801 - val_loss: 0.2217 - val_accuracy: 0.9292\n",
      "Epoch 57/100\n",
      "30/30 [==============================] - 1s 19ms/step - loss: 0.1041 - accuracy: 0.9780 - val_loss: 0.2136 - val_accuracy: 0.9356\n",
      "Epoch 58/100\n",
      "30/30 [==============================] - 1s 21ms/step - loss: 0.0972 - accuracy: 0.9777 - val_loss: 0.2778 - val_accuracy: 0.9292\n",
      "Epoch 59/100\n",
      "30/30 [==============================] - 1s 20ms/step - loss: 0.1032 - accuracy: 0.9761 - val_loss: 0.2313 - val_accuracy: 0.9313\n",
      "Epoch 60/100\n",
      "30/30 [==============================] - 1s 19ms/step - loss: 0.0921 - accuracy: 0.9812 - val_loss: 0.2474 - val_accuracy: 0.9313\n",
      "Epoch 61/100\n",
      "30/30 [==============================] - 1s 20ms/step - loss: 0.0948 - accuracy: 0.9820 - val_loss: 0.2309 - val_accuracy: 0.9206\n",
      "Epoch 62/100\n",
      "30/30 [==============================] - 1s 17ms/step - loss: 0.0894 - accuracy: 0.9817 - val_loss: 0.2539 - val_accuracy: 0.9270\n",
      "Epoch 63/100\n",
      "30/30 [==============================] - 1s 20ms/step - loss: 0.0940 - accuracy: 0.9785 - val_loss: 0.2302 - val_accuracy: 0.9442\n",
      "Epoch 64/100\n",
      "30/30 [==============================] - 1s 20ms/step - loss: 0.0816 - accuracy: 0.9863 - val_loss: 0.2420 - val_accuracy: 0.9378\n",
      "Epoch 65/100\n",
      "30/30 [==============================] - 1s 19ms/step - loss: 0.0845 - accuracy: 0.9828 - val_loss: 0.2230 - val_accuracy: 0.9378\n",
      "Epoch 66/100\n",
      "30/30 [==============================] - 1s 17ms/step - loss: 0.0770 - accuracy: 0.9855 - val_loss: 0.2621 - val_accuracy: 0.9163\n",
      "Epoch 67/100\n",
      "30/30 [==============================] - 1s 18ms/step - loss: 0.0814 - accuracy: 0.9863 - val_loss: 0.2624 - val_accuracy: 0.9227\n",
      "Epoch 68/100\n",
      "30/30 [==============================] - 1s 20ms/step - loss: 0.0846 - accuracy: 0.9831 - val_loss: 0.2553 - val_accuracy: 0.9356\n",
      "Epoch 69/100\n",
      "30/30 [==============================] - 1s 17ms/step - loss: 0.0958 - accuracy: 0.9780 - val_loss: 0.2506 - val_accuracy: 0.9249\n",
      "Epoch 70/100\n",
      "30/30 [==============================] - 1s 18ms/step - loss: 0.0820 - accuracy: 0.9834 - val_loss: 0.2550 - val_accuracy: 0.9227\n",
      "Epoch 71/100\n",
      "30/30 [==============================] - 1s 17ms/step - loss: 0.0744 - accuracy: 0.9863 - val_loss: 0.2549 - val_accuracy: 0.9249\n",
      "Epoch 72/100\n",
      "30/30 [==============================] - 1s 18ms/step - loss: 0.0874 - accuracy: 0.9826 - val_loss: 0.2160 - val_accuracy: 0.9378\n",
      "Epoch 73/100\n",
      "30/30 [==============================] - 1s 18ms/step - loss: 0.0763 - accuracy: 0.9871 - val_loss: 0.2265 - val_accuracy: 0.9356\n",
      "Epoch 74/100\n",
      "30/30 [==============================] - 1s 17ms/step - loss: 0.0708 - accuracy: 0.9879 - val_loss: 0.2676 - val_accuracy: 0.9249\n",
      "Epoch 75/100\n",
      "30/30 [==============================] - 1s 17ms/step - loss: 0.0791 - accuracy: 0.9877 - val_loss: 0.2705 - val_accuracy: 0.9206\n",
      "Epoch 76/100\n",
      "30/30 [==============================] - 1s 18ms/step - loss: 0.0793 - accuracy: 0.9831 - val_loss: 0.2448 - val_accuracy: 0.9313\n",
      "Epoch 77/100\n",
      "30/30 [==============================] - 1s 18ms/step - loss: 0.0822 - accuracy: 0.9836 - val_loss: 0.2405 - val_accuracy: 0.9249\n",
      "Epoch 78/100\n",
      "30/30 [==============================] - 1s 18ms/step - loss: 0.0769 - accuracy: 0.9847 - val_loss: 0.2486 - val_accuracy: 0.9270\n",
      "Epoch 79/100\n",
      "30/30 [==============================] - 1s 19ms/step - loss: 0.0779 - accuracy: 0.9836 - val_loss: 0.2411 - val_accuracy: 0.9270\n",
      "Epoch 80/100\n",
      "30/30 [==============================] - 1s 19ms/step - loss: 0.0702 - accuracy: 0.9860 - val_loss: 0.2490 - val_accuracy: 0.9249\n",
      "Epoch 81/100\n",
      "30/30 [==============================] - 1s 19ms/step - loss: 0.0779 - accuracy: 0.9879 - val_loss: 0.2728 - val_accuracy: 0.9249\n",
      "Epoch 82/100\n",
      "30/30 [==============================] - 1s 17ms/step - loss: 0.0702 - accuracy: 0.9885 - val_loss: 0.2320 - val_accuracy: 0.9270\n",
      "Epoch 83/100\n",
      "30/30 [==============================] - 1s 17ms/step - loss: 0.0828 - accuracy: 0.9809 - val_loss: 0.2606 - val_accuracy: 0.9270\n",
      "Epoch 84/100\n",
      "30/30 [==============================] - 1s 17ms/step - loss: 0.0720 - accuracy: 0.9879 - val_loss: 0.2711 - val_accuracy: 0.9270\n",
      "Epoch 85/100\n",
      "30/30 [==============================] - 1s 19ms/step - loss: 0.0641 - accuracy: 0.9895 - val_loss: 0.2272 - val_accuracy: 0.9313\n",
      "Epoch 86/100\n",
      "30/30 [==============================] - 1s 17ms/step - loss: 0.0608 - accuracy: 0.9911 - val_loss: 0.2424 - val_accuracy: 0.9313\n",
      "Epoch 87/100\n",
      "30/30 [==============================] - 1s 18ms/step - loss: 0.0594 - accuracy: 0.9925 - val_loss: 0.2269 - val_accuracy: 0.9399\n",
      "Epoch 88/100\n",
      "30/30 [==============================] - 1s 18ms/step - loss: 0.0715 - accuracy: 0.9831 - val_loss: 0.2719 - val_accuracy: 0.9313\n",
      "Epoch 89/100\n",
      "30/30 [==============================] - 1s 18ms/step - loss: 0.0915 - accuracy: 0.9807 - val_loss: 0.2608 - val_accuracy: 0.9356\n",
      "Epoch 90/100\n",
      "30/30 [==============================] - 1s 19ms/step - loss: 0.1024 - accuracy: 0.9702 - val_loss: 0.2206 - val_accuracy: 0.9356\n",
      "Epoch 91/100\n",
      "30/30 [==============================] - 1s 17ms/step - loss: 0.0718 - accuracy: 0.9844 - val_loss: 0.2237 - val_accuracy: 0.9421\n",
      "Epoch 92/100\n",
      "30/30 [==============================] - 1s 19ms/step - loss: 0.0579 - accuracy: 0.9933 - val_loss: 0.2274 - val_accuracy: 0.9292\n",
      "Epoch 93/100\n",
      "30/30 [==============================] - 1s 19ms/step - loss: 0.0604 - accuracy: 0.9890 - val_loss: 0.2246 - val_accuracy: 0.9356\n",
      "Epoch 94/100\n",
      "30/30 [==============================] - 1s 17ms/step - loss: 0.0769 - accuracy: 0.9842 - val_loss: 0.2748 - val_accuracy: 0.9185\n",
      "Epoch 95/100\n",
      "30/30 [==============================] - 1s 17ms/step - loss: 0.0787 - accuracy: 0.9812 - val_loss: 0.2079 - val_accuracy: 0.9313\n",
      "Epoch 96/100\n",
      "30/30 [==============================] - 1s 18ms/step - loss: 0.0574 - accuracy: 0.9933 - val_loss: 0.2133 - val_accuracy: 0.9356\n",
      "Epoch 97/100\n",
      "30/30 [==============================] - 1s 19ms/step - loss: 0.0587 - accuracy: 0.9906 - val_loss: 0.2403 - val_accuracy: 0.9335\n",
      "Epoch 98/100\n",
      "30/30 [==============================] - 1s 18ms/step - loss: 0.0631 - accuracy: 0.9882 - val_loss: 0.2421 - val_accuracy: 0.9313\n",
      "Epoch 99/100\n",
      "30/30 [==============================] - 0s 17ms/step - loss: 0.0700 - accuracy: 0.9847 - val_loss: 0.2265 - val_accuracy: 0.9378\n",
      "Epoch 100/100\n",
      "30/30 [==============================] - 1s 17ms/step - loss: 0.0620 - accuracy: 0.9877 - val_loss: 0.2318 - val_accuracy: 0.9249\n"
     ]
    }
   ],
   "source": [
    "# callback = keras.callbacks.EarlyStopping(monitor='loss', min_delta = 0.01, patience=10, mode='min', restore_best_weights=True)\n",
    "\n",
    "# history = model.fit(X_train, y_train, batch_size=128, epochs=100, validation_data=(X_val, y_val), callbacks=[callback])\n",
    "history = model.fit(X_train, y_train, batch_size=128, epochs=100, validation_data=(X_val, y_val))"
   ]
  },
  {
   "cell_type": "code",
   "execution_count": 73,
   "metadata": {},
   "outputs": [
    {
     "name": "stdout",
     "output_type": "stream",
     "text": [
      "dict_keys(['loss', 'accuracy', 'val_loss', 'val_accuracy'])\n"
     ]
    },
    {
     "data": {
      "image/png": "[encoded data removed]",
      "text/plain": [
       "<Figure size 640x480 with 1 Axes>"
      ]
     },
     "metadata": {},
     "output_type": "display_data"
    }
   ],
   "source": [
    "# plot the training and validation loss\n",
    "# Get the training and validation loss history\n",
    "print(history.history.keys())\n",
    "\n",
    "# Plot the training and validation loss\n",
    "plt.plot(history.history['loss'], label='Training Loss')\n",
    "plt.plot(history.history['val_loss'], label='Validation Loss')\n",
    "plt.xlabel('Epoch')\n",
    "plt.ylabel('Loss')\n",
    "plt.legend()\n",
    "plt.show()"
   ]
  },
  {
   "cell_type": "code",
   "execution_count": 74,
   "metadata": {},
   "outputs": [
    {
     "name": "stdout",
     "output_type": "stream",
     "text": [
      "15/15 [==============================] - 0s 17ms/step - loss: 0.3076 - accuracy: 0.9356\n"
     ]
    },
    {
     "data": {
      "text/plain": [
       "[0.3075696527957916, 0.9356223344802856]"
      ]
     },
     "execution_count": 74,
     "metadata": {},
     "output_type": "execute_result"
    }
   ],
   "source": [
    "model.evaluate(X_test, y_test) # (loss, accuracy)"
   ]
  },
  {
   "cell_type": "code",
   "execution_count": 75,
   "metadata": {},
   "outputs": [
    {
     "name": "stdout",
     "output_type": "stream",
     "text": [
      " 1/15 [=>............................] - ETA: 3s"
     ]
    },
    {
     "name": "stderr",
     "output_type": "stream",
     "text": [
      "2023-04-11 22:10:02.262176: I tensorflow/core/grappler/optimizers/custom_graph_optimizer_registry.cc:113] Plugin optimizer for device_type GPU is enabled.\n",
      "2023-04-11 22:10:02.326138: I tensorflow/core/grappler/optimizers/custom_graph_optimizer_registry.cc:113] Plugin optimizer for device_type GPU is enabled.\n"
     ]
    },
    {
     "name": "stdout",
     "output_type": "stream",
     "text": [
      "15/15 [==============================] - 0s 10ms/step\n",
      "              precision    recall  f1-score   support\n",
      "\n",
      "           0       0.93      0.94      0.94       233\n",
      "           1       0.94      0.93      0.94       233\n",
      "\n",
      "    accuracy                           0.94       466\n",
      "   macro avg       0.94      0.94      0.94       466\n",
      "weighted avg       0.94      0.94      0.94       466\n",
      "\n"
     ]
    }
   ],
   "source": [
    "# evaluate the model on the test set\n",
    "y_pred = model.predict(X_test)\n",
    "y_pred = (y_pred>0.5).astype(int)\n",
    "print(classification_report(y_test, y_pred))"
   ]
  },
  {
   "cell_type": "code",
   "execution_count": 76,
   "metadata": {},
   "outputs": [
    {
     "name": "stderr",
     "output_type": "stream",
     "text": [
      "WARNING:absl:Found untraced functions such as lstm_cell_2_layer_call_fn, lstm_cell_2_layer_call_and_return_conditional_losses while saving (showing 2 of 2). These functions will not be directly callable after loading.\n"
     ]
    },
    {
     "name": "stdout",
     "output_type": "stream",
     "text": [
      "INFO:tensorflow:Assets written to: lstm_model/assets\n"
     ]
    },
    {
     "name": "stderr",
     "output_type": "stream",
     "text": [
      "INFO:tensorflow:Assets written to: lstm_model/assets\n"
     ]
    }
   ],
   "source": [
    "model.save('lstm_model')"
   ]
  },
  {
   "attachments": {},
   "cell_type": "markdown",
   "metadata": {},
   "source": [
    "# Legendre Memory Unit"
   ]
  },
  {
   "cell_type": "code",
   "execution_count": 77,
   "metadata": {},
   "outputs": [
    {
     "name": "stdout",
     "output_type": "stream",
     "text": [
      "(466, 9, 92) (466, 1, 1)\n"
     ]
    }
   ],
   "source": [
    "import nengo\n",
    "from nengo.utils.filter_design import cont2discrete\n",
    "import nengo_dl\n",
    "\n",
    "# reshape labels to rank 3 as expected in Nengo)\n",
    "y_train_3 = y_train.reshape((y_train.shape[0], 1, 1))\n",
    "y_val_3 = y_val.reshape((y_val.shape[0], 1, 1))\n",
    "y_test_3 = y_test.reshape((y_test.shape[0], 1, 1))\n",
    "\n",
    "print(X_test.shape, y_test_3.shape)"
   ]
  },
  {
   "attachments": {},
   "cell_type": "markdown",
   "metadata": {},
   "source": [
    "## In Nengo-DL"
   ]
  },
  {
   "cell_type": "code",
   "execution_count": 50,
   "metadata": {},
   "outputs": [],
   "source": [
    "class LMUCell(nengo.Network):\n",
    "    def __init__(self, units, order, theta, input_d, **kwargs):\n",
    "        super().__init__(**kwargs)\n",
    "\n",
    "        # compute the A and B matrices according to the LMU's mathematical derivation\n",
    "        # (see the paper for details)\n",
    "        Q = np.arange(order, dtype=np.float64)\n",
    "        R = (2 * Q + 1)[:, None] / theta\n",
    "        j, i = np.meshgrid(Q, Q)\n",
    "\n",
    "        A = np.where(i < j, -1, (-1.0) ** (i - j + 1)) * R\n",
    "        B = (-1.0) ** Q[:, None] * R\n",
    "        C = np.ones((1, order))\n",
    "        D = np.zeros((1,))\n",
    "\n",
    "        A, B, _, _, _ = cont2discrete((A, B, C, D), dt=1.0, method=\"zoh\")\n",
    "\n",
    "        with self:\n",
    "            nengo_dl.configure_settings(trainable=None)\n",
    "\n",
    "            # create objects corresponding to the x/u/m/h variables in the above diagram\n",
    "            self.x = nengo.Node(size_in=input_d)\n",
    "            self.u = nengo.Node(size_in=1)\n",
    "            self.m = nengo.Node(size_in=order)\n",
    "            self.h = nengo_dl.TensorNode(tf.nn.tanh, shape_in=(units,), pass_time=False)\n",
    "\n",
    "            # compute u_t from the above diagram. we have removed e_h and e_m as they\n",
    "            # are not needed in this task.\n",
    "            nengo.Connection(\n",
    "                self.x, self.u, transform=np.ones((1, input_d)), synapse=None\n",
    "            )\n",
    "\n",
    "            # compute m_t\n",
    "            # in this implementation we'll make A and B non-trainable, but they\n",
    "            # could also be optimized in the same way as the other parameters.\n",
    "            # note that setting synapse=0 (versus synapse=None) adds a one-timestep\n",
    "            # delay, so we can think of any connections with synapse=0 as representing\n",
    "            # value_{t-1}.\n",
    "            conn_A = nengo.Connection(self.m, self.m, transform=A, synapse=0)\n",
    "            self.config[conn_A].trainable = False\n",
    "            conn_B = nengo.Connection(self.u, self.m, transform=B, synapse=None)\n",
    "            self.config[conn_B].trainable = False\n",
    "\n",
    "            # compute h_t\n",
    "            nengo.Connection(\n",
    "                self.x, self.h, transform=nengo_dl.dists.Glorot(), synapse=None\n",
    "            )\n",
    "            nengo.Connection(\n",
    "                self.h, self.h, transform=nengo_dl.dists.Glorot(), synapse=0\n",
    "            )\n",
    "            nengo.Connection(\n",
    "                self.m,\n",
    "                self.h,\n",
    "                transform=nengo_dl.dists.Glorot(),\n",
    "                synapse=None,\n",
    "            )\n"
   ]
  },
  {
   "cell_type": "code",
   "execution_count": 51,
   "metadata": {},
   "outputs": [],
   "source": [
    "with nengo.Network(seed=0) as net:\n",
    "    # remove some unnecessary features to speed up the training\n",
    "    nengo_dl.configure_settings(\n",
    "        trainable=None,\n",
    "        stateful=False,\n",
    "        keep_history=False,\n",
    "    )\n",
    "\n",
    "    # input node\n",
    "    inp = nengo.Node(np.zeros(X_train.shape[-1]))\n",
    "\n",
    "    # lmu cell\n",
    "    lmu = LMUCell(\n",
    "        units=128,\n",
    "        order=64,\n",
    "        theta=X_train.shape[1], # time segments\n",
    "        input_d=X_train.shape[-1], # input dimension\n",
    "    )\n",
    "    conn = nengo.Connection(inp, lmu.x, synapse=None)\n",
    "    net.config[conn].trainable = False\n",
    "\n",
    "    # dense linear readout\n",
    "    out = nengo.Node(size_in=1)\n",
    "    nengo.Connection(lmu.h, out, transform=nengo_dl.dists.Glorot(), synapse=None)\n",
    "\n",
    "    # record output. note that we set keep_history=False above, so this will\n",
    "    # only record the output on the last timestep (which is all we need\n",
    "    # on this task)\n",
    "    p = nengo.Probe(out)"
   ]
  },
  {
   "cell_type": "code",
   "execution_count": 52,
   "metadata": {},
   "outputs": [
    {
     "name": "stdout",
     "output_type": "stream",
     "text": [
      "|                     Building network (0%)                    | ETA:  --:--:--\n",
      "Build finished in 0:00:00\n",
      "|#                         Optimizing graph                           | 0:00:00\n",
      "|#             Optimizing graph: operator simplificaton               | 0:00:00\n",
      "Optimizing graph: operator simplificaton finished in 0:00:00\n",
      "|#                Optimizing graph: merging operators                 | 0:00:00\n",
      "Optimizing graph: merging operators finished in 0:00:00\n",
      "|#                Optimizing graph: ordering signals                  | 0:00:00\n",
      "Optimizing graph: ordering signals finished in 0:00:00\n",
      "|#                Optimizing graph: creating signals                  | 0:00:00\n",
      "Optimizing graph: creating signals finished in 0:00:00\n",
      "Optimization finished in 0:00:00\n",
      "|#                        Constructing graph                          | 0:00:00\n",
      "|           Constructing graph: pre-build stage (0%)           | ETA:  --:--:--\n",
      "Constructing graph: pre-build stage finished in 0:00:00\n",
      "|             Constructing graph: build stage (0%)             | ETA:  --:--:--\n",
      "|#######       Constructing graph: build stage (11%)             | ETA: 0:00:00\n",
      "|##############Constructing graph: build stage (58%)             | ETA: 0:00:00\n",
      "|  #                      Constructing graph                          | 0:00:00\n",
      "Constructing graph: build stage finished in 0:00:00\n",
      "Construction finished in 0:00:00\n",
      "|           Constructing graph: pre-build stage (0%)           | ETA:  --:--:--\n",
      "Constructing graph: pre-build stage finished in 0:00:00\n",
      "|             Constructing graph: build stage (0%)             | ETA:  --:--:--\n"
     ]
    },
    {
     "name": "stderr",
     "output_type": "stream",
     "text": [
      "/Users/anushmutyala/Documents/GitHub/Energy-Efficient-Decoding-of-EEG-Motor-Imagery-using-Spiking-Legendre-Memory-Units/nengo-dl/nengo_dl/simulator.py:1892: UserWarning: Number of elements in input data (466) is not evenly divisible by Simulator.minibatch_size (128); input data will be truncated.\n",
      "  warnings.warn(\n",
      "2023-04-11 02:11:01.049464: W tensorflow/core/platform/profile_utils/cpu_utils.cc:128] Failed to get CPU frequency: 0 Hz\n"
     ]
    },
    {
     "name": "stdout",
     "output_type": "stream",
     "text": [
      "|##########    Constructing graph: build stage (15%)             | ETA: 0:00:00\n",
      "|##############Constructing graph: build stage (66%)             | ETA: 0:00:00\n",
      "|############Constructing graph: build stage (100%)############| ETA:  00:00:00\n",
      "Constructing graph: build stage finished in 0:00:00\n",
      "|           Constructing graph: pre-build stage (0%)           | ETA:  --:--:--\n",
      "Constructing graph: pre-build stage finished in 0:00:00\n",
      "|             Constructing graph: build stage (0%)             | ETA:  --:--:--\n",
      "|###########   Constructing graph: build stage (17%)             | ETA: 0:00:00\n",
      "|##############Constructing graph: build stage (70%)             | ETA: 0:00:00\n",
      "|############Constructing graph: build stage (100%)############| ETA:  00:00:00\n",
      "Constructing graph: build stage finished in 0:00:00\n",
      "Initial test accuracy: 48.96%\n",
      "Epoch 1/100\n",
      "|           Constructing graph: pre-build stage (0%)           | ETA:  --:--:--\n",
      "Constructing graph: pre-build stage finished in 0:00:00\n",
      "|             Constructing graph: build stage (0%)             | ETA:  --:--:--\n",
      "|##########    Constructing graph: build stage (15%)             | ETA: 0:00:00\n",
      "|##############Constructing graph: build stage (66%)             | ETA: 0:00:00\n"
     ]
    },
    {
     "name": "stderr",
     "output_type": "stream",
     "text": [
      "/Users/anushmutyala/Documents/GitHub/Energy-Efficient-Decoding-of-EEG-Motor-Imagery-using-Spiking-Legendre-Memory-Units/nengo-dl/nengo_dl/simulator.py:942: UserWarning: Batch size is determined statically via Simulator.minibatch_size; ignoring value passed to `fit`\n",
      "  warnings.warn(\n",
      "/Users/anushmutyala/Documents/GitHub/Energy-Efficient-Decoding-of-EEG-Motor-Imagery-using-Spiking-Legendre-Memory-Units/nengo-dl/nengo_dl/simulator.py:1892: UserWarning: Number of elements in input data (3725) is not evenly divisible by Simulator.minibatch_size (128); input data will be truncated.\n",
      "  warnings.warn(\n"
     ]
    },
    {
     "name": "stdout",
     "output_type": "stream",
     "text": [
      "|############Constructing graph: build stage (100%)############| ETA:  00:00:00\n",
      "Constructing graph: build stage finished in 0:00:00\n",
      "|           Constructing graph: pre-build stage (0%)           | ETA:  --:--:--\n",
      "Constructing graph: pre-build stage finished in 0:00:00\n",
      "|             Constructing graph: build stage (0%)             | ETA:  --:--:--\n",
      "|##########    Constructing graph: build stage (15%)             | ETA: 0:00:00\n",
      "|##########    Constructing graph: build stage (15%)             | ETA: 0:00:01\n",
      "|##############Constructing graph: build stage (66%)             | ETA: 0:00:00\n",
      "|############Constructing graph: build stage (100%)############| ETA:  00:00:00\n",
      "Constructing graph: build stage finished in 0:00:00\n",
      "29/29 [==============================] - 7s 123ms/step - loss: 0.7286 - probe_loss: 0.7286 - probe_accuracy: 0.5073 - val_loss: 0.6574 - val_probe_loss: 0.6574 - val_probe_accuracy: 0.5547\n",
      "Epoch 2/100\n",
      "29/29 [==============================] - 3s 120ms/step - loss: 0.6641 - probe_loss: 0.6641 - probe_accuracy: 0.5574 - val_loss: 0.6350 - val_probe_loss: 0.6350 - val_probe_accuracy: 0.5833\n",
      "Epoch 3/100\n",
      "29/29 [==============================] - 4s 123ms/step - loss: 0.6369 - probe_loss: 0.6369 - probe_accuracy: 0.5824 - val_loss: 0.6187 - val_probe_loss: 0.6187 - val_probe_accuracy: 0.6016\n",
      "Epoch 4/100\n",
      "29/29 [==============================] - 4s 122ms/step - loss: 0.6159 - probe_loss: 0.6159 - probe_accuracy: 0.6067 - val_loss: 0.5955 - val_probe_loss: 0.5955 - val_probe_accuracy: 0.6302\n",
      "Epoch 5/100\n",
      "29/29 [==============================] - 4s 124ms/step - loss: 0.5969 - probe_loss: 0.5969 - probe_accuracy: 0.6285 - val_loss: 0.5807 - val_probe_loss: 0.5807 - val_probe_accuracy: 0.6276\n",
      "Epoch 6/100\n",
      "29/29 [==============================] - 4s 122ms/step - loss: 0.5806 - probe_loss: 0.5806 - probe_accuracy: 0.6482 - val_loss: 0.5660 - val_probe_loss: 0.5660 - val_probe_accuracy: 0.6562\n",
      "Epoch 7/100\n",
      "29/29 [==============================] - 3s 119ms/step - loss: 0.5651 - probe_loss: 0.5651 - probe_accuracy: 0.6616 - val_loss: 0.5524 - val_probe_loss: 0.5524 - val_probe_accuracy: 0.6615\n",
      "Epoch 8/100\n",
      "29/29 [==============================] - 4s 131ms/step - loss: 0.5506 - probe_loss: 0.5506 - probe_accuracy: 0.6870 - val_loss: 0.5454 - val_probe_loss: 0.5454 - val_probe_accuracy: 0.6927\n",
      "Epoch 9/100\n",
      "29/29 [==============================] - 4s 123ms/step - loss: 0.5324 - probe_loss: 0.5324 - probe_accuracy: 0.7039 - val_loss: 0.5294 - val_probe_loss: 0.5294 - val_probe_accuracy: 0.7031\n",
      "Epoch 10/100\n",
      "29/29 [==============================] - 5s 157ms/step - loss: 0.5159 - probe_loss: 0.5159 - probe_accuracy: 0.7150 - val_loss: 0.5187 - val_probe_loss: 0.5187 - val_probe_accuracy: 0.7214\n",
      "Epoch 11/100\n",
      "29/29 [==============================] - 4s 142ms/step - loss: 0.5012 - probe_loss: 0.5012 - probe_accuracy: 0.7317 - val_loss: 0.5057 - val_probe_loss: 0.5057 - val_probe_accuracy: 0.7526\n",
      "Epoch 12/100\n",
      "29/29 [==============================] - 4s 121ms/step - loss: 0.4867 - probe_loss: 0.4867 - probe_accuracy: 0.7503 - val_loss: 0.4925 - val_probe_loss: 0.4925 - val_probe_accuracy: 0.7682\n",
      "Epoch 13/100\n",
      "29/29 [==============================] - 4s 127ms/step - loss: 0.4687 - probe_loss: 0.4687 - probe_accuracy: 0.7691 - val_loss: 0.4736 - val_probe_loss: 0.4736 - val_probe_accuracy: 0.7708\n",
      "Epoch 14/100\n",
      "29/29 [==============================] - 4s 121ms/step - loss: 0.4517 - probe_loss: 0.4517 - probe_accuracy: 0.7823 - val_loss: 0.4748 - val_probe_loss: 0.4748 - val_probe_accuracy: 0.7630\n",
      "Epoch 15/100\n",
      "29/29 [==============================] - 3s 120ms/step - loss: 0.4382 - probe_loss: 0.4382 - probe_accuracy: 0.7939 - val_loss: 0.4603 - val_probe_loss: 0.4603 - val_probe_accuracy: 0.7969\n",
      "Epoch 16/100\n",
      "29/29 [==============================] - 4s 122ms/step - loss: 0.4216 - probe_loss: 0.4216 - probe_accuracy: 0.8082 - val_loss: 0.4424 - val_probe_loss: 0.4424 - val_probe_accuracy: 0.8021\n",
      "Epoch 17/100\n",
      "29/29 [==============================] - 4s 123ms/step - loss: 0.4023 - probe_loss: 0.4023 - probe_accuracy: 0.8262 - val_loss: 0.4419 - val_probe_loss: 0.4419 - val_probe_accuracy: 0.7917\n",
      "Epoch 18/100\n",
      "29/29 [==============================] - 4s 128ms/step - loss: 0.3902 - probe_loss: 0.3902 - probe_accuracy: 0.8319 - val_loss: 0.4226 - val_probe_loss: 0.4226 - val_probe_accuracy: 0.8307\n",
      "Epoch 19/100\n",
      "29/29 [==============================] - 4s 123ms/step - loss: 0.3710 - probe_loss: 0.3710 - probe_accuracy: 0.8499 - val_loss: 0.4139 - val_probe_loss: 0.4139 - val_probe_accuracy: 0.8333\n",
      "Epoch 20/100\n",
      "29/29 [==============================] - 4s 121ms/step - loss: 0.3557 - probe_loss: 0.3557 - probe_accuracy: 0.8567 - val_loss: 0.4020 - val_probe_loss: 0.4020 - val_probe_accuracy: 0.8359\n",
      "Epoch 21/100\n",
      "29/29 [==============================] - 4s 126ms/step - loss: 0.3400 - probe_loss: 0.3400 - probe_accuracy: 0.8734 - val_loss: 0.3808 - val_probe_loss: 0.3808 - val_probe_accuracy: 0.8464\n",
      "Epoch 22/100\n",
      "29/29 [==============================] - 4s 121ms/step - loss: 0.3232 - probe_loss: 0.3232 - probe_accuracy: 0.8869 - val_loss: 0.3831 - val_probe_loss: 0.3831 - val_probe_accuracy: 0.8438\n",
      "Epoch 23/100\n",
      "29/29 [==============================] - 4s 122ms/step - loss: 0.3088 - probe_loss: 0.3088 - probe_accuracy: 0.8928 - val_loss: 0.3741 - val_probe_loss: 0.3741 - val_probe_accuracy: 0.8438\n",
      "Epoch 24/100\n",
      "29/29 [==============================] - 4s 135ms/step - loss: 0.2978 - probe_loss: 0.2978 - probe_accuracy: 0.8976 - val_loss: 0.3661 - val_probe_loss: 0.3661 - val_probe_accuracy: 0.8255\n",
      "Epoch 25/100\n",
      "29/29 [==============================] - 4s 141ms/step - loss: 0.2859 - probe_loss: 0.2859 - probe_accuracy: 0.9017 - val_loss: 0.3453 - val_probe_loss: 0.3453 - val_probe_accuracy: 0.8646\n",
      "Epoch 26/100\n",
      "29/29 [==============================] - 4s 129ms/step - loss: 0.2705 - probe_loss: 0.2705 - probe_accuracy: 0.9111 - val_loss: 0.3403 - val_probe_loss: 0.3403 - val_probe_accuracy: 0.8646\n",
      "Epoch 27/100\n",
      "29/29 [==============================] - 4s 127ms/step - loss: 0.2547 - probe_loss: 0.2547 - probe_accuracy: 0.9221 - val_loss: 0.3211 - val_probe_loss: 0.3211 - val_probe_accuracy: 0.8672\n",
      "Epoch 28/100\n",
      "29/29 [==============================] - 4s 126ms/step - loss: 0.2415 - probe_loss: 0.2415 - probe_accuracy: 0.9297 - val_loss: 0.3139 - val_probe_loss: 0.3139 - val_probe_accuracy: 0.8828\n",
      "Epoch 29/100\n",
      "29/29 [==============================] - 4s 146ms/step - loss: 0.2317 - probe_loss: 0.2317 - probe_accuracy: 0.9318 - val_loss: 0.3013 - val_probe_loss: 0.3013 - val_probe_accuracy: 0.8750\n",
      "Epoch 30/100\n",
      "29/29 [==============================] - 4s 135ms/step - loss: 0.2199 - probe_loss: 0.2199 - probe_accuracy: 0.9421 - val_loss: 0.2981 - val_probe_loss: 0.2981 - val_probe_accuracy: 0.8776\n",
      "Epoch 31/100\n",
      "29/29 [==============================] - 4s 138ms/step - loss: 0.2069 - probe_loss: 0.2069 - probe_accuracy: 0.9499 - val_loss: 0.2913 - val_probe_loss: 0.2913 - val_probe_accuracy: 0.8880\n",
      "Epoch 32/100\n",
      "29/29 [==============================] - 5s 161ms/step - loss: 0.1991 - probe_loss: 0.1991 - probe_accuracy: 0.9472 - val_loss: 0.2877 - val_probe_loss: 0.2877 - val_probe_accuracy: 0.8854\n",
      "Epoch 33/100\n",
      "29/29 [==============================] - 5s 164ms/step - loss: 0.1873 - probe_loss: 0.1873 - probe_accuracy: 0.9561 - val_loss: 0.2787 - val_probe_loss: 0.2787 - val_probe_accuracy: 0.8880\n",
      "Epoch 34/100\n",
      "29/29 [==============================] - 4s 122ms/step - loss: 0.1792 - probe_loss: 0.1792 - probe_accuracy: 0.9558 - val_loss: 0.2790 - val_probe_loss: 0.2790 - val_probe_accuracy: 0.8880\n",
      "Epoch 35/100\n",
      "29/29 [==============================] - 4s 138ms/step - loss: 0.1706 - probe_loss: 0.1706 - probe_accuracy: 0.9634 - val_loss: 0.2721 - val_probe_loss: 0.2721 - val_probe_accuracy: 0.8984\n",
      "Epoch 36/100\n",
      "29/29 [==============================] - 4s 122ms/step - loss: 0.1603 - probe_loss: 0.1603 - probe_accuracy: 0.9639 - val_loss: 0.2676 - val_probe_loss: 0.2676 - val_probe_accuracy: 0.9010\n",
      "Epoch 37/100\n",
      "29/29 [==============================] - 4s 121ms/step - loss: 0.1486 - probe_loss: 0.1486 - probe_accuracy: 0.9731 - val_loss: 0.2648 - val_probe_loss: 0.2648 - val_probe_accuracy: 0.8984\n",
      "Epoch 38/100\n",
      "29/29 [==============================] - 3s 120ms/step - loss: 0.1401 - probe_loss: 0.1401 - probe_accuracy: 0.9704 - val_loss: 0.2528 - val_probe_loss: 0.2528 - val_probe_accuracy: 0.9062\n",
      "Epoch 39/100\n",
      "29/29 [==============================] - 4s 122ms/step - loss: 0.1317 - probe_loss: 0.1317 - probe_accuracy: 0.9768 - val_loss: 0.2545 - val_probe_loss: 0.2545 - val_probe_accuracy: 0.9010\n",
      "Epoch 40/100\n",
      "29/29 [==============================] - 4s 122ms/step - loss: 0.1247 - probe_loss: 0.1247 - probe_accuracy: 0.9784 - val_loss: 0.2398 - val_probe_loss: 0.2398 - val_probe_accuracy: 0.9141\n",
      "Epoch 41/100\n",
      "29/29 [==============================] - 4s 124ms/step - loss: 0.1191 - probe_loss: 0.1191 - probe_accuracy: 0.9817 - val_loss: 0.2522 - val_probe_loss: 0.2522 - val_probe_accuracy: 0.9036\n",
      "Epoch 42/100\n",
      "29/29 [==============================] - 3s 121ms/step - loss: 0.1109 - probe_loss: 0.1109 - probe_accuracy: 0.9836 - val_loss: 0.2421 - val_probe_loss: 0.2421 - val_probe_accuracy: 0.9089\n",
      "Epoch 43/100\n",
      "29/29 [==============================] - 4s 122ms/step - loss: 0.1065 - probe_loss: 0.1065 - probe_accuracy: 0.9852 - val_loss: 0.2455 - val_probe_loss: 0.2455 - val_probe_accuracy: 0.9036\n",
      "Epoch 44/100\n",
      "29/29 [==============================] - 4s 122ms/step - loss: 0.1013 - probe_loss: 0.1013 - probe_accuracy: 0.9863 - val_loss: 0.2600 - val_probe_loss: 0.2600 - val_probe_accuracy: 0.8958\n",
      "Epoch 45/100\n",
      "29/29 [==============================] - 3s 120ms/step - loss: 0.0957 - probe_loss: 0.0957 - probe_accuracy: 0.9879 - val_loss: 0.2334 - val_probe_loss: 0.2334 - val_probe_accuracy: 0.9062\n",
      "Epoch 46/100\n",
      "29/29 [==============================] - 3s 118ms/step - loss: 0.0903 - probe_loss: 0.0903 - probe_accuracy: 0.9903 - val_loss: 0.2458 - val_probe_loss: 0.2458 - val_probe_accuracy: 0.8958\n",
      "Epoch 47/100\n",
      "29/29 [==============================] - 3s 120ms/step - loss: 0.0859 - probe_loss: 0.0859 - probe_accuracy: 0.9903 - val_loss: 0.2453 - val_probe_loss: 0.2453 - val_probe_accuracy: 0.9062\n",
      "Epoch 48/100\n",
      "29/29 [==============================] - 3s 121ms/step - loss: 0.0792 - probe_loss: 0.0792 - probe_accuracy: 0.9914 - val_loss: 0.2332 - val_probe_loss: 0.2332 - val_probe_accuracy: 0.9010\n",
      "Epoch 49/100\n",
      "29/29 [==============================] - 4s 122ms/step - loss: 0.0739 - probe_loss: 0.0739 - probe_accuracy: 0.9930 - val_loss: 0.2452 - val_probe_loss: 0.2452 - val_probe_accuracy: 0.9062\n",
      "Epoch 50/100\n",
      "29/29 [==============================] - 4s 121ms/step - loss: 0.0696 - probe_loss: 0.0696 - probe_accuracy: 0.9949 - val_loss: 0.2417 - val_probe_loss: 0.2417 - val_probe_accuracy: 0.9062\n",
      "Epoch 51/100\n",
      "29/29 [==============================] - 3s 120ms/step - loss: 0.0664 - probe_loss: 0.0664 - probe_accuracy: 0.9935 - val_loss: 0.2340 - val_probe_loss: 0.2340 - val_probe_accuracy: 0.9036\n",
      "Epoch 52/100\n",
      "29/29 [==============================] - 3s 121ms/step - loss: 0.0651 - probe_loss: 0.0651 - probe_accuracy: 0.9957 - val_loss: 0.2439 - val_probe_loss: 0.2439 - val_probe_accuracy: 0.9010\n",
      "Epoch 53/100\n",
      "29/29 [==============================] - 4s 127ms/step - loss: 0.0611 - probe_loss: 0.0611 - probe_accuracy: 0.9949 - val_loss: 0.2280 - val_probe_loss: 0.2280 - val_probe_accuracy: 0.9167\n",
      "Epoch 54/100\n",
      "29/29 [==============================] - 3s 121ms/step - loss: 0.0620 - probe_loss: 0.0620 - probe_accuracy: 0.9933 - val_loss: 0.2443 - val_probe_loss: 0.2443 - val_probe_accuracy: 0.9089\n",
      "Epoch 55/100\n",
      "29/29 [==============================] - 4s 122ms/step - loss: 0.0560 - probe_loss: 0.0560 - probe_accuracy: 0.9949 - val_loss: 0.2456 - val_probe_loss: 0.2456 - val_probe_accuracy: 0.9089\n",
      "Epoch 56/100\n",
      "29/29 [==============================] - 4s 121ms/step - loss: 0.0520 - probe_loss: 0.0520 - probe_accuracy: 0.9962 - val_loss: 0.2420 - val_probe_loss: 0.2420 - val_probe_accuracy: 0.9115\n",
      "Epoch 57/100\n",
      "29/29 [==============================] - 3s 120ms/step - loss: 0.0492 - probe_loss: 0.0492 - probe_accuracy: 0.9962 - val_loss: 0.2316 - val_probe_loss: 0.2316 - val_probe_accuracy: 0.9089\n",
      "Epoch 58/100\n",
      "29/29 [==============================] - 3s 120ms/step - loss: 0.0457 - probe_loss: 0.0457 - probe_accuracy: 0.9970 - val_loss: 0.2493 - val_probe_loss: 0.2493 - val_probe_accuracy: 0.9062\n",
      "Epoch 59/100\n",
      "29/29 [==============================] - 3s 121ms/step - loss: 0.0452 - probe_loss: 0.0452 - probe_accuracy: 0.9978 - val_loss: 0.2294 - val_probe_loss: 0.2294 - val_probe_accuracy: 0.9062\n",
      "Epoch 60/100\n",
      "29/29 [==============================] - 4s 124ms/step - loss: 0.0462 - probe_loss: 0.0462 - probe_accuracy: 0.9960 - val_loss: 0.2352 - val_probe_loss: 0.2352 - val_probe_accuracy: 0.9089\n",
      "Epoch 61/100\n",
      "29/29 [==============================] - 3s 121ms/step - loss: 0.0429 - probe_loss: 0.0429 - probe_accuracy: 0.9978 - val_loss: 0.2374 - val_probe_loss: 0.2374 - val_probe_accuracy: 0.9115\n",
      "Epoch 62/100\n",
      "29/29 [==============================] - 4s 140ms/step - loss: 0.0380 - probe_loss: 0.0380 - probe_accuracy: 0.9976 - val_loss: 0.2438 - val_probe_loss: 0.2438 - val_probe_accuracy: 0.9089\n",
      "Epoch 63/100\n",
      "29/29 [==============================] - 3s 119ms/step - loss: 0.0346 - probe_loss: 0.0346 - probe_accuracy: 0.9984 - val_loss: 0.2443 - val_probe_loss: 0.2443 - val_probe_accuracy: 0.9089\n",
      "Epoch 64/100\n",
      "29/29 [==============================] - 4s 123ms/step - loss: 0.0327 - probe_loss: 0.0327 - probe_accuracy: 0.9992 - val_loss: 0.2452 - val_probe_loss: 0.2452 - val_probe_accuracy: 0.9062\n",
      "Epoch 65/100\n",
      "29/29 [==============================] - 4s 121ms/step - loss: 0.0315 - probe_loss: 0.0315 - probe_accuracy: 0.9987 - val_loss: 0.2504 - val_probe_loss: 0.2504 - val_probe_accuracy: 0.9036\n",
      "Epoch 66/100\n",
      "29/29 [==============================] - 3s 121ms/step - loss: 0.0303 - probe_loss: 0.0303 - probe_accuracy: 0.9989 - val_loss: 0.2532 - val_probe_loss: 0.2532 - val_probe_accuracy: 0.9062\n",
      "Epoch 67/100\n",
      "29/29 [==============================] - 4s 124ms/step - loss: 0.0289 - probe_loss: 0.0289 - probe_accuracy: 0.9995 - val_loss: 0.2393 - val_probe_loss: 0.2393 - val_probe_accuracy: 0.9062\n",
      "Epoch 68/100\n",
      "29/29 [==============================] - 4s 122ms/step - loss: 0.0284 - probe_loss: 0.0284 - probe_accuracy: 0.9989 - val_loss: 0.2477 - val_probe_loss: 0.2477 - val_probe_accuracy: 0.9089\n",
      "Epoch 69/100\n",
      "29/29 [==============================] - 4s 122ms/step - loss: 0.0261 - probe_loss: 0.0261 - probe_accuracy: 0.9989 - val_loss: 0.2444 - val_probe_loss: 0.2444 - val_probe_accuracy: 0.9062\n",
      "Epoch 70/100\n",
      "29/29 [==============================] - 4s 131ms/step - loss: 0.0246 - probe_loss: 0.0246 - probe_accuracy: 0.9995 - val_loss: 0.2586 - val_probe_loss: 0.2586 - val_probe_accuracy: 0.9089\n",
      "Epoch 71/100\n",
      "29/29 [==============================] - 4s 125ms/step - loss: 0.0231 - probe_loss: 0.0231 - probe_accuracy: 0.9995 - val_loss: 0.2488 - val_probe_loss: 0.2488 - val_probe_accuracy: 0.9115\n",
      "Epoch 72/100\n",
      "29/29 [==============================] - 4s 128ms/step - loss: 0.0225 - probe_loss: 0.0225 - probe_accuracy: 0.9997 - val_loss: 0.2611 - val_probe_loss: 0.2611 - val_probe_accuracy: 0.9089\n",
      "Epoch 73/100\n",
      "29/29 [==============================] - 4s 122ms/step - loss: 0.0211 - probe_loss: 0.0211 - probe_accuracy: 0.9997 - val_loss: 0.2658 - val_probe_loss: 0.2658 - val_probe_accuracy: 0.9115\n",
      "Epoch 74/100\n",
      "29/29 [==============================] - 4s 123ms/step - loss: 0.0202 - probe_loss: 0.0202 - probe_accuracy: 0.9997 - val_loss: 0.2689 - val_probe_loss: 0.2689 - val_probe_accuracy: 0.9062\n",
      "Epoch 75/100\n",
      "29/29 [==============================] - 4s 123ms/step - loss: 0.0194 - probe_loss: 0.0194 - probe_accuracy: 0.9995 - val_loss: 0.2609 - val_probe_loss: 0.2609 - val_probe_accuracy: 0.9167\n",
      "Epoch 76/100\n",
      "29/29 [==============================] - 4s 123ms/step - loss: 0.0180 - probe_loss: 0.0180 - probe_accuracy: 0.9997 - val_loss: 0.2715 - val_probe_loss: 0.2715 - val_probe_accuracy: 0.9141\n",
      "Epoch 77/100\n",
      "29/29 [==============================] - 4s 127ms/step - loss: 0.0186 - probe_loss: 0.0186 - probe_accuracy: 0.9997 - val_loss: 0.2744 - val_probe_loss: 0.2744 - val_probe_accuracy: 0.9115\n",
      "Epoch 78/100\n",
      "29/29 [==============================] - 4s 131ms/step - loss: 0.0176 - probe_loss: 0.0176 - probe_accuracy: 0.9995 - val_loss: 0.2805 - val_probe_loss: 0.2805 - val_probe_accuracy: 0.9089\n",
      "Epoch 79/100\n",
      "29/29 [==============================] - 4s 149ms/step - loss: 0.0165 - probe_loss: 0.0165 - probe_accuracy: 0.9997 - val_loss: 0.2786 - val_probe_loss: 0.2786 - val_probe_accuracy: 0.9141\n",
      "Epoch 80/100\n",
      "29/29 [==============================] - 4s 132ms/step - loss: 0.0155 - probe_loss: 0.0155 - probe_accuracy: 0.9997 - val_loss: 0.2651 - val_probe_loss: 0.2651 - val_probe_accuracy: 0.9141\n",
      "Epoch 81/100\n",
      "29/29 [==============================] - 4s 125ms/step - loss: 0.0145 - probe_loss: 0.0145 - probe_accuracy: 0.9997 - val_loss: 0.2773 - val_probe_loss: 0.2773 - val_probe_accuracy: 0.9141\n",
      "Epoch 82/100\n",
      "29/29 [==============================] - 4s 127ms/step - loss: 0.0140 - probe_loss: 0.0140 - probe_accuracy: 0.9997 - val_loss: 0.2683 - val_probe_loss: 0.2683 - val_probe_accuracy: 0.9115\n",
      "Epoch 83/100\n",
      "29/29 [==============================] - 4s 130ms/step - loss: 0.0137 - probe_loss: 0.0137 - probe_accuracy: 0.9995 - val_loss: 0.2845 - val_probe_loss: 0.2845 - val_probe_accuracy: 0.9141\n",
      "Epoch 84/100\n",
      "29/29 [==============================] - 4s 122ms/step - loss: 0.0133 - probe_loss: 0.0133 - probe_accuracy: 0.9997 - val_loss: 0.2906 - val_probe_loss: 0.2906 - val_probe_accuracy: 0.9089\n",
      "Epoch 85/100\n",
      "29/29 [==============================] - 4s 136ms/step - loss: 0.0127 - probe_loss: 0.0127 - probe_accuracy: 0.9997 - val_loss: 0.2963 - val_probe_loss: 0.2963 - val_probe_accuracy: 0.9089\n",
      "Epoch 86/100\n",
      "29/29 [==============================] - 4s 123ms/step - loss: 0.0125 - probe_loss: 0.0125 - probe_accuracy: 0.9997 - val_loss: 0.2970 - val_probe_loss: 0.2970 - val_probe_accuracy: 0.9115\n",
      "Epoch 87/100\n",
      "29/29 [==============================] - 3s 120ms/step - loss: 0.0119 - probe_loss: 0.0119 - probe_accuracy: 0.9997 - val_loss: 0.2891 - val_probe_loss: 0.2891 - val_probe_accuracy: 0.9115\n",
      "Epoch 88/100\n",
      "29/29 [==============================] - 3s 120ms/step - loss: 0.0111 - probe_loss: 0.0111 - probe_accuracy: 0.9997 - val_loss: 0.3049 - val_probe_loss: 0.3049 - val_probe_accuracy: 0.9089\n",
      "Epoch 89/100\n",
      "29/29 [==============================] - 3s 121ms/step - loss: 0.0108 - probe_loss: 0.0108 - probe_accuracy: 0.9997 - val_loss: 0.3031 - val_probe_loss: 0.3031 - val_probe_accuracy: 0.9167\n",
      "Epoch 90/100\n",
      "29/29 [==============================] - 4s 123ms/step - loss: 0.0101 - probe_loss: 0.0101 - probe_accuracy: 0.9997 - val_loss: 0.2924 - val_probe_loss: 0.2924 - val_probe_accuracy: 0.9115\n",
      "Epoch 91/100\n",
      "29/29 [==============================] - 3s 119ms/step - loss: 0.0100 - probe_loss: 0.0100 - probe_accuracy: 0.9997 - val_loss: 0.3034 - val_probe_loss: 0.3034 - val_probe_accuracy: 0.9141\n",
      "Epoch 92/100\n",
      "29/29 [==============================] - 3s 120ms/step - loss: 0.0097 - probe_loss: 0.0097 - probe_accuracy: 0.9997 - val_loss: 0.3182 - val_probe_loss: 0.3182 - val_probe_accuracy: 0.9115\n",
      "Epoch 93/100\n",
      "29/29 [==============================] - 3s 119ms/step - loss: 0.0090 - probe_loss: 0.0090 - probe_accuracy: 0.9997 - val_loss: 0.3162 - val_probe_loss: 0.3162 - val_probe_accuracy: 0.9141\n",
      "Epoch 94/100\n",
      "29/29 [==============================] - 4s 121ms/step - loss: 0.0086 - probe_loss: 0.0086 - probe_accuracy: 0.9997 - val_loss: 0.3075 - val_probe_loss: 0.3075 - val_probe_accuracy: 0.9141\n",
      "Epoch 95/100\n",
      "29/29 [==============================] - 8s 265ms/step - loss: 0.0083 - probe_loss: 0.0083 - probe_accuracy: 0.9997 - val_loss: 0.3088 - val_probe_loss: 0.3088 - val_probe_accuracy: 0.9167\n",
      "Epoch 96/100\n",
      "29/29 [==============================] - 4s 135ms/step - loss: 0.0078 - probe_loss: 0.0078 - probe_accuracy: 0.9997 - val_loss: 0.3082 - val_probe_loss: 0.3082 - val_probe_accuracy: 0.9115\n",
      "Epoch 97/100\n",
      "29/29 [==============================] - 5s 190ms/step - loss: 0.0078 - probe_loss: 0.0078 - probe_accuracy: 0.9997 - val_loss: 0.3230 - val_probe_loss: 0.3230 - val_probe_accuracy: 0.9115\n",
      "Epoch 98/100\n",
      "29/29 [==============================] - 4s 123ms/step - loss: 0.0072 - probe_loss: 0.0072 - probe_accuracy: 0.9997 - val_loss: 0.3264 - val_probe_loss: 0.3264 - val_probe_accuracy: 0.9115\n",
      "Epoch 99/100\n",
      "29/29 [==============================] - 4s 137ms/step - loss: 0.0069 - probe_loss: 0.0069 - probe_accuracy: 0.9997 - val_loss: 0.3231 - val_probe_loss: 0.3231 - val_probe_accuracy: 0.9141\n",
      "Epoch 100/100\n",
      "29/29 [==============================] - 4s 124ms/step - loss: 0.0067 - probe_loss: 0.0067 - probe_accuracy: 0.9997 - val_loss: 0.3378 - val_probe_loss: 0.3378 - val_probe_accuracy: 0.9115\n",
      "Final test accuracy: 92.71\n"
     ]
    }
   ],
   "source": [
    "do_training = True\n",
    "\n",
    "with nengo_dl.Simulator(net, minibatch_size=128, unroll_simulation=3) as sim:\n",
    "    sim.compile(\n",
    "        loss=tf.losses.BinaryCrossentropy(from_logits=True),\n",
    "        optimizer=tf.optimizers.Adam(),\n",
    "        metrics=[\"accuracy\"],\n",
    "    )\n",
    "\n",
    "    test_acc = sim.evaluate(X_test, y_test_3, verbose=0)[\"probe_accuracy\"]\n",
    "    print(f\"Initial test accuracy: {test_acc * 100:.2f}%\")\n",
    "\n",
    "    if do_training:\n",
    "        sim.fit(X_train, y_train_3, batch_size=128, epochs=100, validation_data=(X_val, y_val_3))\n",
    "        sim.save_params(\"./lmu_params\")\n",
    "    else:\n",
    "        urlretrieve(\n",
    "            \"https://drive.google.com/uc?export=download&\"\n",
    "            \"id=1UbVJ4u6eQkyxIU9F7yScElAz2p2Ah2sP\",\n",
    "            \"lmu_params.npz\",\n",
    "        )\n",
    "        sim.load_params(\"./lmu_params\")\n",
    "\n",
    "    test_acc = sim.evaluate(X_test, y_test_3, verbose=0)[\"probe_accuracy\"]\n",
    "    print(f\"Final test accuracy: {test_acc * 100:.2f}\")"
   ]
  },
  {
   "attachments": {},
   "cell_type": "markdown",
   "metadata": {},
   "source": [
    "## Using KerasLMU"
   ]
  },
  {
   "cell_type": "code",
   "execution_count": 82,
   "metadata": {},
   "outputs": [
    {
     "name": "stdout",
     "output_type": "stream",
     "text": [
      "Model: \"sequential_20\"\n",
      "_________________________________________________________________\n",
      " Layer (type)                Output Shape              Param #   \n",
      "=================================================================\n",
      " lmu_14 (LMU)                (None, 64)                12720     \n",
      "                                                                 \n",
      " dense_14 (Dense)            (None, 1)                 65        \n",
      "                                                                 \n",
      "=================================================================\n",
      "Total params: 12,785\n",
      "Trainable params: 12,785\n",
      "Non-trainable params: 0\n",
      "_________________________________________________________________\n"
     ]
    }
   ],
   "source": [
    "from keras_lmu import LMU\n",
    "\n",
    "model = Sequential()\n",
    "model.add(LMU(\n",
    "    hidden_cell=tf.keras.layers.SimpleRNNCell(units=64),\n",
    "    memory_d=4, \n",
    "    order=32, \n",
    "    theta=X_train.shape[1], \n",
    "    input_shape=(X_train.shape[1], X_train.shape[2])\n",
    "    ))\n",
    "model.add(Dense(1, activation='sigmoid'))\n",
    "\n",
    "model.compile(optimizer='adam', loss='binary_crossentropy', metrics=['accuracy'])\n",
    "model.summary()\n"
   ]
  },
  {
   "cell_type": "code",
   "execution_count": 83,
   "metadata": {},
   "outputs": [
    {
     "name": "stdout",
     "output_type": "stream",
     "text": [
      "Epoch 1/100\n"
     ]
    },
    {
     "name": "stderr",
     "output_type": "stream",
     "text": [
      "2023-04-11 22:16:57.624361: I tensorflow/core/grappler/optimizers/custom_graph_optimizer_registry.cc:113] Plugin optimizer for device_type GPU is enabled.\n"
     ]
    },
    {
     "name": "stdout",
     "output_type": "stream",
     "text": [
      "30/30 [==============================] - ETA: 0s - loss: 0.7017 - accuracy: 0.5409"
     ]
    },
    {
     "name": "stderr",
     "output_type": "stream",
     "text": [
      "2023-04-11 22:17:03.241657: I tensorflow/core/grappler/optimizers/custom_graph_optimizer_registry.cc:113] Plugin optimizer for device_type GPU is enabled.\n"
     ]
    },
    {
     "name": "stdout",
     "output_type": "stream",
     "text": [
      "30/30 [==============================] - 7s 184ms/step - loss: 0.7017 - accuracy: 0.5409 - val_loss: 0.6725 - val_accuracy: 0.5837\n",
      "Epoch 2/100\n",
      "30/30 [==============================] - 5s 162ms/step - loss: 0.6591 - accuracy: 0.6110 - val_loss: 0.6425 - val_accuracy: 0.6588\n",
      "Epoch 3/100\n",
      "30/30 [==============================] - 5s 158ms/step - loss: 0.6365 - accuracy: 0.6325 - val_loss: 0.6240 - val_accuracy: 0.6695\n",
      "Epoch 4/100\n",
      "30/30 [==============================] - 4s 146ms/step - loss: 0.6239 - accuracy: 0.6446 - val_loss: 0.6179 - val_accuracy: 0.6738\n",
      "Epoch 5/100\n",
      "30/30 [==============================] - 4s 148ms/step - loss: 0.6076 - accuracy: 0.6650 - val_loss: 0.5984 - val_accuracy: 0.6738\n",
      "Epoch 6/100\n",
      "30/30 [==============================] - 5s 159ms/step - loss: 0.5930 - accuracy: 0.6779 - val_loss: 0.5889 - val_accuracy: 0.7082\n",
      "Epoch 7/100\n",
      "30/30 [==============================] - 4s 145ms/step - loss: 0.5833 - accuracy: 0.6897 - val_loss: 0.5812 - val_accuracy: 0.6953\n",
      "Epoch 8/100\n",
      "30/30 [==============================] - 5s 157ms/step - loss: 0.5690 - accuracy: 0.7044 - val_loss: 0.5673 - val_accuracy: 0.6974\n",
      "Epoch 9/100\n",
      "30/30 [==============================] - 4s 149ms/step - loss: 0.5580 - accuracy: 0.7170 - val_loss: 0.5599 - val_accuracy: 0.7060\n",
      "Epoch 10/100\n",
      "30/30 [==============================] - 5s 153ms/step - loss: 0.5453 - accuracy: 0.7230 - val_loss: 0.5486 - val_accuracy: 0.7167\n",
      "Epoch 11/100\n",
      "30/30 [==============================] - 4s 149ms/step - loss: 0.5348 - accuracy: 0.7297 - val_loss: 0.5420 - val_accuracy: 0.7275\n",
      "Epoch 12/100\n",
      "30/30 [==============================] - 4s 145ms/step - loss: 0.5195 - accuracy: 0.7458 - val_loss: 0.5286 - val_accuracy: 0.7532\n",
      "Epoch 13/100\n",
      "30/30 [==============================] - 4s 147ms/step - loss: 0.5050 - accuracy: 0.7592 - val_loss: 0.5213 - val_accuracy: 0.7361\n",
      "Epoch 14/100\n",
      "30/30 [==============================] - 4s 148ms/step - loss: 0.4946 - accuracy: 0.7616 - val_loss: 0.5046 - val_accuracy: 0.7639\n",
      "Epoch 15/100\n",
      "30/30 [==============================] - 5s 153ms/step - loss: 0.4776 - accuracy: 0.7780 - val_loss: 0.4968 - val_accuracy: 0.7618\n",
      "Epoch 16/100\n",
      "30/30 [==============================] - 5s 151ms/step - loss: 0.4603 - accuracy: 0.7987 - val_loss: 0.4885 - val_accuracy: 0.7661\n",
      "Epoch 17/100\n",
      "30/30 [==============================] - 5s 153ms/step - loss: 0.4419 - accuracy: 0.8102 - val_loss: 0.4739 - val_accuracy: 0.7725\n",
      "Epoch 18/100\n",
      "30/30 [==============================] - 5s 151ms/step - loss: 0.4305 - accuracy: 0.8174 - val_loss: 0.4633 - val_accuracy: 0.7682\n",
      "Epoch 19/100\n",
      "30/30 [==============================] - 5s 175ms/step - loss: 0.4145 - accuracy: 0.8282 - val_loss: 0.4534 - val_accuracy: 0.7747\n",
      "Epoch 20/100\n",
      "30/30 [==============================] - 5s 156ms/step - loss: 0.3921 - accuracy: 0.8397 - val_loss: 0.4348 - val_accuracy: 0.7854\n",
      "Epoch 21/100\n",
      "30/30 [==============================] - 5s 153ms/step - loss: 0.3762 - accuracy: 0.8513 - val_loss: 0.4239 - val_accuracy: 0.8112\n",
      "Epoch 22/100\n",
      "30/30 [==============================] - 5s 151ms/step - loss: 0.3687 - accuracy: 0.8462 - val_loss: 0.4130 - val_accuracy: 0.8219\n",
      "Epoch 23/100\n",
      "30/30 [==============================] - 5s 164ms/step - loss: 0.3452 - accuracy: 0.8685 - val_loss: 0.3928 - val_accuracy: 0.8348\n",
      "Epoch 24/100\n",
      "30/30 [==============================] - 4s 147ms/step - loss: 0.3243 - accuracy: 0.8789 - val_loss: 0.3962 - val_accuracy: 0.8391\n",
      "Epoch 25/100\n",
      "30/30 [==============================] - 5s 156ms/step - loss: 0.3168 - accuracy: 0.8784 - val_loss: 0.3867 - val_accuracy: 0.8262\n",
      "Epoch 26/100\n",
      "30/30 [==============================] - 5s 150ms/step - loss: 0.2946 - accuracy: 0.8940 - val_loss: 0.3642 - val_accuracy: 0.8541\n",
      "Epoch 27/100\n",
      "30/30 [==============================] - 4s 149ms/step - loss: 0.2742 - accuracy: 0.9071 - val_loss: 0.3665 - val_accuracy: 0.8455\n",
      "Epoch 28/100\n",
      "30/30 [==============================] - 4s 148ms/step - loss: 0.2617 - accuracy: 0.9060 - val_loss: 0.3677 - val_accuracy: 0.8541\n",
      "Epoch 29/100\n",
      "30/30 [==============================] - 4s 148ms/step - loss: 0.2516 - accuracy: 0.9154 - val_loss: 0.3309 - val_accuracy: 0.8820\n",
      "Epoch 30/100\n",
      "30/30 [==============================] - 4s 149ms/step - loss: 0.2357 - accuracy: 0.9187 - val_loss: 0.3435 - val_accuracy: 0.8820\n",
      "Epoch 31/100\n",
      "30/30 [==============================] - 4s 145ms/step - loss: 0.2213 - accuracy: 0.9272 - val_loss: 0.3236 - val_accuracy: 0.8884\n",
      "Epoch 32/100\n",
      "30/30 [==============================] - 4s 150ms/step - loss: 0.2086 - accuracy: 0.9348 - val_loss: 0.3201 - val_accuracy: 0.8820\n",
      "Epoch 33/100\n",
      "30/30 [==============================] - 4s 147ms/step - loss: 0.1905 - accuracy: 0.9458 - val_loss: 0.3061 - val_accuracy: 0.8948\n",
      "Epoch 34/100\n",
      "30/30 [==============================] - 5s 152ms/step - loss: 0.1745 - accuracy: 0.9544 - val_loss: 0.2983 - val_accuracy: 0.9013\n",
      "Epoch 35/100\n",
      "30/30 [==============================] - 5s 155ms/step - loss: 0.1740 - accuracy: 0.9495 - val_loss: 0.3012 - val_accuracy: 0.9034\n",
      "Epoch 36/100\n",
      "30/30 [==============================] - 5s 156ms/step - loss: 0.1643 - accuracy: 0.9589 - val_loss: 0.2975 - val_accuracy: 0.9077\n",
      "Epoch 37/100\n",
      "30/30 [==============================] - 4s 147ms/step - loss: 0.1465 - accuracy: 0.9662 - val_loss: 0.2901 - val_accuracy: 0.9056\n",
      "Epoch 38/100\n",
      "30/30 [==============================] - 7s 251ms/step - loss: 0.1489 - accuracy: 0.9646 - val_loss: 0.2976 - val_accuracy: 0.9120\n",
      "Epoch 39/100\n",
      "30/30 [==============================] - 4s 144ms/step - loss: 0.1306 - accuracy: 0.9721 - val_loss: 0.2790 - val_accuracy: 0.9142\n",
      "Epoch 40/100\n",
      "30/30 [==============================] - 5s 173ms/step - loss: 0.1175 - accuracy: 0.9799 - val_loss: 0.2802 - val_accuracy: 0.9185\n",
      "Epoch 41/100\n",
      "30/30 [==============================] - 4s 145ms/step - loss: 0.1104 - accuracy: 0.9793 - val_loss: 0.2841 - val_accuracy: 0.9163\n",
      "Epoch 42/100\n",
      "30/30 [==============================] - 4s 148ms/step - loss: 0.1035 - accuracy: 0.9831 - val_loss: 0.2725 - val_accuracy: 0.9249\n",
      "Epoch 43/100\n",
      "30/30 [==============================] - 5s 165ms/step - loss: 0.0901 - accuracy: 0.9914 - val_loss: 0.2735 - val_accuracy: 0.9142\n",
      "Epoch 44/100\n",
      "30/30 [==============================] - 5s 149ms/step - loss: 0.0878 - accuracy: 0.9879 - val_loss: 0.2690 - val_accuracy: 0.9227\n",
      "Epoch 45/100\n",
      "30/30 [==============================] - 4s 146ms/step - loss: 0.0805 - accuracy: 0.9914 - val_loss: 0.2634 - val_accuracy: 0.9206\n",
      "Epoch 46/100\n",
      "30/30 [==============================] - 4s 145ms/step - loss: 0.0718 - accuracy: 0.9949 - val_loss: 0.2743 - val_accuracy: 0.9227\n",
      "Epoch 47/100\n",
      "30/30 [==============================] - 5s 154ms/step - loss: 0.0680 - accuracy: 0.9952 - val_loss: 0.2683 - val_accuracy: 0.9249\n",
      "Epoch 48/100\n",
      "30/30 [==============================] - 5s 159ms/step - loss: 0.0627 - accuracy: 0.9962 - val_loss: 0.2650 - val_accuracy: 0.9206\n",
      "Epoch 49/100\n",
      "30/30 [==============================] - 5s 161ms/step - loss: 0.0577 - accuracy: 0.9962 - val_loss: 0.2730 - val_accuracy: 0.9249\n",
      "Epoch 50/100\n",
      "30/30 [==============================] - 4s 148ms/step - loss: 0.0555 - accuracy: 0.9979 - val_loss: 0.2664 - val_accuracy: 0.9335\n",
      "Epoch 51/100\n",
      "30/30 [==============================] - 4s 142ms/step - loss: 0.0483 - accuracy: 0.9995 - val_loss: 0.2774 - val_accuracy: 0.9249\n",
      "Epoch 52/100\n",
      "30/30 [==============================] - 4s 142ms/step - loss: 0.0415 - accuracy: 0.9997 - val_loss: 0.2732 - val_accuracy: 0.9270\n",
      "Epoch 53/100\n",
      "30/30 [==============================] - 4s 142ms/step - loss: 0.0420 - accuracy: 0.9997 - val_loss: 0.2719 - val_accuracy: 0.9292\n",
      "Epoch 54/100\n",
      "30/30 [==============================] - 4s 142ms/step - loss: 0.0397 - accuracy: 1.0000 - val_loss: 0.2795 - val_accuracy: 0.9292\n",
      "Epoch 55/100\n",
      "30/30 [==============================] - 4s 144ms/step - loss: 0.0345 - accuracy: 1.0000 - val_loss: 0.2868 - val_accuracy: 0.9227\n",
      "Epoch 56/100\n",
      "30/30 [==============================] - 5s 167ms/step - loss: 0.0307 - accuracy: 1.0000 - val_loss: 0.2836 - val_accuracy: 0.9270\n",
      "Epoch 57/100\n",
      "30/30 [==============================] - 5s 167ms/step - loss: 0.0301 - accuracy: 0.9997 - val_loss: 0.2776 - val_accuracy: 0.9227\n",
      "Epoch 58/100\n",
      "30/30 [==============================] - 5s 151ms/step - loss: 0.0355 - accuracy: 0.9984 - val_loss: 0.2942 - val_accuracy: 0.9270\n",
      "Epoch 59/100\n",
      "30/30 [==============================] - 5s 155ms/step - loss: 0.0314 - accuracy: 0.9995 - val_loss: 0.2982 - val_accuracy: 0.9292\n",
      "Epoch 60/100\n",
      "30/30 [==============================] - 4s 149ms/step - loss: 0.0264 - accuracy: 1.0000 - val_loss: 0.2888 - val_accuracy: 0.9292\n",
      "Epoch 61/100\n",
      "30/30 [==============================] - 4s 147ms/step - loss: 0.0238 - accuracy: 1.0000 - val_loss: 0.2979 - val_accuracy: 0.9292\n",
      "Epoch 62/100\n",
      "30/30 [==============================] - 4s 142ms/step - loss: 0.0238 - accuracy: 1.0000 - val_loss: 0.2888 - val_accuracy: 0.9335\n",
      "Epoch 63/100\n",
      "30/30 [==============================] - 4s 142ms/step - loss: 0.0200 - accuracy: 1.0000 - val_loss: 0.3006 - val_accuracy: 0.9292\n",
      "Epoch 64/100\n",
      "30/30 [==============================] - 4s 144ms/step - loss: 0.0177 - accuracy: 1.0000 - val_loss: 0.2997 - val_accuracy: 0.9270\n",
      "Epoch 65/100\n",
      "30/30 [==============================] - 4s 149ms/step - loss: 0.0173 - accuracy: 1.0000 - val_loss: 0.3101 - val_accuracy: 0.9292\n",
      "Epoch 66/100\n",
      "30/30 [==============================] - 4s 144ms/step - loss: 0.0168 - accuracy: 1.0000 - val_loss: 0.3057 - val_accuracy: 0.9313\n",
      "Epoch 67/100\n",
      "30/30 [==============================] - 4s 147ms/step - loss: 0.0154 - accuracy: 1.0000 - val_loss: 0.3101 - val_accuracy: 0.9292\n",
      "Epoch 68/100\n",
      "30/30 [==============================] - 4s 149ms/step - loss: 0.0138 - accuracy: 1.0000 - val_loss: 0.3137 - val_accuracy: 0.9249\n",
      "Epoch 69/100\n",
      "30/30 [==============================] - 4s 145ms/step - loss: 0.0131 - accuracy: 1.0000 - val_loss: 0.3236 - val_accuracy: 0.9292\n",
      "Epoch 70/100\n",
      "30/30 [==============================] - 4s 148ms/step - loss: 0.0123 - accuracy: 1.0000 - val_loss: 0.3244 - val_accuracy: 0.9270\n",
      "Epoch 71/100\n",
      "30/30 [==============================] - 4s 145ms/step - loss: 0.0129 - accuracy: 1.0000 - val_loss: 0.3287 - val_accuracy: 0.9270\n",
      "Epoch 72/100\n",
      "30/30 [==============================] - 4s 145ms/step - loss: 0.0114 - accuracy: 1.0000 - val_loss: 0.3269 - val_accuracy: 0.9270\n",
      "Epoch 73/100\n",
      "30/30 [==============================] - 4s 144ms/step - loss: 0.0104 - accuracy: 1.0000 - val_loss: 0.3339 - val_accuracy: 0.9270\n",
      "Epoch 74/100\n",
      "30/30 [==============================] - 4s 143ms/step - loss: 0.0097 - accuracy: 1.0000 - val_loss: 0.3333 - val_accuracy: 0.9270\n",
      "Epoch 75/100\n",
      "30/30 [==============================] - 4s 145ms/step - loss: 0.0093 - accuracy: 1.0000 - val_loss: 0.3430 - val_accuracy: 0.9249\n",
      "Epoch 76/100\n",
      "30/30 [==============================] - 4s 145ms/step - loss: 0.0087 - accuracy: 1.0000 - val_loss: 0.3387 - val_accuracy: 0.9227\n",
      "Epoch 77/100\n",
      "30/30 [==============================] - 4s 145ms/step - loss: 0.0085 - accuracy: 1.0000 - val_loss: 0.3398 - val_accuracy: 0.9270\n",
      "Epoch 78/100\n",
      "30/30 [==============================] - 9s 323ms/step - loss: 0.0081 - accuracy: 1.0000 - val_loss: 0.3458 - val_accuracy: 0.9270\n",
      "Epoch 79/100\n",
      "30/30 [==============================] - 5s 153ms/step - loss: 0.0099 - accuracy: 0.9997 - val_loss: 0.3721 - val_accuracy: 0.9206\n",
      "Epoch 80/100\n",
      "30/30 [==============================] - 5s 183ms/step - loss: 0.0087 - accuracy: 1.0000 - val_loss: 0.3647 - val_accuracy: 0.9249\n",
      "Epoch 81/100\n",
      "30/30 [==============================] - 5s 178ms/step - loss: 0.0074 - accuracy: 1.0000 - val_loss: 0.3642 - val_accuracy: 0.9249\n",
      "Epoch 82/100\n",
      "30/30 [==============================] - 5s 151ms/step - loss: 0.0066 - accuracy: 1.0000 - val_loss: 0.3619 - val_accuracy: 0.9227\n",
      "Epoch 83/100\n",
      "30/30 [==============================] - 5s 153ms/step - loss: 0.0063 - accuracy: 1.0000 - val_loss: 0.3712 - val_accuracy: 0.9249\n",
      "Epoch 84/100\n",
      "30/30 [==============================] - 4s 146ms/step - loss: 0.0060 - accuracy: 1.0000 - val_loss: 0.3671 - val_accuracy: 0.9227\n",
      "Epoch 85/100\n",
      "30/30 [==============================] - 5s 151ms/step - loss: 0.0058 - accuracy: 1.0000 - val_loss: 0.3690 - val_accuracy: 0.9249\n",
      "Epoch 86/100\n",
      "30/30 [==============================] - 4s 149ms/step - loss: 0.0055 - accuracy: 1.0000 - val_loss: 0.3810 - val_accuracy: 0.9227\n",
      "Epoch 87/100\n",
      "30/30 [==============================] - 4s 144ms/step - loss: 0.0053 - accuracy: 1.0000 - val_loss: 0.3830 - val_accuracy: 0.9227\n",
      "Epoch 88/100\n",
      "30/30 [==============================] - 4s 149ms/step - loss: 0.0050 - accuracy: 1.0000 - val_loss: 0.3844 - val_accuracy: 0.9227\n",
      "Epoch 89/100\n",
      "30/30 [==============================] - 4s 149ms/step - loss: 0.0047 - accuracy: 1.0000 - val_loss: 0.3870 - val_accuracy: 0.9227\n",
      "Epoch 90/100\n",
      "30/30 [==============================] - 4s 149ms/step - loss: 0.0046 - accuracy: 1.0000 - val_loss: 0.3868 - val_accuracy: 0.9227\n",
      "Epoch 91/100\n",
      "30/30 [==============================] - 5s 156ms/step - loss: 0.0045 - accuracy: 1.0000 - val_loss: 0.3943 - val_accuracy: 0.9227\n",
      "Epoch 92/100\n",
      "30/30 [==============================] - 4s 146ms/step - loss: 0.0043 - accuracy: 1.0000 - val_loss: 0.3947 - val_accuracy: 0.9249\n",
      "Epoch 93/100\n",
      "30/30 [==============================] - 4s 145ms/step - loss: 0.0043 - accuracy: 1.0000 - val_loss: 0.3940 - val_accuracy: 0.9249\n",
      "Epoch 94/100\n",
      "30/30 [==============================] - 4s 145ms/step - loss: 0.0039 - accuracy: 1.0000 - val_loss: 0.4032 - val_accuracy: 0.9227\n",
      "Epoch 95/100\n",
      "30/30 [==============================] - 4s 149ms/step - loss: 0.0038 - accuracy: 1.0000 - val_loss: 0.3997 - val_accuracy: 0.9227\n",
      "Epoch 96/100\n",
      "30/30 [==============================] - 4s 143ms/step - loss: 0.0036 - accuracy: 1.0000 - val_loss: 0.4050 - val_accuracy: 0.9206\n",
      "Epoch 97/100\n",
      "30/30 [==============================] - 4s 146ms/step - loss: 0.0036 - accuracy: 1.0000 - val_loss: 0.4128 - val_accuracy: 0.9227\n",
      "Epoch 98/100\n",
      "30/30 [==============================] - 4s 149ms/step - loss: 0.0034 - accuracy: 1.0000 - val_loss: 0.4144 - val_accuracy: 0.9249\n",
      "Epoch 99/100\n",
      "30/30 [==============================] - 5s 156ms/step - loss: 0.0033 - accuracy: 1.0000 - val_loss: 0.4126 - val_accuracy: 0.9249\n",
      "Epoch 100/100\n",
      "30/30 [==============================] - 4s 146ms/step - loss: 0.0031 - accuracy: 1.0000 - val_loss: 0.4171 - val_accuracy: 0.9206\n"
     ]
    }
   ],
   "source": [
    "history = model.fit(X_train, y_train, epochs=100, batch_size=128, validation_data=(X_val, y_val))"
   ]
  },
  {
   "cell_type": "code",
   "execution_count": 84,
   "metadata": {},
   "outputs": [
    {
     "name": "stdout",
     "output_type": "stream",
     "text": [
      "dict_keys(['loss', 'accuracy', 'val_loss', 'val_accuracy'])\n"
     ]
    },
    {
     "data": {
      "image/png": "[encoded data removed]",
      "text/plain": [
       "<Figure size 640x480 with 1 Axes>"
      ]
     },
     "metadata": {},
     "output_type": "display_data"
    }
   ],
   "source": [
    "# plot the training and validation loss\n",
    "# Get the training and validation loss history\n",
    "print(history.history.keys())\n",
    "\n",
    "# Plot the training and validation loss\n",
    "plt.plot(history.history['loss'], label='Training Loss')\n",
    "plt.plot(history.history['val_loss'], label='Validation Loss')\n",
    "plt.xlabel('Epoch')\n",
    "plt.ylabel('Loss')\n",
    "plt.legend()\n",
    "plt.show()"
   ]
  },
  {
   "cell_type": "code",
   "execution_count": 85,
   "metadata": {},
   "outputs": [
    {
     "name": "stdout",
     "output_type": "stream",
     "text": [
      "15/15 [==============================] - 1s 39ms/step - loss: 0.3971 - accuracy: 0.9356\n"
     ]
    },
    {
     "data": {
      "text/plain": [
       "[0.3970595896244049, 0.9356223344802856]"
      ]
     },
     "execution_count": 85,
     "metadata": {},
     "output_type": "execute_result"
    }
   ],
   "source": [
    "model.evaluate(X_test, y_test) # (val_loss, val_acc)"
   ]
  },
  {
   "cell_type": "code",
   "execution_count": 86,
   "metadata": {},
   "outputs": [
    {
     "name": "stdout",
     "output_type": "stream",
     "text": [
      " 3/15 [=====>........................] - ETA: 0s"
     ]
    },
    {
     "name": "stderr",
     "output_type": "stream",
     "text": [
      "2023-04-11 22:24:39.496755: I tensorflow/core/grappler/optimizers/custom_graph_optimizer_registry.cc:113] Plugin optimizer for device_type GPU is enabled.\n"
     ]
    },
    {
     "name": "stdout",
     "output_type": "stream",
     "text": [
      "15/15 [==============================] - 1s 24ms/step\n",
      "              precision    recall  f1-score   support\n",
      "\n",
      "           0       0.94      0.93      0.94       233\n",
      "           1       0.93      0.94      0.94       233\n",
      "\n",
      "    accuracy                           0.94       466\n",
      "   macro avg       0.94      0.94      0.94       466\n",
      "weighted avg       0.94      0.94      0.94       466\n",
      "\n"
     ]
    }
   ],
   "source": [
    "# evaluate the model on the test set\n",
    "y_pred = model.predict(X_test)\n",
    "y_pred = (y_pred>0.5).astype(int)\n",
    "print(classification_report(y_test, y_pred))"
   ]
  },
  {
   "cell_type": "code",
   "execution_count": 87,
   "metadata": {},
   "outputs": [
    {
     "name": "stdout",
     "output_type": "stream",
     "text": [
      " 1/15 [=>............................] - ETA: 2s"
     ]
    },
    {
     "name": "stderr",
     "output_type": "stream",
     "text": [
      "/Users/anushmutyala/Documents/GitHub/Energy-Efficient-Decoding-of-EEG-Motor-Imagery-using-Spiking-Legendre-Memory-Units/keras-spiking/keras_spiking/model_energy.py:318: UserWarning: Layer 'LMU' already registered. Overwriting.\n",
      "  warnings.warn(\n",
      "2023-04-11 22:24:40.038614: I tensorflow/core/grappler/optimizers/custom_graph_optimizer_registry.cc:113] Plugin optimizer for device_type GPU is enabled.\n"
     ]
    },
    {
     "name": "stdout",
     "output_type": "stream",
     "text": [
      "15/15 [==============================] - 0s 23ms/step\n",
      "Layer (type|J/inf (cpu)|J/inf (loih|J/inf (gpu)|Synop J/inf |Synop J/inf|Neuron J/inf|Neuron J/inf\n",
      "-----------|-----------|-----------|-----------|------------|-----------|------------|------------\n",
      "lmu_14 (LMU|     0.0001|    4.9e-08|    3.6e-06|      0.0001|    3.6e-06|     5.5e-07|     1.9e-08\n",
      "dense_14 (D|    5.6e-07|    7.4e-10|    1.9e-08|     5.5e-07|    1.9e-08|     8.6e-09|       3e-10\n",
      "==================================================================================================\n",
      "Total energy per inference [Joules/inf] (cpu): 1.05e-04\n",
      "Total energy per inference [Joules/inf] (loihi): 4.98e-08\n",
      "Total energy per inference [Joules/inf] (gpu): 3.65e-06\n"
     ]
    }
   ],
   "source": [
    "import keras_spiking\n",
    "\n",
    "@keras_spiking.ModelEnergy.register_layer(LMU)\n",
    "def LMU_stats(node):\n",
    "    input_d = 92\n",
    "    units = 64\n",
    "    order = 32\n",
    "\n",
    "    # Connections: three sets of connections (x->h, m->h, h->h)\n",
    "    connections_x_to_h = input_d * units\n",
    "    connections_m_to_h = order * units\n",
    "    connections_h_to_h = units * units\n",
    "    connections = connections_x_to_h + connections_m_to_h + connections_h_to_h\n",
    "\n",
    "    # Neurons: number of neurons in the LMU is equal to the number of units\n",
    "    neurons = units\n",
    "\n",
    "    return {\"connections\": connections, \"neurons\": neurons, \"spiking\": True}\n",
    "\n",
    "energy = keras_spiking.ModelEnergy(model, example_data=X_test)\n",
    "energy.summary(\n",
    "     columns=(\n",
    "        \"name\",\n",
    "        \"energy cpu\",\n",
    "        \"energy loihi\",\n",
    "        \"energy gpu\",\n",
    "        \"synop_energy cpu\",\n",
    "        \"synop_energy gpu\",\n",
    "        \"neuron_energy cpu\",\n",
    "        \"neuron_energy gpu\",\n",
    "    ),\n",
    "    timesteps_per_inference=9,\n",
    "    dt=0.001,\n",
    "    print_warnings=False)\n"
   ]
  },
  {
   "cell_type": "code",
   "execution_count": 88,
   "metadata": {},
   "outputs": [
    {
     "name": "stderr",
     "output_type": "stream",
     "text": [
      "WARNING:absl:Found untraced functions such as simple_rnn_cell_12_layer_call_fn, simple_rnn_cell_12_layer_call_and_return_conditional_losses, lmu_feedforward_layer_call_fn, lmu_feedforward_layer_call_and_return_conditional_losses while saving (showing 4 of 4). These functions will not be directly callable after loading.\n"
     ]
    },
    {
     "name": "stdout",
     "output_type": "stream",
     "text": [
      "INFO:tensorflow:Assets written to: keras-lmu/assets\n"
     ]
    },
    {
     "name": "stderr",
     "output_type": "stream",
     "text": [
      "INFO:tensorflow:Assets written to: keras-lmu/assets\n"
     ]
    }
   ],
   "source": [
    "# save the model\n",
    "\n",
    "model.save('keras-lmu')"
   ]
  },
  {
   "attachments": {},
   "cell_type": "markdown",
   "metadata": {},
   "source": [
    "# Spiking LMU"
   ]
  },
  {
   "cell_type": "code",
   "execution_count": 59,
   "metadata": {},
   "outputs": [],
   "source": [
    "class SpikingLMUCell(nengo.Network):\n",
    "    def __init__(self, units, order, theta, input_d, **kwargs):\n",
    "        super().__init__(**kwargs)\n",
    "\n",
    "        # compute the A and B matrices according to the LMU's mathematical derivation\n",
    "        # (see the paper for details)\n",
    "        Q = np.arange(order, dtype=np.float64)\n",
    "        R = (2 * Q + 1)[:, None] / theta\n",
    "        j, i = np.meshgrid(Q, Q)\n",
    "\n",
    "        A = np.where(i < j, -1, (-1.0) ** (i - j + 1)) * R\n",
    "        B = (-1.0) ** Q[:, None] * R\n",
    "        C = np.ones((1, order))\n",
    "        D = np.zeros((1,))\n",
    "        \n",
    "#          here we are using zero-order hold(zoh) method to \n",
    "#        discretize the value of A and B \n",
    "        A, B, _, _, _ = cont2discrete((A, B, C, D), dt=1.0, method=\"zoh\")\n",
    "\n",
    "        with self:\n",
    "            nengo_dl.configure_settings(trainable=None)\n",
    "\n",
    "            # create objects corresponding to the x/u/m/h variables in the above diagram\n",
    "            self.x = nengo.Node(size_in=input_d)\n",
    "            self.u = nengo.Node(size_in=1)\n",
    "            self.m = nengo.Node(size_in=order)\n",
    "#             self.h = nengo_dl.TensorNode(tf.nn.relu, shape_in=(units,), pass_time=False)\n",
    "            self.h = nengo.Ensemble(units, 1, \n",
    "                                    #neuron_type=nengo.RegularSpiking(nengo.Tanh(tau_ref=0.001)), \n",
    "                                    neuron_type=nengo.Tanh(tau_ref=1), \n",
    "                                    gain=np.ones(units), bias=np.zeros(units)).neurons  \n",
    "\n",
    "#             compute u_t from the above diagram. we have removed e_h and e_m as they\n",
    "#             are not needed in this task.\n",
    "            nengo.Connection(\n",
    "                self.x,\n",
    "                self.u,\n",
    "                transform=np.ones((1, input_d)),\n",
    "                synapse=None,\n",
    "            )\n",
    "\n",
    "            # compute m_t\n",
    "            # in this implementation we'll make A and B non-trainable, but they\n",
    "            # could also be optimized in the same way as the other parameters.\n",
    "            # note that setting synapse=0 (versus synapse=None) adds a one-timestep\n",
    "            # delay, so we can think of any connections with synapse=0 as representing\n",
    "            # value_{t-1}.\n",
    "            conn_A = nengo.Connection(\n",
    "                self.m,\n",
    "                self.m,\n",
    "                transform=A,\n",
    "                synapse=0,\n",
    "            )\n",
    "            self.config[conn_A].trainable = False\n",
    "            \n",
    "            conn_B = nengo.Connection(\n",
    "                self.u,\n",
    "                self.m,\n",
    "                transform=B,\n",
    "                synapse=None,\n",
    "            )\n",
    "            self.config[conn_B].trainable = False\n",
    "\n",
    "            # compute h_t\n",
    "            nengo.Connection(\n",
    "                self.x,\n",
    "                self.h,\n",
    "                transform=nengo_dl.dists.Glorot(),\n",
    "                synapse=None,\n",
    "            )\n",
    "            nengo.Connection(\n",
    "                self.h,\n",
    "                self.h,\n",
    "                transform=nengo_dl.dists.Glorot(),\n",
    "                synapse=0,\n",
    "            )\n",
    "            nengo.Connection(\n",
    "                self.m,\n",
    "                self.h,\n",
    "                transform=nengo_dl.dists.Glorot(),\n",
    "                synapse=None,\n",
    "            )\n",
    "            \n",
    "            "
   ]
  },
  {
   "cell_type": "code",
   "execution_count": 60,
   "metadata": {},
   "outputs": [],
   "source": [
    "with nengo.Network(seed=0) as net:\n",
    "    nengo_dl.configure_settings(\n",
    "        trainable=None,\n",
    "        stateful=None,\n",
    "        keep_history=False,\n",
    "    )\n",
    "\n",
    "    inp = nengo.Node((np.zeros(X_train.shape[-1])))\n",
    "\n",
    "    lmu = SpikingLMUCell(\n",
    "        units=64,\n",
    "        order=32,\n",
    "        theta=X_train.shape[1],\n",
    "        input_d=X_train.shape[-1],\n",
    "    )\n",
    "    net.config[lmu.h.ensemble].trainable = False\n",
    "    \n",
    "    conn = nengo.Connection(inp, lmu.x, synapse=None)\n",
    "    net.config[conn].trainable = False \n",
    "\n",
    "    out = nengo.Node(size_in=1) #changed to 1\n",
    "    nengo.Connection(lmu.h, out, transform=nengo_dl.dists.Glorot(), synapse=None)\n",
    "   \n",
    "    # p_inp = nengo.Probe(inp, label = \"input\")\n",
    "    # p_lmu = nengo.Probe(lmu.h, label = \"lmu\")\n",
    "    # p = nengo.Probe(out, label = \"output\") \n",
    "    p = nengo.Probe(out)  \n",
    "    \n"
   ]
  },
  {
   "cell_type": "code",
   "execution_count": 61,
   "metadata": {},
   "outputs": [
    {
     "name": "stdout",
     "output_type": "stream",
     "text": [
      "Model: \"keras_model\"\n",
      "__________________________________________________________________________________________________\n",
      " Layer (type)                   Output Shape         Param #     Connected to                     \n",
      "==================================================================================================\n",
      " node (InputLayer)              [(128, None, 92)]    0           []                               \n",
      "                                                                                                  \n",
      " n_steps (InputLayer)           [(128, 1)]           0           []                               \n",
      "                                                                                                  \n",
      " TensorGraph (TensorGraph)      [(128, None, 1),     13244       ['node[0][0]',                   \n",
      "                                 (128,)]                          'n_steps[0][0]']                \n",
      "                                                                                                  \n",
      "==================================================================================================\n",
      "Total params: 13,244\n",
      "Trainable params: 12,188\n",
      "Non-trainable params: 1,056\n",
      "__________________________________________________________________________________________________\n",
      "Epoch 1/100\n"
     ]
    },
    {
     "name": "stderr",
     "output_type": "stream",
     "text": [
      "/Users/anushmutyala/Documents/GitHub/Energy-Efficient-Decoding-of-EEG-Motor-Imagery-using-Spiking-Legendre-Memory-Units/nengo-dl/nengo_dl/simulator.py:1892: UserWarning: Number of elements in input data (466) is not evenly divisible by Simulator.minibatch_size (128); input data will be truncated.\n",
      "  warnings.warn(\n",
      "/Users/anushmutyala/Documents/GitHub/Energy-Efficient-Decoding-of-EEG-Motor-Imagery-using-Spiking-Legendre-Memory-Units/nengo-dl/nengo_dl/simulator.py:942: UserWarning: Batch size is determined statically via Simulator.minibatch_size; ignoring value passed to `fit`\n",
      "  warnings.warn(\n",
      "/Users/anushmutyala/Documents/GitHub/Energy-Efficient-Decoding-of-EEG-Motor-Imagery-using-Spiking-Legendre-Memory-Units/nengo-dl/nengo_dl/simulator.py:1892: UserWarning: Number of elements in input data (3725) is not evenly divisible by Simulator.minibatch_size (128); input data will be truncated.\n",
      "  warnings.warn(\n",
      "2023-04-11 21:59:52.450037: I tensorflow/core/grappler/optimizers/custom_graph_optimizer_registry.cc:113] Plugin optimizer for device_type GPU is enabled.\n"
     ]
    },
    {
     "name": "stdout",
     "output_type": "stream",
     "text": [
      "29/29 [==============================] - ETA: 0s - loss: 0.7501 - probe_loss: 0.7501 - probe_accuracy: 0.4906"
     ]
    },
    {
     "name": "stderr",
     "output_type": "stream",
     "text": [
      "2023-04-11 21:59:57.717333: I tensorflow/core/grappler/optimizers/custom_graph_optimizer_registry.cc:113] Plugin optimizer for device_type GPU is enabled.\n"
     ]
    },
    {
     "name": "stdout",
     "output_type": "stream",
     "text": [
      "29/29 [==============================] - 8s 161ms/step - loss: 0.7501 - probe_loss: 0.7501 - probe_accuracy: 0.4906 - val_loss: 0.7229 - val_probe_loss: 0.7229 - val_probe_accuracy: 0.4792\n",
      "Epoch 2/100\n",
      "29/29 [==============================] - 4s 142ms/step - loss: 0.6961 - probe_loss: 0.6961 - probe_accuracy: 0.5210 - val_loss: 0.6968 - val_probe_loss: 0.6968 - val_probe_accuracy: 0.5286\n",
      "Epoch 3/100\n",
      "29/29 [==============================] - 4s 128ms/step - loss: 0.6756 - probe_loss: 0.6756 - probe_accuracy: 0.5480 - val_loss: 0.6829 - val_probe_loss: 0.6829 - val_probe_accuracy: 0.5443\n",
      "Epoch 4/100\n",
      "29/29 [==============================] - 4s 122ms/step - loss: 0.6594 - probe_loss: 0.6594 - probe_accuracy: 0.5609 - val_loss: 0.6674 - val_probe_loss: 0.6674 - val_probe_accuracy: 0.5573\n",
      "Epoch 5/100\n",
      "29/29 [==============================] - 4s 127ms/step - loss: 0.6458 - probe_loss: 0.6458 - probe_accuracy: 0.5730 - val_loss: 0.6560 - val_probe_loss: 0.6560 - val_probe_accuracy: 0.5625\n",
      "Epoch 6/100\n",
      "29/29 [==============================] - 3s 117ms/step - loss: 0.6341 - probe_loss: 0.6341 - probe_accuracy: 0.5857 - val_loss: 0.6488 - val_probe_loss: 0.6488 - val_probe_accuracy: 0.5703\n",
      "Epoch 7/100\n",
      "29/29 [==============================] - 3s 120ms/step - loss: 0.6248 - probe_loss: 0.6248 - probe_accuracy: 0.5924 - val_loss: 0.6415 - val_probe_loss: 0.6415 - val_probe_accuracy: 0.5651\n",
      "Epoch 8/100\n",
      "29/29 [==============================] - 4s 125ms/step - loss: 0.6173 - probe_loss: 0.6173 - probe_accuracy: 0.6094 - val_loss: 0.6358 - val_probe_loss: 0.6358 - val_probe_accuracy: 0.5938\n",
      "Epoch 9/100\n",
      "29/29 [==============================] - 4s 124ms/step - loss: 0.6071 - probe_loss: 0.6071 - probe_accuracy: 0.6169 - val_loss: 0.6290 - val_probe_loss: 0.6290 - val_probe_accuracy: 0.5859\n",
      "Epoch 10/100\n",
      "29/29 [==============================] - 3s 120ms/step - loss: 0.5984 - probe_loss: 0.5984 - probe_accuracy: 0.6280 - val_loss: 0.6207 - val_probe_loss: 0.6207 - val_probe_accuracy: 0.6120\n",
      "Epoch 11/100\n",
      "29/29 [==============================] - 3s 117ms/step - loss: 0.5893 - probe_loss: 0.5893 - probe_accuracy: 0.6347 - val_loss: 0.6145 - val_probe_loss: 0.6145 - val_probe_accuracy: 0.6120\n",
      "Epoch 12/100\n",
      "29/29 [==============================] - 4s 121ms/step - loss: 0.5823 - probe_loss: 0.5823 - probe_accuracy: 0.6476 - val_loss: 0.6071 - val_probe_loss: 0.6071 - val_probe_accuracy: 0.6146\n",
      "Epoch 13/100\n",
      "29/29 [==============================] - 4s 145ms/step - loss: 0.5721 - probe_loss: 0.5721 - probe_accuracy: 0.6598 - val_loss: 0.6002 - val_probe_loss: 0.6002 - val_probe_accuracy: 0.6120\n",
      "Epoch 14/100\n",
      "29/29 [==============================] - 4s 121ms/step - loss: 0.5647 - probe_loss: 0.5647 - probe_accuracy: 0.6673 - val_loss: 0.5939 - val_probe_loss: 0.5939 - val_probe_accuracy: 0.6354\n",
      "Epoch 15/100\n",
      "29/29 [==============================] - 3s 113ms/step - loss: 0.5566 - probe_loss: 0.5566 - probe_accuracy: 0.6805 - val_loss: 0.5875 - val_probe_loss: 0.5875 - val_probe_accuracy: 0.6432\n",
      "Epoch 16/100\n",
      "29/29 [==============================] - 3s 113ms/step - loss: 0.5468 - probe_loss: 0.5468 - probe_accuracy: 0.6856 - val_loss: 0.5804 - val_probe_loss: 0.5804 - val_probe_accuracy: 0.6354\n",
      "Epoch 17/100\n",
      "29/29 [==============================] - 3s 112ms/step - loss: 0.5384 - probe_loss: 0.5384 - probe_accuracy: 0.6905 - val_loss: 0.5763 - val_probe_loss: 0.5763 - val_probe_accuracy: 0.6589\n",
      "Epoch 18/100\n",
      "29/29 [==============================] - 3s 116ms/step - loss: 0.5306 - probe_loss: 0.5306 - probe_accuracy: 0.6985 - val_loss: 0.5666 - val_probe_loss: 0.5666 - val_probe_accuracy: 0.6823\n",
      "Epoch 19/100\n",
      "29/29 [==============================] - 3s 113ms/step - loss: 0.5209 - probe_loss: 0.5209 - probe_accuracy: 0.7150 - val_loss: 0.5626 - val_probe_loss: 0.5626 - val_probe_accuracy: 0.6875\n",
      "Epoch 20/100\n",
      "29/29 [==============================] - 3s 113ms/step - loss: 0.5128 - probe_loss: 0.5128 - probe_accuracy: 0.7198 - val_loss: 0.5544 - val_probe_loss: 0.5544 - val_probe_accuracy: 0.6901\n",
      "Epoch 21/100\n",
      "29/29 [==============================] - 3s 113ms/step - loss: 0.5036 - probe_loss: 0.5036 - probe_accuracy: 0.7287 - val_loss: 0.5438 - val_probe_loss: 0.5438 - val_probe_accuracy: 0.7031\n",
      "Epoch 22/100\n",
      "29/29 [==============================] - 3s 113ms/step - loss: 0.4965 - probe_loss: 0.4965 - probe_accuracy: 0.7368 - val_loss: 0.5421 - val_probe_loss: 0.5421 - val_probe_accuracy: 0.7083\n",
      "Epoch 23/100\n",
      "29/29 [==============================] - 3s 116ms/step - loss: 0.4872 - probe_loss: 0.4872 - probe_accuracy: 0.7460 - val_loss: 0.5376 - val_probe_loss: 0.5376 - val_probe_accuracy: 0.6979\n",
      "Epoch 24/100\n",
      "29/29 [==============================] - 3s 115ms/step - loss: 0.4789 - probe_loss: 0.4789 - probe_accuracy: 0.7503 - val_loss: 0.5271 - val_probe_loss: 0.5271 - val_probe_accuracy: 0.7135\n",
      "Epoch 25/100\n",
      "29/29 [==============================] - 4s 130ms/step - loss: 0.4707 - probe_loss: 0.4707 - probe_accuracy: 0.7621 - val_loss: 0.5217 - val_probe_loss: 0.5217 - val_probe_accuracy: 0.7161\n",
      "Epoch 26/100\n",
      "29/29 [==============================] - 3s 119ms/step - loss: 0.4617 - probe_loss: 0.4617 - probe_accuracy: 0.7675 - val_loss: 0.5163 - val_probe_loss: 0.5163 - val_probe_accuracy: 0.7318\n",
      "Epoch 27/100\n",
      "29/29 [==============================] - 3s 116ms/step - loss: 0.4538 - probe_loss: 0.4538 - probe_accuracy: 0.7759 - val_loss: 0.5080 - val_probe_loss: 0.5080 - val_probe_accuracy: 0.7448\n",
      "Epoch 28/100\n",
      "29/29 [==============================] - 4s 127ms/step - loss: 0.4434 - probe_loss: 0.4434 - probe_accuracy: 0.7896 - val_loss: 0.5027 - val_probe_loss: 0.5027 - val_probe_accuracy: 0.7500\n",
      "Epoch 29/100\n",
      "29/29 [==============================] - 4s 124ms/step - loss: 0.4364 - probe_loss: 0.4364 - probe_accuracy: 0.7907 - val_loss: 0.4991 - val_probe_loss: 0.4991 - val_probe_accuracy: 0.7396\n",
      "Epoch 30/100\n",
      "29/29 [==============================] - 3s 120ms/step - loss: 0.4285 - probe_loss: 0.4285 - probe_accuracy: 0.7947 - val_loss: 0.4914 - val_probe_loss: 0.4914 - val_probe_accuracy: 0.7448\n",
      "Epoch 31/100\n",
      "29/29 [==============================] - 3s 115ms/step - loss: 0.4186 - probe_loss: 0.4186 - probe_accuracy: 0.8071 - val_loss: 0.4810 - val_probe_loss: 0.4810 - val_probe_accuracy: 0.7578\n",
      "Epoch 32/100\n",
      "29/29 [==============================] - 3s 119ms/step - loss: 0.4109 - probe_loss: 0.4109 - probe_accuracy: 0.8109 - val_loss: 0.4813 - val_probe_loss: 0.4813 - val_probe_accuracy: 0.7552\n",
      "Epoch 33/100\n",
      "29/29 [==============================] - 5s 170ms/step - loss: 0.4025 - probe_loss: 0.4025 - probe_accuracy: 0.8141 - val_loss: 0.4677 - val_probe_loss: 0.4677 - val_probe_accuracy: 0.7656\n",
      "Epoch 34/100\n",
      "29/29 [==============================] - 4s 121ms/step - loss: 0.3953 - probe_loss: 0.3953 - probe_accuracy: 0.8217 - val_loss: 0.4687 - val_probe_loss: 0.4687 - val_probe_accuracy: 0.7708\n",
      "Epoch 35/100\n",
      "29/29 [==============================] - 3s 113ms/step - loss: 0.3895 - probe_loss: 0.3895 - probe_accuracy: 0.8257 - val_loss: 0.4579 - val_probe_loss: 0.4579 - val_probe_accuracy: 0.7760\n",
      "Epoch 36/100\n",
      "29/29 [==============================] - 4s 127ms/step - loss: 0.3807 - probe_loss: 0.3807 - probe_accuracy: 0.8327 - val_loss: 0.4572 - val_probe_loss: 0.4572 - val_probe_accuracy: 0.7734\n",
      "Epoch 37/100\n",
      "29/29 [==============================] - 3s 114ms/step - loss: 0.3754 - probe_loss: 0.3754 - probe_accuracy: 0.8281 - val_loss: 0.4529 - val_probe_loss: 0.4529 - val_probe_accuracy: 0.7812\n",
      "Epoch 38/100\n",
      "29/29 [==============================] - 4s 123ms/step - loss: 0.3696 - probe_loss: 0.3696 - probe_accuracy: 0.8351 - val_loss: 0.4404 - val_probe_loss: 0.4404 - val_probe_accuracy: 0.7786\n",
      "Epoch 39/100\n",
      "29/29 [==============================] - 3s 115ms/step - loss: 0.3580 - probe_loss: 0.3580 - probe_accuracy: 0.8421 - val_loss: 0.4324 - val_probe_loss: 0.4324 - val_probe_accuracy: 0.7943\n",
      "Epoch 40/100\n",
      "29/29 [==============================] - 3s 113ms/step - loss: 0.3497 - probe_loss: 0.3497 - probe_accuracy: 0.8483 - val_loss: 0.4321 - val_probe_loss: 0.4321 - val_probe_accuracy: 0.7891\n",
      "Epoch 41/100\n",
      "29/29 [==============================] - 3s 113ms/step - loss: 0.3411 - probe_loss: 0.3411 - probe_accuracy: 0.8556 - val_loss: 0.4254 - val_probe_loss: 0.4254 - val_probe_accuracy: 0.7943\n",
      "Epoch 42/100\n",
      "29/29 [==============================] - 4s 125ms/step - loss: 0.3323 - probe_loss: 0.3323 - probe_accuracy: 0.8605 - val_loss: 0.4223 - val_probe_loss: 0.4223 - val_probe_accuracy: 0.8073\n",
      "Epoch 43/100\n",
      "29/29 [==============================] - 3s 120ms/step - loss: 0.3255 - probe_loss: 0.3255 - probe_accuracy: 0.8650 - val_loss: 0.4130 - val_probe_loss: 0.4130 - val_probe_accuracy: 0.8099\n",
      "Epoch 44/100\n",
      "29/29 [==============================] - 4s 121ms/step - loss: 0.3194 - probe_loss: 0.3194 - probe_accuracy: 0.8696 - val_loss: 0.4101 - val_probe_loss: 0.4101 - val_probe_accuracy: 0.8099\n",
      "Epoch 45/100\n",
      "29/29 [==============================] - 3s 120ms/step - loss: 0.3112 - probe_loss: 0.3112 - probe_accuracy: 0.8718 - val_loss: 0.4014 - val_probe_loss: 0.4014 - val_probe_accuracy: 0.8073\n",
      "Epoch 46/100\n",
      "29/29 [==============================] - 4s 122ms/step - loss: 0.3036 - probe_loss: 0.3036 - probe_accuracy: 0.8766 - val_loss: 0.3931 - val_probe_loss: 0.3931 - val_probe_accuracy: 0.8099\n",
      "Epoch 47/100\n",
      "29/29 [==============================] - 4s 123ms/step - loss: 0.2971 - probe_loss: 0.2971 - probe_accuracy: 0.8825 - val_loss: 0.3908 - val_probe_loss: 0.3908 - val_probe_accuracy: 0.8229\n",
      "Epoch 48/100\n",
      "29/29 [==============================] - 7s 256ms/step - loss: 0.2909 - probe_loss: 0.2909 - probe_accuracy: 0.8828 - val_loss: 0.3858 - val_probe_loss: 0.3858 - val_probe_accuracy: 0.8099\n",
      "Epoch 49/100\n",
      "29/29 [==============================] - 3s 118ms/step - loss: 0.2837 - probe_loss: 0.2837 - probe_accuracy: 0.8869 - val_loss: 0.3830 - val_probe_loss: 0.3830 - val_probe_accuracy: 0.8281\n",
      "Epoch 50/100\n",
      "29/29 [==============================] - 4s 125ms/step - loss: 0.2800 - probe_loss: 0.2800 - probe_accuracy: 0.8893 - val_loss: 0.3816 - val_probe_loss: 0.3816 - val_probe_accuracy: 0.8229\n",
      "Epoch 51/100\n",
      "29/29 [==============================] - 4s 125ms/step - loss: 0.2724 - probe_loss: 0.2724 - probe_accuracy: 0.8955 - val_loss: 0.3835 - val_probe_loss: 0.3835 - val_probe_accuracy: 0.8203\n",
      "Epoch 52/100\n",
      "29/29 [==============================] - 4s 129ms/step - loss: 0.2654 - probe_loss: 0.2654 - probe_accuracy: 0.8976 - val_loss: 0.3718 - val_probe_loss: 0.3718 - val_probe_accuracy: 0.8385\n",
      "Epoch 53/100\n",
      "29/29 [==============================] - 3s 114ms/step - loss: 0.2568 - probe_loss: 0.2568 - probe_accuracy: 0.9060 - val_loss: 0.3734 - val_probe_loss: 0.3734 - val_probe_accuracy: 0.8333\n",
      "Epoch 54/100\n",
      "29/29 [==============================] - 3s 119ms/step - loss: 0.2530 - probe_loss: 0.2530 - probe_accuracy: 0.9054 - val_loss: 0.3712 - val_probe_loss: 0.3712 - val_probe_accuracy: 0.8307\n",
      "Epoch 55/100\n",
      "29/29 [==============================] - 4s 123ms/step - loss: 0.2473 - probe_loss: 0.2473 - probe_accuracy: 0.9089 - val_loss: 0.3638 - val_probe_loss: 0.3638 - val_probe_accuracy: 0.8411\n",
      "Epoch 56/100\n",
      "29/29 [==============================] - 4s 124ms/step - loss: 0.2380 - probe_loss: 0.2380 - probe_accuracy: 0.9124 - val_loss: 0.3624 - val_probe_loss: 0.3624 - val_probe_accuracy: 0.8490\n",
      "Epoch 57/100\n",
      "29/29 [==============================] - 4s 127ms/step - loss: 0.2334 - probe_loss: 0.2334 - probe_accuracy: 0.9184 - val_loss: 0.3617 - val_probe_loss: 0.3617 - val_probe_accuracy: 0.8438\n",
      "Epoch 58/100\n",
      "29/29 [==============================] - 4s 128ms/step - loss: 0.2308 - probe_loss: 0.2308 - probe_accuracy: 0.9168 - val_loss: 0.3532 - val_probe_loss: 0.3532 - val_probe_accuracy: 0.8594\n",
      "Epoch 59/100\n",
      "29/29 [==============================] - 4s 134ms/step - loss: 0.2274 - probe_loss: 0.2274 - probe_accuracy: 0.9157 - val_loss: 0.3561 - val_probe_loss: 0.3561 - val_probe_accuracy: 0.8516\n",
      "Epoch 60/100\n",
      "29/29 [==============================] - 6s 212ms/step - loss: 0.2186 - probe_loss: 0.2186 - probe_accuracy: 0.9219 - val_loss: 0.3514 - val_probe_loss: 0.3514 - val_probe_accuracy: 0.8620\n",
      "Epoch 61/100\n",
      "29/29 [==============================] - 6s 203ms/step - loss: 0.2127 - probe_loss: 0.2127 - probe_accuracy: 0.9283 - val_loss: 0.3503 - val_probe_loss: 0.3503 - val_probe_accuracy: 0.8594\n",
      "Epoch 62/100\n",
      "29/29 [==============================] - 4s 125ms/step - loss: 0.2096 - probe_loss: 0.2096 - probe_accuracy: 0.9297 - val_loss: 0.3501 - val_probe_loss: 0.3501 - val_probe_accuracy: 0.8620\n",
      "Epoch 63/100\n",
      "29/29 [==============================] - 3s 118ms/step - loss: 0.2024 - probe_loss: 0.2024 - probe_accuracy: 0.9308 - val_loss: 0.3469 - val_probe_loss: 0.3469 - val_probe_accuracy: 0.8568\n",
      "Epoch 64/100\n",
      "29/29 [==============================] - 4s 117ms/step - loss: 0.1978 - probe_loss: 0.1978 - probe_accuracy: 0.9348 - val_loss: 0.3441 - val_probe_loss: 0.3441 - val_probe_accuracy: 0.8438\n",
      "Epoch 65/100\n",
      "29/29 [==============================] - 3s 114ms/step - loss: 0.1940 - probe_loss: 0.1940 - probe_accuracy: 0.9380 - val_loss: 0.3388 - val_probe_loss: 0.3388 - val_probe_accuracy: 0.8516\n",
      "Epoch 66/100\n",
      "29/29 [==============================] - 3s 117ms/step - loss: 0.1885 - probe_loss: 0.1885 - probe_accuracy: 0.9391 - val_loss: 0.3384 - val_probe_loss: 0.3384 - val_probe_accuracy: 0.8646\n",
      "Epoch 67/100\n",
      "29/29 [==============================] - 4s 127ms/step - loss: 0.1844 - probe_loss: 0.1844 - probe_accuracy: 0.9442 - val_loss: 0.3418 - val_probe_loss: 0.3418 - val_probe_accuracy: 0.8646\n",
      "Epoch 68/100\n",
      "29/29 [==============================] - 3s 114ms/step - loss: 0.1808 - probe_loss: 0.1808 - probe_accuracy: 0.9418 - val_loss: 0.3383 - val_probe_loss: 0.3383 - val_probe_accuracy: 0.8594\n",
      "Epoch 69/100\n",
      "29/29 [==============================] - 3s 113ms/step - loss: 0.1746 - probe_loss: 0.1746 - probe_accuracy: 0.9432 - val_loss: 0.3368 - val_probe_loss: 0.3368 - val_probe_accuracy: 0.8698\n",
      "Epoch 70/100\n",
      "29/29 [==============================] - 3s 114ms/step - loss: 0.1722 - probe_loss: 0.1722 - probe_accuracy: 0.9475 - val_loss: 0.3409 - val_probe_loss: 0.3409 - val_probe_accuracy: 0.8594\n",
      "Epoch 71/100\n",
      "29/29 [==============================] - 3s 115ms/step - loss: 0.1670 - probe_loss: 0.1670 - probe_accuracy: 0.9488 - val_loss: 0.3430 - val_probe_loss: 0.3430 - val_probe_accuracy: 0.8620\n",
      "Epoch 72/100\n",
      "29/29 [==============================] - 3s 116ms/step - loss: 0.1641 - probe_loss: 0.1641 - probe_accuracy: 0.9469 - val_loss: 0.3433 - val_probe_loss: 0.3433 - val_probe_accuracy: 0.8594\n",
      "Epoch 73/100\n",
      "29/29 [==============================] - 3s 114ms/step - loss: 0.1603 - probe_loss: 0.1603 - probe_accuracy: 0.9515 - val_loss: 0.3295 - val_probe_loss: 0.3295 - val_probe_accuracy: 0.8724\n",
      "Epoch 74/100\n",
      "29/29 [==============================] - 3s 115ms/step - loss: 0.1538 - probe_loss: 0.1538 - probe_accuracy: 0.9564 - val_loss: 0.3268 - val_probe_loss: 0.3268 - val_probe_accuracy: 0.8776\n",
      "Epoch 75/100\n",
      "29/29 [==============================] - 5s 160ms/step - loss: 0.1501 - probe_loss: 0.1501 - probe_accuracy: 0.9555 - val_loss: 0.3319 - val_probe_loss: 0.3319 - val_probe_accuracy: 0.8594\n",
      "Epoch 76/100\n",
      "29/29 [==============================] - 3s 116ms/step - loss: 0.1455 - probe_loss: 0.1455 - probe_accuracy: 0.9574 - val_loss: 0.3224 - val_probe_loss: 0.3224 - val_probe_accuracy: 0.8724\n",
      "Epoch 77/100\n",
      "29/29 [==============================] - 4s 140ms/step - loss: 0.1468 - probe_loss: 0.1468 - probe_accuracy: 0.9564 - val_loss: 0.3401 - val_probe_loss: 0.3401 - val_probe_accuracy: 0.8724\n",
      "Epoch 78/100\n",
      "29/29 [==============================] - 3s 114ms/step - loss: 0.1524 - probe_loss: 0.1524 - probe_accuracy: 0.9507 - val_loss: 0.3273 - val_probe_loss: 0.3273 - val_probe_accuracy: 0.8802\n",
      "Epoch 79/100\n",
      "29/29 [==============================] - 3s 113ms/step - loss: 0.1407 - probe_loss: 0.1407 - probe_accuracy: 0.9593 - val_loss: 0.3233 - val_probe_loss: 0.3233 - val_probe_accuracy: 0.8672\n",
      "Epoch 80/100\n",
      "29/29 [==============================] - 3s 113ms/step - loss: 0.1333 - probe_loss: 0.1333 - probe_accuracy: 0.9636 - val_loss: 0.3263 - val_probe_loss: 0.3263 - val_probe_accuracy: 0.8802\n",
      "Epoch 81/100\n",
      "29/29 [==============================] - 3s 113ms/step - loss: 0.1315 - probe_loss: 0.1315 - probe_accuracy: 0.9628 - val_loss: 0.3325 - val_probe_loss: 0.3325 - val_probe_accuracy: 0.8672\n",
      "Epoch 82/100\n",
      "29/29 [==============================] - 3s 112ms/step - loss: 0.1279 - probe_loss: 0.1279 - probe_accuracy: 0.9682 - val_loss: 0.3166 - val_probe_loss: 0.3166 - val_probe_accuracy: 0.8880\n",
      "Epoch 83/100\n",
      "29/29 [==============================] - 3s 113ms/step - loss: 0.1232 - probe_loss: 0.1232 - probe_accuracy: 0.9696 - val_loss: 0.3273 - val_probe_loss: 0.3273 - val_probe_accuracy: 0.8802\n",
      "Epoch 84/100\n",
      "29/29 [==============================] - 3s 113ms/step - loss: 0.1240 - probe_loss: 0.1240 - probe_accuracy: 0.9671 - val_loss: 0.3224 - val_probe_loss: 0.3224 - val_probe_accuracy: 0.8776\n",
      "Epoch 85/100\n",
      "29/29 [==============================] - 3s 112ms/step - loss: 0.1187 - probe_loss: 0.1187 - probe_accuracy: 0.9714 - val_loss: 0.3195 - val_probe_loss: 0.3195 - val_probe_accuracy: 0.8906\n",
      "Epoch 86/100\n",
      "29/29 [==============================] - 4s 124ms/step - loss: 0.1186 - probe_loss: 0.1186 - probe_accuracy: 0.9709 - val_loss: 0.3149 - val_probe_loss: 0.3149 - val_probe_accuracy: 0.8828\n",
      "Epoch 87/100\n",
      "29/29 [==============================] - 4s 132ms/step - loss: 0.1123 - probe_loss: 0.1123 - probe_accuracy: 0.9744 - val_loss: 0.3182 - val_probe_loss: 0.3182 - val_probe_accuracy: 0.8932\n",
      "Epoch 88/100\n",
      "29/29 [==============================] - 4s 129ms/step - loss: 0.1103 - probe_loss: 0.1103 - probe_accuracy: 0.9733 - val_loss: 0.3106 - val_probe_loss: 0.3106 - val_probe_accuracy: 0.8854\n",
      "Epoch 89/100\n",
      "29/29 [==============================] - 3s 117ms/step - loss: 0.1068 - probe_loss: 0.1068 - probe_accuracy: 0.9752 - val_loss: 0.3143 - val_probe_loss: 0.3143 - val_probe_accuracy: 0.8932\n",
      "Epoch 90/100\n",
      "29/29 [==============================] - 3s 118ms/step - loss: 0.1038 - probe_loss: 0.1038 - probe_accuracy: 0.9795 - val_loss: 0.3154 - val_probe_loss: 0.3154 - val_probe_accuracy: 0.8932\n",
      "Epoch 91/100\n",
      "29/29 [==============================] - 4s 124ms/step - loss: 0.1023 - probe_loss: 0.1023 - probe_accuracy: 0.9779 - val_loss: 0.3217 - val_probe_loss: 0.3217 - val_probe_accuracy: 0.8880\n",
      "Epoch 92/100\n",
      "29/29 [==============================] - 4s 123ms/step - loss: 0.1006 - probe_loss: 0.1006 - probe_accuracy: 0.9784 - val_loss: 0.3300 - val_probe_loss: 0.3300 - val_probe_accuracy: 0.8932\n",
      "Epoch 93/100\n",
      "29/29 [==============================] - 3s 119ms/step - loss: 0.0971 - probe_loss: 0.0971 - probe_accuracy: 0.9801 - val_loss: 0.3110 - val_probe_loss: 0.3110 - val_probe_accuracy: 0.8932\n",
      "Epoch 94/100\n",
      "29/29 [==============================] - 3s 120ms/step - loss: 0.0951 - probe_loss: 0.0951 - probe_accuracy: 0.9803 - val_loss: 0.3074 - val_probe_loss: 0.3074 - val_probe_accuracy: 0.8984\n",
      "Epoch 95/100\n",
      "29/29 [==============================] - 4s 123ms/step - loss: 0.0919 - probe_loss: 0.0919 - probe_accuracy: 0.9814 - val_loss: 0.3089 - val_probe_loss: 0.3089 - val_probe_accuracy: 0.8906\n",
      "Epoch 96/100\n",
      "29/29 [==============================] - 4s 125ms/step - loss: 0.0894 - probe_loss: 0.0894 - probe_accuracy: 0.9822 - val_loss: 0.3095 - val_probe_loss: 0.3095 - val_probe_accuracy: 0.8984\n",
      "Epoch 97/100\n",
      "29/29 [==============================] - 4s 139ms/step - loss: 0.0868 - probe_loss: 0.0868 - probe_accuracy: 0.9828 - val_loss: 0.3217 - val_probe_loss: 0.3217 - val_probe_accuracy: 0.8932\n",
      "Epoch 98/100\n",
      "29/29 [==============================] - 4s 139ms/step - loss: 0.0851 - probe_loss: 0.0851 - probe_accuracy: 0.9830 - val_loss: 0.3186 - val_probe_loss: 0.3186 - val_probe_accuracy: 0.8958\n",
      "Epoch 99/100\n",
      "29/29 [==============================] - 4s 134ms/step - loss: 0.0857 - probe_loss: 0.0857 - probe_accuracy: 0.9838 - val_loss: 0.3107 - val_probe_loss: 0.3107 - val_probe_accuracy: 0.8958\n",
      "Epoch 100/100\n",
      "29/29 [==============================] - 3s 115ms/step - loss: 0.0837 - probe_loss: 0.0837 - probe_accuracy: 0.9836 - val_loss: 0.3059 - val_probe_loss: 0.3059 - val_probe_accuracy: 0.9036\n",
      "Final test accuracy: 91.15\n"
     ]
    }
   ],
   "source": [
    "with nengo_dl.Simulator(net, minibatch_size=128, unroll_simulation=3, progress_bar=False) as sim:\n",
    "    sim.compile(\n",
    "        loss=tf.losses.BinaryCrossentropy(from_logits=True),\n",
    "        optimizer=tf.optimizers.Adam(),\n",
    "        metrics=['accuracy']\n",
    "    )\n",
    "    sim.keras_model.summary()\n",
    "    history = sim.fit(X_train, y_train_3, batch_size=128, epochs=100, validation_data=(X_val, y_val_3))\n",
    "    sim.save_params(\"./spikingLMU_params\")\n",
    "    \n",
    "    test_acc = sim.evaluate(X_test, y_test_3, verbose=0)[\"probe_accuracy\"]\n",
    "    print(f\"Final test accuracy: {test_acc * 100:.2f}\")"
   ]
  },
  {
   "cell_type": "code",
   "execution_count": 62,
   "metadata": {},
   "outputs": [
    {
     "name": "stdout",
     "output_type": "stream",
     "text": [
      "dict_keys(['loss', 'probe_loss', 'probe_accuracy', 'val_loss', 'val_probe_loss', 'val_probe_accuracy'])\n"
     ]
    },
    {
     "data": {
      "image/png": "[encoded data removed]",
      "text/plain": [
       "<Figure size 640x480 with 1 Axes>"
      ]
     },
     "metadata": {},
     "output_type": "display_data"
    }
   ],
   "source": [
    "# plot the training and validation loss\n",
    "# Get the training and validation loss history\n",
    "print(history.history.keys())\n",
    "\n",
    "# Plot the training and validation loss\n",
    "plt.plot(history.history['loss'], label='Training Loss')\n",
    "plt.plot(history.history['val_loss'], label='Validation Loss')\n",
    "plt.xlabel('Epoch')\n",
    "plt.ylabel('Loss')\n",
    "plt.legend()\n",
    "plt.show()"
   ]
  },
  {
   "attachments": {},
   "cell_type": "markdown",
   "metadata": {},
   "source": [
    "# Performance Eval"
   ]
  },
  {
   "cell_type": "code",
   "execution_count": 63,
   "metadata": {},
   "outputs": [
    {
     "name": "stdout",
     "output_type": "stream",
     "text": [
      "Model: \"keras_model\"\n",
      "__________________________________________________________________________________________________\n",
      " Layer (type)                   Output Shape         Param #     Connected to                     \n",
      "==================================================================================================\n",
      " node (InputLayer)              [(1, None, 92)]      0           []                               \n",
      "                                                                                                  \n",
      " n_steps (InputLayer)           [(1, 1)]             0           []                               \n",
      "                                                                                                  \n",
      " TensorGraph (TensorGraph)      [(1, None, 1),       13244       ['node[0][0]',                   \n",
      "                                 (1,)]                            'n_steps[0][0]']                \n",
      "                                                                                                  \n",
      "==================================================================================================\n",
      "Total params: 13,244\n",
      "Trainable params: 12,188\n",
      "Non-trainable params: 1,056\n",
      "__________________________________________________________________________________________________\n"
     ]
    },
    {
     "name": "stderr",
     "output_type": "stream",
     "text": [
      "2023-04-11 22:06:10.621755: I tensorflow/core/grappler/optimizers/custom_graph_optimizer_registry.cc:113] Plugin optimizer for device_type GPU is enabled.\n"
     ]
    },
    {
     "name": "stdout",
     "output_type": "stream",
     "text": [
      "466/466 [==============================] - 14s 28ms/step\n",
      "              precision    recall  f1-score   support\n",
      "\n",
      "           0       0.89      0.94      0.91       233\n",
      "           1       0.93      0.88      0.91       233\n",
      "\n",
      "    accuracy                           0.91       466\n",
      "   macro avg       0.91      0.91      0.91       466\n",
      "weighted avg       0.91      0.91      0.91       466\n",
      "\n"
     ]
    },
    {
     "name": "stderr",
     "output_type": "stream",
     "text": [
      "2023-04-11 22:06:24.626292: I tensorflow/core/grappler/optimizers/custom_graph_optimizer_registry.cc:113] Plugin optimizer for device_type GPU is enabled.\n"
     ]
    },
    {
     "name": "stdout",
     "output_type": "stream",
     "text": [
      "Final test accuracy: 90.99\n"
     ]
    }
   ],
   "source": [
    "with nengo_dl.Simulator(net, minibatch_size=y_test[0], unroll_simulation=3, progress_bar=False) as sim:\n",
    "    sim.compile(\n",
    "        loss=tf.losses.BinaryCrossentropy(from_logits=True),\n",
    "        optimizer=tf.optimizers.Adam(),\n",
    "        metrics=['accuracy']\n",
    "    )\n",
    "    sim.keras_model.summary()\n",
    "    sim.load_params(\"./spikingLMU_params\")\n",
    "\n",
    "    test_pred = sim.predict(X_test)\n",
    "    # print(list(test_pred.values())[0].shape)\n",
    "\n",
    "    y_pred = (list(test_pred.values())[0].flatten()>0.5).astype(int)\n",
    "    print(classification_report(y_test, y_pred))\n",
    "    \n",
    "    # evaluate the model on the test set\n",
    "    test_acc = sim.evaluate(X_test, y_test_3, verbose=0)[\"probe_accuracy\"]\n",
    "    print(f\"Final test accuracy: {test_acc * 100:.2f}\")"
   ]
  }
 ],
 "metadata": {
  "kernelspec": {
   "display_name": "torch",
   "language": "python",
   "name": "python3"
  },
  "language_info": {
   "codemirror_mode": {
    "name": "ipython",
    "version": 3
   },
   "file_extension": ".py",
   "mimetype": "text/x-python",
   "name": "python",
   "nbconvert_exporter": "python",
   "pygments_lexer": "ipython3",
   "version": "3.9.15"
  },
  "orig_nbformat": 4
 },
 "nbformat": 4,
 "nbformat_minor": 2
}
